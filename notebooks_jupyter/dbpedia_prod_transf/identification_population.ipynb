{
 "cells": [
  {
   "cell_type": "code",
   "execution_count": 187,
   "id": "9f7b36c5-f965-4d36-ac75-09527d7e5477",
   "metadata": {},
   "outputs": [],
   "source": [
    "from difflib import SequenceMatcher\n",
    "import sqlite3 as sql\n",
    "import re"
   ]
  },
  {
   "cell_type": "markdown",
   "id": "65b83fca-1d7e-4e79-9d4a-a5453405652f",
   "metadata": {},
   "source": [
    "### Fuzzywuzzy documentation\n",
    "\n",
    "* <https://pypi.org/project/fuzzywuzzy/>\n",
    "* <https://anaconda.org/conda-forge/fuzzywuzzy>\n",
    "\n",
    "v. 0.18.0 depuis novembre 2020\n"
   ]
  },
  {
   "cell_type": "code",
   "execution_count": 256,
   "id": "abae1fb2-161d-44c2-a7f9-0dee8cc6d0b0",
   "metadata": {},
   "outputs": [],
   "source": [
    "from fuzzywuzzy import fuzz"
   ]
  },
  {
   "cell_type": "code",
   "execution_count": 261,
   "id": "8edd9cb8-b9c0-4152-a79d-07673f66fce8",
   "metadata": {},
   "outputs": [],
   "source": [
    "a = 'Johannes Kepler'\n",
    "b = 'Kepler Johannes'"
   ]
  },
  {
   "cell_type": "code",
   "execution_count": 262,
   "id": "53c60deb-f1d5-45e9-9f02-c98a576e928f",
   "metadata": {},
   "outputs": [
    {
     "data": {
      "text/plain": [
       "(53, 100, 100)"
      ]
     },
     "execution_count": 262,
     "metadata": {},
     "output_type": "execute_result"
    }
   ],
   "source": [
    "fuzz.ratio(a, b), fuzz.token_sort_ratio(a,b), fuzz.token_set_ratio(a,b)"
   ]
  },
  {
   "cell_type": "code",
   "execution_count": null,
   "id": "8a81b0f5-a4c3-444d-bbeb-7b7ef932871b",
   "metadata": {},
   "outputs": [],
   "source": []
  },
  {
   "cell_type": "code",
   "execution_count": null,
   "id": "fc2395a8-dab8-43fc-bfe9-cac55defbcbb",
   "metadata": {},
   "outputs": [],
   "source": []
  },
  {
   "cell_type": "code",
   "execution_count": null,
   "id": "ec67a9ef-624e-45c6-8e62-3c1b0efc5b15",
   "metadata": {},
   "outputs": [],
   "source": []
  },
  {
   "cell_type": "code",
   "execution_count": 15,
   "id": "253a0a81-3b7f-44e9-93f0-c4cfbdb38629",
   "metadata": {},
   "outputs": [
    {
     "data": {
      "text/plain": [
       "0.5333333333333333"
      ]
     },
     "execution_count": 15,
     "metadata": {},
     "output_type": "execute_result"
    }
   ],
   "source": [
    "s = SequenceMatcher(None, a, b)\n",
    "s.ratio()"
   ]
  },
  {
   "cell_type": "code",
   "execution_count": 24,
   "id": "b27cd849-51e4-451b-82bc-7ad39cb3c6d7",
   "metadata": {},
   "outputs": [
    {
     "data": {
      "text/plain": [
       "'Joh'"
      ]
     },
     "execution_count": 24,
     "metadata": {},
     "output_type": "execute_result"
    }
   ],
   "source": [
    "a[0:3]"
   ]
  },
  {
   "cell_type": "code",
   "execution_count": 25,
   "id": "8792723f-4104-4694-ba71-b6c660839870",
   "metadata": {},
   "outputs": [],
   "source": [
    "def add_underscores(input_string):\n",
    "    res = '__' + input_string + '__'\n",
    "    return res"
   ]
  },
  {
   "cell_type": "code",
   "execution_count": 27,
   "id": "b7e73a4f-9d52-4f43-a44d-3c2d81255faf",
   "metadata": {},
   "outputs": [
    {
     "data": {
      "text/plain": [
       "'__Johannes Kepler__'"
      ]
     },
     "execution_count": 27,
     "metadata": {},
     "output_type": "execute_result"
    }
   ],
   "source": [
    "add_underscores(a)"
   ]
  },
  {
   "cell_type": "code",
   "execution_count": 64,
   "id": "353bba8c-fb95-4fd9-b1d5-7a8cddfa509a",
   "metadata": {},
   "outputs": [
    {
     "data": {
      "text/plain": [
       "(19, 19)"
      ]
     },
     "execution_count": 64,
     "metadata": {},
     "output_type": "execute_result"
    }
   ],
   "source": [
    "aa = add_underscores(a)\n",
    "len(aa)\n",
    "bb = add_underscores(b)\n",
    "len(bb), len(aa)"
   ]
  },
  {
   "cell_type": "code",
   "execution_count": 36,
   "id": "82c99d01-ac30-42cc-9049-a8f78afba93f",
   "metadata": {},
   "outputs": [
    {
     "name": "stdout",
     "output_type": "stream",
     "text": [
      "['__J', '_Jo', 'Joh', 'oha', 'han', 'ann', 'nne', 'nes', 'es ', 's K', ' Ke', 'Kep', 'epl', 'ple', 'ler', 'er_', 'r__']\n"
     ]
    }
   ],
   "source": [
    "v = []\n",
    "i = 0\n",
    "while i < len(aa)-2:\n",
    "    ss = aa[i: i+3]\n",
    "    v.append(ss)cv\n",
    "    i += 1\n",
    "print(v)"
   ]
  },
  {
   "cell_type": "code",
   "execution_count": 158,
   "id": "3e33a4ef-c0d4-46cc-a95c-d8715b6c1d4a",
   "metadata": {},
   "outputs": [],
   "source": [
    "def trim_strip(s): \n",
    "    arr = sorted([a.capitalize().strip(',').strip('-') for a in s.split()])\n",
    "    return ''.join(sorted([b.upper()  for b in arr]))\n",
    "    "
   ]
  },
  {
   "cell_type": "code",
   "execution_count": 159,
   "id": "ed03005d-4507-4528-831c-8468e1cb9bad",
   "metadata": {},
   "outputs": [
    {
     "data": {
      "text/plain": [
       "'ATTOBUCCIDAMMI'"
      ]
     },
     "execution_count": 159,
     "metadata": {},
     "output_type": "execute_result"
    }
   ],
   "source": [
    "a = trim_strip('bucci   , - dammi, atto')\n",
    "a"
   ]
  },
  {
   "cell_type": "code",
   "execution_count": 162,
   "id": "da66b4ad-ba03-42d1-83cf-3ae614fbf0a0",
   "metadata": {},
   "outputs": [
    {
     "data": {
      "text/plain": [
       "1.0"
      ]
     },
     "execution_count": 162,
     "metadata": {},
     "output_type": "execute_result"
    }
   ],
   "source": [
    "s = SequenceMatcher(None, trim_strip(a), trim_strip(b))\n",
    "s.ratio()"
   ]
  },
  {
   "cell_type": "code",
   "execution_count": 155,
   "id": "6ea72f31-82ab-4645-a5a9-56fb7a47375e",
   "metadata": {},
   "outputs": [
    {
     "data": {
      "text/plain": [
       "['A', 'A', 'B', 'C', 'C', 'D', 'I', 'I', 'M', 'M', 'O', 'T', 'T', 'U']"
      ]
     },
     "execution_count": 155,
     "metadata": {},
     "output_type": "execute_result"
    }
   ],
   "source": [
    "ai= sorted([b.upper()  for b in a])\n",
    "ai"
   ]
  },
  {
   "cell_type": "code",
   "execution_count": 146,
   "id": "98ed2d83-18df-4d5e-9f6c-715989eacea3",
   "metadata": {},
   "outputs": [
    {
     "name": "stdout",
     "output_type": "stream",
     "text": [
      "['', 'Atto', 'Bucci', 'Dammi']\n"
     ]
    }
   ],
   "source": [
    "c = trim_strip(' - dammi, bucci atto')\n",
    "ci= sorted([b.upper() for b in c])"
   ]
  },
  {
   "cell_type": "code",
   "execution_count": null,
   "id": "89451a0e-6799-4604-921d-064c545b2bf5",
   "metadata": {},
   "outputs": [],
   "source": []
  },
  {
   "cell_type": "code",
   "execution_count": 105,
   "id": "49b141d9-da4c-4225-bb17-4285f1111ff0",
   "metadata": {},
   "outputs": [],
   "source": [
    "def compare_trigrams(s1, s2):\n",
    "\n",
    "    str1= trim_strip(s1)\n",
    "    str2= trim_strip(s2)\n",
    "    \n",
    "    v = []\n",
    "    i = 0\n",
    "    while i < len(str1)-2:\n",
    "        ss = str1[i: i+3]\n",
    "        v.append(ss)\n",
    "        i += 1\n",
    "        v.sort()\n",
    "    u = []\n",
    "    i = 0\n",
    "    while i < len(str2)-2:\n",
    "        ss = str2[i: i+3]\n",
    "        u.append(ss)\n",
    "        i += 1\n",
    "        u.sort()\n",
    "        \n",
    "    print(u)\n",
    "    print(v)\n",
    "\n",
    "    if v == u:\n",
    "        res = 1\n",
    "    else:\n",
    "        res = list(set(v)- set(u))\n",
    "    return res"
   ]
  },
  {
   "cell_type": "code",
   "execution_count": 106,
   "id": "b35e6e40-845b-4200-aafc-3c28c37b2402",
   "metadata": {},
   "outputs": [
    {
     "name": "stdout",
     "output_type": "stream",
     "text": [
      "['Joh', 'Kep', 'ann', 'epl', 'erJ', 'han', 'ler', 'nes', 'nne', 'oha', 'ple', 'rJo']\n",
      "['Joh', 'Kep', 'ann', 'epl', 'esK', 'han', 'ler', 'nes', 'nne', 'oha', 'ple', 'sKe']\n"
     ]
    },
    {
     "data": {
      "text/plain": [
       "['esK', 'sKe']"
      ]
     },
     "execution_count": 106,
     "metadata": {},
     "output_type": "execute_result"
    }
   ],
   "source": [
    "compare_trigrams(a, b)"
   ]
  },
  {
   "cell_type": "code",
   "execution_count": 77,
   "id": "810065b0-93b3-42d3-b28d-f015296cff09",
   "metadata": {},
   "outputs": [],
   "source": [
    "s = 'Kepler ,  joha '"
   ]
  },
  {
   "cell_type": "code",
   "execution_count": 78,
   "id": "34973c91-d0a2-46c6-9980-a77a7fa1923b",
   "metadata": {},
   "outputs": [
    {
     "data": {
      "text/plain": [
       "'Kepler'"
      ]
     },
     "execution_count": 78,
     "metadata": {},
     "output_type": "execute_result"
    }
   ],
   "source": [
    "s.split()[0].strip(',')"
   ]
  },
  {
   "cell_type": "code",
   "execution_count": 81,
   "id": "eebf18df-6960-4a26-9c22-bcb4d6943935",
   "metadata": {},
   "outputs": [
    {
     "data": {
      "text/plain": [
       "'Keplerjoha'"
      ]
     },
     "execution_count": 81,
     "metadata": {},
     "output_type": "execute_result"
    }
   ],
   "source": [
    "''.join([a.strip(',') for a in s.split()])"
   ]
  },
  {
   "cell_type": "code",
   "execution_count": 206,
   "id": "8f7ce2d3-5ebc-4cd2-9e40-d4fbee7bc507",
   "metadata": {},
   "outputs": [
    {
     "data": {
      "text/plain": [
       "0.5333333333333333"
      ]
     },
     "execution_count": 206,
     "metadata": {},
     "output_type": "execute_result"
    }
   ],
   "source": [
    "s = SequenceMatcher(None, a, b)\n",
    "s.ratio()"
   ]
  },
  {
   "cell_type": "code",
   "execution_count": 46,
   "id": "fd36f3b8-084d-4bf5-9435-3a2b44584dc7",
   "metadata": {},
   "outputs": [],
   "source": [
    "trigrams = lambda a, n : zip(*[a[i:] for i in range(n)])"
   ]
  },
  {
   "cell_type": "code",
   "execution_count": 55,
   "id": "320681de-3f3f-443d-982a-759b3d1549f9",
   "metadata": {},
   "outputs": [
    {
     "data": {
      "text/plain": [
       "[('K', 'e', 'p'),\n",
       " ('e', 'p', 'l'),\n",
       " ('p', 'l', 'e'),\n",
       " ('l', 'e', 'r'),\n",
       " ('e', 'r', ','),\n",
       " ('r', ',', ' '),\n",
       " (',', ' ', ' '),\n",
       " (' ', ' ', 'j'),\n",
       " (' ', 'j', 'o'),\n",
       " ('j', 'o', 'h'),\n",
       " ('o', 'h', 'a'),\n",
       " ('h', 'a', ' ')]"
      ]
     },
     "execution_count": 55,
     "metadata": {},
     "output_type": "execute_result"
    }
   ],
   "source": [
    "[(s) for s in trigrams(s,3)]"
   ]
  },
  {
   "cell_type": "markdown",
   "id": "8366d706-fe66-4515-acc4-bfc0a2e2b074",
   "metadata": {},
   "source": [
    "# Interroger la base de données SQLite"
   ]
  },
  {
   "cell_type": "code",
   "execution_count": 164,
   "id": "b11365c0-fef9-4085-a9a3-9aef485a5545",
   "metadata": {},
   "outputs": [
    {
     "data": {
      "text/plain": [
       "<sqlite3.Connection at 0x7fb9f262c4e0>"
      ]
     },
     "execution_count": 164,
     "metadata": {},
     "output_type": "execute_result"
    }
   ],
   "source": [
    "db = '../data/generic_database.sqlite'\n",
    "cn = sql.connect(db)\n",
    "cn"
   ]
  },
  {
   "cell_type": "code",
   "execution_count": 238,
   "id": "deab3c6f-eee4-4a3c-b6b3-a8f59b086dc8",
   "metadata": {
    "tags": []
   },
   "outputs": [],
   "source": [
    "query = '''\n",
    "SELECT st1.pk_statement, st2.pk_statement, st1.text_value, st2.numeric_value\n",
    "FROM statement st1, statement st2\n",
    "WHERE st1.import_metadata = '20221204_5'\n",
    "AND st2.import_metadata = '20221210_1'\n",
    "AND st1.subject_uri = st2.subject_uri\n",
    "--LIMIT 5\n",
    "'''"
   ]
  },
  {
   "cell_type": "code",
   "execution_count": 239,
   "id": "cd3bce2a-f2cd-4082-b8f6-f3450e8531bc",
   "metadata": {},
   "outputs": [],
   "source": [
    "cur = cn.cursor()\n",
    "cur.execute(query)\n",
    "rows = cur.fetchall()\n",
    "\n",
    "bnf = []\n",
    "for row in rows:\n",
    "    # print(row)\n",
    "    bnf.append(row)"
   ]
  },
  {
   "cell_type": "code",
   "execution_count": 240,
   "id": "6530bef4-a439-4598-ad22-50d21aefaca1",
   "metadata": {},
   "outputs": [
    {
     "data": {
      "text/plain": [
       "([(842, 3406, 'François Para Du Phanjas', 1724),\n",
       "  (843, 3430, 'Jean-Baptiste de Laborde', 1730),\n",
       "  (844, 2651, 'Johannes Werner', 1468)],\n",
       " 1079)"
      ]
     },
     "execution_count": 240,
     "metadata": {},
     "output_type": "execute_result"
    }
   ],
   "source": [
    "bnf[:3], len(bnf)"
   ]
  },
  {
   "cell_type": "code",
   "execution_count": 215,
   "id": "28b55c5e-e05b-4d66-821c-98a6292c38a4",
   "metadata": {},
   "outputs": [],
   "source": [
    "stg = \"Robert Hamilton (economist)\""
   ]
  },
  {
   "cell_type": "code",
   "execution_count": 216,
   "id": "9b2b9d56-9419-4f6b-8a17-94fb38ef57e2",
   "metadata": {},
   "outputs": [
    {
     "data": {
      "text/plain": [
       "'economist'"
      ]
     },
     "execution_count": 216,
     "metadata": {},
     "output_type": "execute_result"
    }
   ],
   "source": [
    "stg[stg.find(\"(\")+1:stg.find(\")\")]"
   ]
  },
  {
   "cell_type": "code",
   "execution_count": 219,
   "id": "86522d3c-fec5-44ec-a41d-07fbe038a862",
   "metadata": {},
   "outputs": [
    {
     "data": {
      "text/plain": [
       "'Robert Hamilton '"
      ]
     },
     "execution_count": 219,
     "metadata": {},
     "output_type": "execute_result"
    }
   ],
   "source": [
    "stg[0:stg.find(\"(\")]"
   ]
  },
  {
   "cell_type": "code",
   "execution_count": null,
   "id": "d4739811-8193-41e6-88a5-144077afea16",
   "metadata": {},
   "outputs": [],
   "source": []
  },
  {
   "cell_type": "code",
   "execution_count": 247,
   "id": "487f1fdd-6364-4ce6-8bfd-18258b7824c5",
   "metadata": {
    "tags": []
   },
   "outputs": [],
   "source": [
    "query = '''\n",
    "SELECT st1.pk_statement, st2.pk_statement, st1.text_value, st2.numeric_value\n",
    "FROM statement st1, statement st2\n",
    "WHERE st1.import_metadata = '20221204_3'\n",
    "AND st2.import_metadata = '20221204_1'\n",
    "AND st1.subject_uri = st2.subject_uri\n",
    "AND st2.pk_statement NOT IN (SELECT st2.pk_statement\n",
    "FROM statement st1, statement st2\n",
    "WHERE st1.import_metadata = '20221204_4'\n",
    "AND st2.import_metadata = '20221204_1'\n",
    "AND st1.subject_uri = st2.subject_uri)\n",
    "--LIMIT 5\n",
    "'''"
   ]
  },
  {
   "cell_type": "code",
   "execution_count": 248,
   "id": "47039ef1-e5ef-434f-a0f5-5aa0206c531b",
   "metadata": {},
   "outputs": [],
   "source": [
    "cur = cn.cursor()\n",
    "cur.execute(query)\n",
    "rows = cur.fetchall()\n",
    "\n",
    "dbpedia = []\n",
    "for row in rows:\n",
    "    # print(row)\n",
    "    dbpedia.append(row)"
   ]
  },
  {
   "cell_type": "code",
   "execution_count": 249,
   "id": "19deda69-b984-4a69-b80f-35d6b2a57cf7",
   "metadata": {},
   "outputs": [
    {
     "data": {
      "text/plain": [
       "([(295, 3, 'Johannes Engel', 1453),\n",
       "  (301, 9, 'Matteo Tafuri', 1492),\n",
       "  (320, 28, 'Rudolph Snellius', 1546)],\n",
       " 43)"
      ]
     },
     "execution_count": 249,
     "metadata": {},
     "output_type": "execute_result"
    }
   ],
   "source": [
    "dbpedia[:3], len(dbpedia)"
   ]
  },
  {
   "cell_type": "code",
   "execution_count": null,
   "id": "8611abc0-ebe3-4f69-881e-c99a1e16392e",
   "metadata": {},
   "outputs": [],
   "source": [
    "\n"
   ]
  },
  {
   "cell_type": "code",
   "execution_count": null,
   "id": "1be8f789-5984-4ba8-80e9-fd1a7d9fce9d",
   "metadata": {},
   "outputs": [],
   "source": []
  },
  {
   "cell_type": "code",
   "execution_count": 159,
   "id": "64f3d8b4-7c18-401a-9a67-53900db9b7ee",
   "metadata": {},
   "outputs": [
    {
     "data": {
      "text/plain": [
       "'ATTOBUCCIDAMMI'"
      ]
     },
     "execution_count": 159,
     "metadata": {},
     "output_type": "execute_result"
    }
   ],
   "source": [
    "a = trim_strip('bucci   , - dammi, atto')\n",
    "a"
   ]
  },
  {
   "cell_type": "code",
   "execution_count": 162,
   "id": "50fe3b8d-e61e-4531-a391-7fc9a48939d8",
   "metadata": {},
   "outputs": [
    {
     "data": {
      "text/plain": [
       "1.0"
      ]
     },
     "execution_count": 162,
     "metadata": {},
     "output_type": "execute_result"
    }
   ],
   "source": [
    "s = SequenceMatcher(None, trim_strip(a), trim_strip(b))\n",
    "s.ratio()"
   ]
  },
  {
   "cell_type": "code",
   "execution_count": 162,
   "id": "0d643ed6-68d0-43e8-9c7f-7966861f477f",
   "metadata": {},
   "outputs": [
    {
     "data": {
      "text/plain": [
       "1.0"
      ]
     },
     "execution_count": 162,
     "metadata": {},
     "output_type": "execute_result"
    }
   ],
   "source": [
    "s = SequenceMatcher(None, trim_strip(a), trim_strip(b))\n",
    "s.ratio()"
   ]
  },
  {
   "cell_type": "code",
   "execution_count": 255,
   "id": "96fc0f4c-c8ed-48fd-a619-2b172c28df7d",
   "metadata": {},
   "outputs": [
    {
     "name": "stdout",
     "output_type": "stream",
     "text": [
      "Christopher Heydon Christopher Wren 0.8125\n",
      "Benjamin Bramer Benjamin Bramer 1.0\n",
      "Magnus Celsius Magnus Celsius 1.0\n",
      "Francisco de Borja Garção Stockler Francisco de Borja Garção Stockler 1.0\n",
      "Luca de Samuele Cagnazzi Luca Cagnazzi de Samuele 1.0\n",
      "Vincenzo Brunacci Vincenzo Brunacci 1.0\n"
     ]
    }
   ],
   "source": [
    "result = []\n",
    "\n",
    "for i in dbpedia:\n",
    "    a = i[2]\n",
    "    for j in bnf:\n",
    "        b = j[2]\n",
    "        s = SequenceMatcher(None, trim_strip(a), trim_strip(b))\n",
    "        r = s.ratio()\n",
    "        if r > 0.8:\n",
    "            print(a, b, r)\n",
    "        "
   ]
  },
  {
   "cell_type": "code",
   "execution_count": null,
   "id": "88800823-1bd2-4db5-b075-2eaeea14360d",
   "metadata": {},
   "outputs": [],
   "source": []
  },
  {
   "cell_type": "code",
   "execution_count": null,
   "id": "85e3b863-d7d4-4fb0-b2f1-e323be4d6d5a",
   "metadata": {},
   "outputs": [],
   "source": [
    "cn.close()"
   ]
  },
  {
   "cell_type": "code",
   "execution_count": null,
   "id": "758f8c4b-9c1a-4b67-9e8b-9c2fee7a0813",
   "metadata": {},
   "outputs": [],
   "source": []
  }
 ],
 "metadata": {
  "kernelspec": {
   "display_name": "HTML XML",
   "language": "python",
   "name": "py39_html_xml"
  },
  "language_info": {
   "codemirror_mode": {
    "name": "ipython",
    "version": 3
   },
   "file_extension": ".py",
   "mimetype": "text/x-python",
   "name": "python",
   "nbconvert_exporter": "python",
   "pygments_lexer": "ipython3",
   "version": "3.9.10"
  }
 },
 "nbformat": 4,
 "nbformat_minor": 5
}
