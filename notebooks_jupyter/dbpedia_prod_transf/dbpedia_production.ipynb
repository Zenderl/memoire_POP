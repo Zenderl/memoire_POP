{
 "cells": [
  {
   "cell_type": "markdown",
   "id": "productive-ridge",
   "metadata": {},
   "source": [
    "# Insertion des données de DBPedia dans la base de données SQLite locale"
   ]
  },
  {
   "cell_type": "markdown",
   "id": "palestinian-wrapping",
   "metadata": {},
   "source": [
    "### Importer les librairies à utiliser"
   ]
  },
  {
   "cell_type": "code",
   "execution_count": 1,
   "id": "intellectual-michigan",
   "metadata": {},
   "outputs": [],
   "source": [
    "from SPARQLWrapper import SPARQLWrapper, SPARQLWrapper2, JSON, TURTLE, XML, RDFXML\n",
    "import pandas as pd\n",
    "import matplotlib.pyplot as plt"
   ]
  },
  {
   "cell_type": "code",
   "execution_count": 2,
   "id": "continental-maximum",
   "metadata": {},
   "outputs": [],
   "source": [
    "import pprint\n",
    "import csv\n",
    "import ast\n",
    "import sys\n",
    "\n",
    "\n",
    "from collections import Counter\n",
    "from operator import itemgetter\n",
    "\n",
    "import sqlite3 as sql\n",
    "import time\n",
    "\n",
    "from importlib import reload\n",
    "from shutil import copyfile\n",
    "\n",
    "import re"
   ]
  },
  {
   "cell_type": "code",
   "execution_count": 7,
   "id": "harmful-electricity",
   "metadata": {},
   "outputs": [],
   "source": [
    "### Importer un module de fonctions crée ad hoc\n",
    "## ATTENTION : le fichier 'sparql_functions.py' doit se trouver \n",
    "#   dans le même dossier que le présent carnet Jupyter afin que l'importation\n",
    "#   fonctionne correctement\n",
    "\n",
    "# Add parent directory to the path\n",
    "sys.path.insert(0, '..')\n",
    "\n",
    "### If you want to add the parent-parent directory,\n",
    "#sys.path.insert(0, '../..')\n",
    "\n",
    "\n",
    "\n",
    "import sparql_functions as spqf"
   ]
  },
  {
   "cell_type": "code",
   "execution_count": 8,
   "id": "driving-wallace",
   "metadata": {},
   "outputs": [
    {
     "data": {
      "text/plain": [
       "<module 'sparql_functions' from '/home/francesco/shared_files/python_notebooks/astronomers/notebooks_jupyter/dbpedia_prod_transf/../sparql_functions.py'>"
      ]
     },
     "execution_count": 8,
     "metadata": {},
     "output_type": "execute_result"
    }
   ],
   "source": [
    "### Recharger le module après modification des fonctions dans le fichier du module\n",
    "# désactivé # reload(spqf)"
   ]
  },
  {
   "cell_type": "markdown",
   "id": "missing-divorce",
   "metadata": {},
   "source": [
    "### Versionnement manuel de la base de donnée des requêtes\n",
    "\n",
    "Cette opération créé une copie de la base de données identifiée par un _timestamp_. À utiliser avant toute opération significative sur la base de données (modification de la structure, imports par des scripts Python, etc.)"
   ]
  },
  {
   "cell_type": "code",
   "execution_count": 4,
   "id": "latest-traveler",
   "metadata": {},
   "outputs": [],
   "source": [
    "db = 'data/sparql_queries.db'"
   ]
  },
  {
   "cell_type": "code",
   "execution_count": 5,
   "id": "direct-doubt",
   "metadata": {},
   "outputs": [
    {
     "data": {
      "text/plain": [
       "'20210513_160213'"
      ]
     },
     "execution_count": 5,
     "metadata": {},
     "output_type": "execute_result"
    }
   ],
   "source": [
    "### Fonction qui récupère et met en forme le temps au moment de l'exécution\n",
    "\n",
    "# définition\n",
    "def timestamp_formatted_for_file_name():\n",
    "    is_now = time.strftime('%Y%m%d_%H%M%S')\n",
    "    return is_now\n",
    "\n",
    "# exécution\n",
    "timestamp_formatted_for_file_name()"
   ]
  },
  {
   "cell_type": "code",
   "execution_count": 6,
   "id": "phantom-tenant",
   "metadata": {},
   "outputs": [],
   "source": [
    "### Définir les adresses des fichiers, l'existant et celui à créer\n",
    "db = 'data/sparql_queries.db'\n",
    "\n",
    "##  Noter que la différence de suffixe, en soi totalement arbitraire, \n",
    "#  dépend du fait que dans la configuration de .gitignore, .sqlite est exclu du verisonnement GIT\n",
    "#  contrairement à .db qui est versionné\n",
    "timestamped_db_copy = 'data/sparql_queries_' + timestamp_formatted_for_file_name() + '.sqlite'"
   ]
  },
  {
   "cell_type": "code",
   "execution_count": 7,
   "id": "supreme-notice",
   "metadata": {},
   "outputs": [
    {
     "data": {
      "text/plain": [
       "'data/sparql_queries_20210513_160214.sqlite'"
      ]
     },
     "execution_count": 7,
     "metadata": {},
     "output_type": "execute_result"
    }
   ],
   "source": [
    "### Créer une copie de sauvegarde avec timestamp du fichier (versionnement manuel)\n",
    "# ATTENTION : la base de données doit exister à l'endroit indiqué !\n",
    "## Cette requête n'est utile que si des modifications en écriture vont être apportées à la base de données,\n",
    "# afint de préserver le dernier état avant modification\n",
    "\n",
    "## Documentation:\n",
    "# https://docs.python.org/3/library/shutil.htmlcopied_db = copyfile(original_db, timestamped_db_copy)\n",
    "\n",
    "copied_db = copyfile(db, timestamped_db_copy)\n",
    "copied_db"
   ]
  },
  {
   "cell_type": "markdown",
   "id": "certain-moderator",
   "metadata": {},
   "source": [
    "## Exécuter une requête SPARQL stockée dans la base de données"
   ]
  },
  {
   "cell_type": "code",
   "execution_count": 28,
   "id": "following-wonder",
   "metadata": {},
   "outputs": [],
   "source": [
    "### Définir la ligne de la base de données à utiliser (inspécter préalablement la base de données)\n",
    "pk_query = 22\n",
    "\n",
    "# connnexion à la base de données\n",
    "original_db = 'data/sparql_queries.db'\n",
    "conn = sql.connect(original_db)\n",
    "\n",
    "### exécuter la requëte sur la base de donées SQLite pour récupérer les valeurs que contient la ligne\n",
    "c = conn.cursor()\n",
    "c.execute('SELECT * FROM query WHERE pk_query = ?', [pk_query]) ### a list around argument is needed for a string longer then one\n",
    "#c.execute('SELECT * FROM query WHERE pk_query = 10')\n",
    "\n",
    "rc = c.fetchone()\n",
    "\n",
    "# fermer la connexion\n",
    "conn.close()\n",
    "\n",
    "# imprimer et inspecter le résultat\n",
    "# rc\n"
   ]
  },
  {
   "cell_type": "code",
   "execution_count": 29,
   "id": "analyzed-checklist",
   "metadata": {},
   "outputs": [
    {
     "name": "stdout",
     "output_type": "stream",
     "text": [
      "Champs (fields) des économistes (dbo)\n",
      "-----\n",
      "https://dbpedia.org/sparql\n",
      "-----\n",
      "PREFIX  dbo:  <http://dbpedia.org/ontology/>\n",
      "PREFIX  dbp:  <http://dbpedia.org/property/>\n",
      "PREFIX  dbr:  <http://dbpedia.org/resource/>\n",
      "PREFIX  yago: <http://dbpedia.org/class/yago/>\n",
      "\n",
      "SELECT DISTINCT  ?person  STR(?field) \n",
      " \n",
      "WHERE\n",
      "  {   ?person dbo:field ?field\n",
      " { ?person  a                     dbo:Economist }\n",
      "    UNION\n",
      "      { ?person  dbp:profession  dbr:Economist }\n",
      "    UNION\n",
      "      { ?person a yago:Economist110043643}       \n",
      "    UNION\n",
      "      { ?person  dbp:occupation  dbr:Economist }\n",
      "    UNION\n",
      "      { ?person  dbp:field  dbr:Economist }\n",
      "    UNION\n",
      "      { ?person  dbp:fields  dbr:Economist }\n",
      "    UNION\n",
      "      { ?person  dbp:discipline  dbr:Economist }\n",
      "    UNION\n",
      "      { ?person  dbo:profession  dbr:Economist }\n",
      "    UNION\n",
      "      { ?person  dbo:occupation  dbr:Economist }\n",
      "    UNION\n",
      "      { ?person  dbo:academicDiscipline  dbr:Economist }\n",
      "\n",
      "\n",
      "\n",
      "}\n",
      "  ORDER BY ?person\n"
     ]
    }
   ],
   "source": [
    "print(rc[2] +  \"\\n-----\\n\" + rc[4] +  \"\\n-----\\n\" + rc[5])"
   ]
  },
  {
   "cell_type": "markdown",
   "id": "affected-waterproof",
   "metadata": {},
   "source": [
    "### Exécuter les requêtes SPARQL en utilisant les fonctions-utilisateur"
   ]
  },
  {
   "cell_type": "code",
   "execution_count": 30,
   "id": "increased-anchor",
   "metadata": {
    "tags": []
   },
   "outputs": [
    {
     "name": "stdout",
     "output_type": "stream",
     "text": [
      "<class 'dict'>\n"
     ]
    }
   ],
   "source": [
    "### Exécuter la requête SPARQL enveloppée par cette fonction, \n",
    "# elle se trouve dans le biliothèque-utilisateur _sparql_functions.py_\n",
    "# le premier paramètre correspond au point d'accès SPARQL, le deuxième à la requête\n",
    "qr = spqf.get_json_sparql_result(rc[4],rc[5])"
   ]
  },
  {
   "cell_type": "code",
   "execution_count": 31,
   "id": "fluid-candidate",
   "metadata": {},
   "outputs": [
    {
     "data": {
      "text/plain": [
       "1869"
      ]
     },
     "execution_count": 31,
     "metadata": {},
     "output_type": "execute_result"
    }
   ],
   "source": [
    "# Nombre de lignes de la réponse\n",
    "len(qr['results']['bindings'])"
   ]
  },
  {
   "cell_type": "code",
   "execution_count": 32,
   "id": "friendly-pocket",
   "metadata": {
    "scrolled": true
   },
   "outputs": [],
   "source": [
    "# Transformer le résultat en liste en utilisant une autre fonction de la bibliothèque utilisateur\n",
    "r = [l for l in spqf.sparql_result_to_list(qr) ]\n",
    "# r"
   ]
  },
  {
   "cell_type": "code",
   "execution_count": 33,
   "id": "descending-possible",
   "metadata": {
    "scrolled": true,
    "tags": []
   },
   "outputs": [
    {
     "name": "stdout",
     "output_type": "stream",
     "text": [
      "1869\n"
     ]
    },
    {
     "data": {
      "text/plain": [
       "[['http://dbpedia.org/resource/A._D._Roy',\n",
       "  'http://dbpedia.org/resource/Economics'],\n",
       " ['http://dbpedia.org/resource/Aaron_Director',\n",
       "  'http://dbpedia.org/resource/Law_and_Economics'],\n",
       " ['http://dbpedia.org/resource/Aaron_Edlin',\n",
       "  'http://dbpedia.org/resource/Antitrust'],\n",
       " ['http://dbpedia.org/resource/Abhijit_Banerjee',\n",
       "  'http://dbpedia.org/resource/Development_economics'],\n",
       " ['http://dbpedia.org/resource/Abhijit_Banerjee',\n",
       "  'http://dbpedia.org/resource/Social_economics'],\n",
       " ['http://dbpedia.org/resource/Adam_Przeworski',\n",
       "  'http://dbpedia.org/resource/Political_science'],\n",
       " ['http://dbpedia.org/resource/Adrian_Pagan',\n",
       "  'http://dbpedia.org/resource/Econometrics'],\n",
       " ['http://dbpedia.org/resource/Agatha_Chapman',\n",
       "  'http://dbpedia.org/resource/Economics'],\n",
       " ['http://dbpedia.org/resource/Agneta_Stark',\n",
       "  'http://dbpedia.org/resource/Heterodox_economics'],\n",
       " ['http://dbpedia.org/resource/Akihiko_Matsui_(economist)',\n",
       "  'http://dbpedia.org/resource/Game_Theory'],\n",
       " ['http://dbpedia.org/resource/Akihiko_Matsui_(economist)',\n",
       "  'http://dbpedia.org/resource/Information_Economics'],\n",
       " ['http://dbpedia.org/resource/Akihiko_Matsui_(economist)',\n",
       "  'http://dbpedia.org/resource/Monetary_theory'],\n",
       " ['http://dbpedia.org/resource/Alan_M._Taylor',\n",
       "  'http://dbpedia.org/resource/Financial_economics'],\n",
       " ['http://dbpedia.org/resource/Alan_M._Taylor',\n",
       "  'http://dbpedia.org/resource/Economic_history'],\n",
       " ['http://dbpedia.org/resource/Alan_M._Taylor',\n",
       "  'http://dbpedia.org/resource/Macroeconomics'],\n",
       " ['http://dbpedia.org/resource/Alan_M._Taylor',\n",
       "  'http://dbpedia.org/resource/International_economics'],\n",
       " ['http://dbpedia.org/resource/Alan_M._Taylor',\n",
       "  'http://dbpedia.org/resource/Monetary_economics'],\n",
       " ['http://dbpedia.org/resource/Alan_S._Duncan',\n",
       "  'http://dbpedia.org/resource/Econometrics'],\n",
       " ['http://dbpedia.org/resource/Albert_Ando',\n",
       "  'http://dbpedia.org/resource/Mathematical_economics'],\n",
       " ['http://dbpedia.org/resource/Albert_Marcet',\n",
       "  'http://dbpedia.org/resource/Monetary_economics'],\n",
       " ['http://dbpedia.org/resource/Albert_O._Hirschman',\n",
       "  'http://dbpedia.org/resource/Political_economy'],\n",
       " ['http://dbpedia.org/resource/Albert_Rees',\n",
       "  'http://dbpedia.org/resource/Labor_economics'],\n",
       " ['http://dbpedia.org/resource/Alberto_Abadie',\n",
       "  'http://dbpedia.org/resource/Program_Evaluation'],\n",
       " ['http://dbpedia.org/resource/Alberto_Abadie',\n",
       "  'http://dbpedia.org/resource/Econometrics'],\n",
       " ['http://dbpedia.org/resource/Alberto_Abadie',\n",
       "  'http://dbpedia.org/resource/Causal_inference'],\n",
       " ['http://dbpedia.org/resource/Alberto_Alesina',\n",
       "  'http://dbpedia.org/resource/Political_economics'],\n",
       " ['http://dbpedia.org/resource/Alberto_Giovannini',\n",
       "  'http://dbpedia.org/resource/Financial_economics'],\n",
       " ['http://dbpedia.org/resource/Alberto_Giovannini',\n",
       "  'http://dbpedia.org/resource/Macroeconomics'],\n",
       " ['http://dbpedia.org/resource/Aleh_Tsyvinski',\n",
       "  'http://dbpedia.org/resource/Public_economics'],\n",
       " ['http://dbpedia.org/resource/Aleh_Tsyvinski',\n",
       "  'http://dbpedia.org/resource/Macroeconomics'],\n",
       " ['http://dbpedia.org/resource/Aleh_Tsyvinski',\n",
       "  'http://dbpedia.org/resource/Macroeconomic_policy'],\n",
       " ['http://dbpedia.org/resource/Alessandro_Magnoli_Bocchi',\n",
       "  'http://dbpedia.org/resource/Investment'],\n",
       " ['http://dbpedia.org/resource/Alessandro_Magnoli_Bocchi',\n",
       "  'http://dbpedia.org/resource/Macroeconomics'],\n",
       " ['http://dbpedia.org/resource/Alessandro_Magnoli_Bocchi',\n",
       "  'http://dbpedia.org/resource/Business_economics'],\n",
       " ['http://dbpedia.org/resource/Alessandro_Magnoli_Bocchi',\n",
       "  'http://dbpedia.org/resource/International_economics'],\n",
       " ['http://dbpedia.org/resource/Alexander_Betts_(political_scientist)',\n",
       "  'http://dbpedia.org/resource/International_Development'],\n",
       " ['http://dbpedia.org/resource/Alexander_Betts_(political_scientist)',\n",
       "  'http://dbpedia.org/resource/Political_Science'],\n",
       " ['http://dbpedia.org/resource/Alexander_Gerschenkron',\n",
       "  'http://dbpedia.org/resource/Economic_history'],\n",
       " ['http://dbpedia.org/resource/Alexander_Rüstow',\n",
       "  'http://dbpedia.org/resource/Macroeconomics'],\n",
       " ['http://dbpedia.org/resource/Alexandre_Schwartsman',\n",
       "  'http://dbpedia.org/resource/Economics'],\n",
       " ['http://dbpedia.org/resource/Alfred_H._Conrad',\n",
       "  'http://dbpedia.org/resource/Economic_history'],\n",
       " ['http://dbpedia.org/resource/Alfred_H._Conrad',\n",
       "  'http://dbpedia.org/resource/Transportation_economics'],\n",
       " ['http://dbpedia.org/resource/Alicia_Girón',\n",
       "  'http://dbpedia.org/resource/Feminist_economics'],\n",
       " ['http://dbpedia.org/resource/Allan_H._Meltzer',\n",
       "  'http://dbpedia.org/resource/Economist'],\n",
       " ['http://dbpedia.org/resource/Alvin_E._Roth',\n",
       "  'http://dbpedia.org/resource/Experimental_economics'],\n",
       " ['http://dbpedia.org/resource/Alvin_E._Roth',\n",
       "  'http://dbpedia.org/resource/Market_design'],\n",
       " ['http://dbpedia.org/resource/Alvin_E._Roth',\n",
       "  'http://dbpedia.org/resource/Game_theory'],\n",
       " ['http://dbpedia.org/resource/Alvin_Hansen',\n",
       "  'http://dbpedia.org/resource/Macroeconomics'],\n",
       " ['http://dbpedia.org/resource/Alvin_Hansen',\n",
       "  'http://dbpedia.org/resource/Political_economics'],\n",
       " ['http://dbpedia.org/resource/Amartya_Sen',\n",
       "  'http://dbpedia.org/resource/Development_economics']]"
      ]
     },
     "execution_count": 33,
     "metadata": {},
     "output_type": "execute_result"
    }
   ],
   "source": [
    "# inspecter une seule ligne de la liste (de listes)\n",
    "print(len(r))\n",
    "r[:50]"
   ]
  },
  {
   "cell_type": "code",
   "execution_count": 226,
   "id": "secret-desperate",
   "metadata": {
    "scrolled": true,
    "tags": []
   },
   "outputs": [],
   "source": [
    "# Inspecter les dix premières lignes\n",
    "\n",
    "def inspect_10_lines (qr):\n",
    "    i = 0\n",
    "    for l in qr['results']['bindings']:\n",
    "        if i < 10:\n",
    "            print(l)\n",
    "            i += 1\n",
    "\n",
    "# inspect_10_lines (qr)"
   ]
  },
  {
   "cell_type": "markdown",
   "id": "subject-conservative",
   "metadata": {},
   "source": [
    "# Transformer les données récupérées et les insérer dans les tables de la base de données SQLite"
   ]
  },
  {
   "cell_type": "markdown",
   "id": "protective-netscape",
   "metadata": {
    "tags": []
   },
   "source": [
    "## Insérer de nouvelles entités\n",
    "\n",
    "Dans la table _entity_ on insére les entités, i.e. les instances des classes qu'on étudie (personnes, organisations, lieux, objets, etc.)"
   ]
  },
  {
   "cell_type": "code",
   "execution_count": 262,
   "id": "exclusive-tiger",
   "metadata": {
    "tags": []
   },
   "outputs": [
    {
     "data": {
      "text/plain": [
       "[['http://dbpedia.org/resource/University_College,_Oxford', '-1.252'],\n",
       " ['http://dbpedia.org/resource/University_of_Calgary', '-114.133'],\n",
       " ['http://dbpedia.org/resource/University_of_Pittsburgh', '-79.9533']]"
      ]
     },
     "execution_count": 262,
     "metadata": {},
     "output_type": "execute_result"
    }
   ],
   "source": [
    "r[:3]"
   ]
  },
  {
   "cell_type": "code",
   "execution_count": 252,
   "id": "guided-stockholm",
   "metadata": {},
   "outputs": [],
   "source": [
    "## rl = [[l[0], 'https://dbpedia.org/ontology/Person', 'https://dbpedia.org/sparql', 7 ] for l in r]\n",
    "## rl = [[l[0], 'https://dbpedia.org/ontology/Place', 'https://dbpedia.org/sparql', 26 ] for l in r]\n",
    "rl = [[l[0], 'https://dbpedia.org/ontology/EducationalInstitution', 'https://dbpedia.org/sparql', 32 ] for l in r]\n"
   ]
  },
  {
   "cell_type": "code",
   "execution_count": 253,
   "id": "dried-series",
   "metadata": {},
   "outputs": [
    {
     "data": {
      "text/plain": [
       "[['http://dbpedia.org/resource/A.B.',\n",
       "  'https://dbpedia.org/ontology/EducationalInstitution',\n",
       "  'https://dbpedia.org/sparql',\n",
       "  32],\n",
       " ['http://dbpedia.org/resource/Aarhus_University',\n",
       "  'https://dbpedia.org/ontology/EducationalInstitution',\n",
       "  'https://dbpedia.org/sparql',\n",
       "  32],\n",
       " ['http://dbpedia.org/resource/Aberystwyth_University',\n",
       "  'https://dbpedia.org/ontology/EducationalInstitution',\n",
       "  'https://dbpedia.org/sparql',\n",
       "  32]]"
      ]
     },
     "execution_count": 253,
     "metadata": {},
     "output_type": "execute_result"
    }
   ],
   "source": [
    "rl[:3]"
   ]
  },
  {
   "cell_type": "code",
   "execution_count": 254,
   "id": "spatial-suspension",
   "metadata": {
    "tags": []
   },
   "outputs": [],
   "source": [
    "### Stocker les nouvelles entités en base de données – ne pas oublier d'active le 'commit' !\n",
    "\n",
    "cn = sql.connect(db)\n",
    "c = cn.cursor()\n",
    "\n",
    "# Insérer les données\n",
    "c.executemany(\"INSERT OR IGNORE INTO entity (uri_entity, entity_class, source, fk_query_as_source) VALUES (?,?,?,?)\", rl)\n",
    "\n",
    "# valider l'insertion et fermer la base de données\n",
    "## DESACTIVÉ !!! ##  cn.commit()\n",
    "\n",
    "cn.close()"
   ]
  },
  {
   "cell_type": "markdown",
   "id": "right-tattoo",
   "metadata": {},
   "source": [
    "### Inspecter le résultat d'une requête après insertion, une fois l'insert ci-dessus effectué"
   ]
  },
  {
   "cell_type": "code",
   "execution_count": 4,
   "id": "soviet-discipline",
   "metadata": {},
   "outputs": [],
   "source": [
    "db = 'data/sparql_queries.db'"
   ]
  },
  {
   "cell_type": "code",
   "execution_count": 5,
   "id": "distinct-despite",
   "metadata": {
    "scrolled": true,
    "tags": []
   },
   "outputs": [
    {
     "data": {
      "text/plain": [
       "[(1442, 'https://dbpedia.org/ontology/EducationalInstitution'),\n",
       " (6868, 'https://dbpedia.org/ontology/Person'),\n",
       " (2773, 'https://dbpedia.org/ontology/Place')]"
      ]
     },
     "execution_count": 5,
     "metadata": {},
     "output_type": "execute_result"
    }
   ],
   "source": [
    "# connnexion à la base de données\n",
    "cn = sql.connect(db)\n",
    "c = cn.cursor()\n",
    "\n",
    "### exécuter la requëte sur la base de donées SQLite pour récupérer les valeurs que contient la ligne\n",
    "c.execute('SELECT count(*) AS eff, entity_class FROM entity GROUP BY entity_class')\n",
    "result_q = c.fetchall()\n",
    "\n",
    "# fermer la connexion\n",
    "cn.close()\n",
    "result_q[:3]"
   ]
  },
  {
   "cell_type": "markdown",
   "id": "aerial-bunny",
   "metadata": {},
   "source": [
    "## Insérer de nouvelles propriétés\n",
    "\n",
    "Dans la table _property_ on stocke les propriété des entités sous la forme clé-valeur. \n"
   ]
  },
  {
   "cell_type": "code",
   "execution_count": 34,
   "id": "close-surfing",
   "metadata": {
    "tags": []
   },
   "outputs": [
    {
     "data": {
      "text/plain": [
       "[['http://dbpedia.org/resource/A._D._Roy',\n",
       "  'http://dbpedia.org/resource/Economics'],\n",
       " ['http://dbpedia.org/resource/Aaron_Director',\n",
       "  'http://dbpedia.org/resource/Law_and_Economics'],\n",
       " ['http://dbpedia.org/resource/Aaron_Edlin',\n",
       "  'http://dbpedia.org/resource/Antitrust']]"
      ]
     },
     "execution_count": 34,
     "metadata": {},
     "output_type": "execute_result"
    }
   ],
   "source": [
    "r[:3]"
   ]
  },
  {
   "cell_type": "code",
   "execution_count": 35,
   "id": "blessed-perth",
   "metadata": {
    "scrolled": true,
    "tags": []
   },
   "outputs": [
    {
     "name": "stdout",
     "output_type": "stream",
     "text": [
      "1869\n"
     ]
    },
    {
     "data": {
      "text/plain": [
       "[['http://dbpedia.org/resource/Abhijit_Banerjee',\n",
       "  'http://dbpedia.org/ontology/field',\n",
       "  'http://dbpedia.org/resource/Social_economics',\n",
       "  'https://dbpedia.org/sparql',\n",
       "  1,\n",
       "  22],\n",
       " ['http://dbpedia.org/resource/Adam_Przeworski',\n",
       "  'http://dbpedia.org/ontology/field',\n",
       "  'http://dbpedia.org/resource/Political_science',\n",
       "  'https://dbpedia.org/sparql',\n",
       "  1,\n",
       "  22],\n",
       " ['http://dbpedia.org/resource/Adrian_Pagan',\n",
       "  'http://dbpedia.org/ontology/field',\n",
       "  'http://dbpedia.org/resource/Econometrics',\n",
       "  'https://dbpedia.org/sparql',\n",
       "  1,\n",
       "  22],\n",
       " ['http://dbpedia.org/resource/Agatha_Chapman',\n",
       "  'http://dbpedia.org/ontology/field',\n",
       "  'http://dbpedia.org/resource/Economics',\n",
       "  'https://dbpedia.org/sparql',\n",
       "  1,\n",
       "  22]]"
      ]
     },
     "execution_count": 35,
     "metadata": {},
     "output_type": "execute_result"
    }
   ],
   "source": [
    "# -> (uri_entity, property, value, source, quality, fk_query_as_source) VALUES (?,?,?,?,?,?)\n",
    "## rl = [[l[0], 'http://dbpedia.org/property/birthDate', l[1], 'https://dbpedia.org/sparql', 1, 10 ] for l in r]\n",
    "## rl = [[l[0], 'http://dbpedia.org/ontology/birthDate', l[1], 'https://dbpedia.org/sparql', 1, 11 ] for l in r]\n",
    "## rl = [[l[0], 'http://dbpedia.org/ontology/birthYear', l[1], 'https://dbpedia.org/sparql', 1, 12 ] for l in r]\n",
    "## rl = [[l[0], 'http://dbpedia.org/ontology/occupation', l[1], 'https://dbpedia.org/sparql', 1, 15 ] for l in r]\n",
    "## rl = [[l[0], 'http://dbpedia.org/ontology/profession', l[1], 'https://dbpedia.org/sparql', 1, 16 ] for l in r]\n",
    "## rl = [[l[0], 'http://dbpedia.org/property/occupation', l[1], 'https://dbpedia.org/sparql', 1, 20 ] for l in r]\n",
    "## rl = [[l[0], 'http://dbpedia.org/property/field', l[1], 'https://dbpedia.org/sparql', 1, 21 ] for l in r]\n",
    "rl = [[l[0], 'http://dbpedia.org/ontology/field', l[1], 'https://dbpedia.org/sparql', 1, 22 ] for l in r]\n",
    "## rl = [[l[0], 'http://dbpedia.org/ontology/birthPlace', l[1], 'https://dbpedia.org/sparql', 1, 23 ] for l in r]\n",
    "## rl = [[l[0], 'http://www.w3.org/1999/02/22-rdf-syntax-ns#type', l[1], 'https://dbpedia.org/sparql', 1, 27 ] for l in r]\n",
    "## rl = [[l[0], 'http://www.w3.org/2003/01/geo/wgs84_pos#long', l[1], 'https://dbpedia.org/sparql', 1, 28 ] for l in r]\n",
    "## rl = [[l[0], 'http://www.w3.org/2003/01/geo/wgs84_pos#lat', l[1], 'https://dbpedia.org/sparql', 1, 29 ] for l in r]\n",
    "## rl = [[l[0], 'http://dbpedia.org/ontology/almaMater', l[1], 'https://dbpedia.org/sparql', 1, 31 ] for l in r]\n",
    "## rl = [[l[0], 'http://www.w3.org/2003/01/geo/wgs84_pos#long', l[1], 'https://dbpedia.org/sparql', 1, 28 ] for l in r]\n",
    "## rl = [[l[0], 'http://www.w3.org/2003/01/geo/wgs84_pos#lat', l[1], 'https://dbpedia.org/sparql', 1, 34 ] for l in r]\n",
    "## rl = [[l[0], 'http://dbpedia.org/ontology/influenced', l[1], 'https://dbpedia.org/sparql', 1, 36 ] for l in r]\n",
    "## rl = [[l[0], 'http://dbpedia.org/ontology/influenced', l[1], 'https://dbpedia.org/sparql', 1, 37 ] for l in r]\n",
    "## rl = [[l[0], 'http://dbpedia.org/ontology/institution', l[1], 'https://dbpedia.org/sparql', 1, 38 ] for l in r]\n",
    "\n",
    "\n",
    "# -> (uri_entity, property, value, additional_property_1, value_1, source, quality, fk_query_as_source) VALUES (?,?,?,?,?,?,?,?)\n",
    "## rl = [[l[0], 'http://dbpedia.org/property/nationality', l[2], 'lang', l[1], 'https://dbpedia.org/sparql', 1, 13 ] for l in r]\n",
    "## rl = [[l[0], 'http://dbpedia.org/ontology/nationality', l[2], 'lang', l[1], 'https://dbpedia.org/sparql', 1, 14 ] for l in r]\n",
    "\n",
    "\n",
    "\n",
    "\n",
    "print(len(rl))\n",
    "rl[4:8]"
   ]
  },
  {
   "cell_type": "code",
   "execution_count": 36,
   "id": "furnished-welcome",
   "metadata": {
    "tags": []
   },
   "outputs": [],
   "source": [
    "### OPTIONNEL : si souhaité, stocker la réponse du point d'accès SPARQL dans la table 'result' de la base de données \n",
    "\n",
    "cn = sql.connect(db)\n",
    "c = cn.cursor()\n",
    "\n",
    "# Insérer les données\n",
    "c.executemany(\"INSERT OR IGNORE INTO property (uri_entity, property, value, source, quality, fk_query_as_source) VALUES (?,?,?,?,?,?)\", rl)\n",
    "\n",
    "# valider l'insertion et fermer la base de données\n",
    "## DESACTIVÉ !!! cn.commit()\n",
    "\n",
    "cn.close()"
   ]
  },
  {
   "cell_type": "markdown",
   "id": "intelligent-jordan",
   "metadata": {},
   "source": [
    "### Inspecter le résultat d'une requête après insertion, une fois l'insert ci-dessus effectué"
   ]
  },
  {
   "cell_type": "code",
   "execution_count": 42,
   "id": "durable-establishment",
   "metadata": {
    "scrolled": true,
    "tags": []
   },
   "outputs": [
    {
     "data": {
      "text/plain": [
       "[(6111, 'http://dbpedia.org/ontology/birthPlace'),\n",
       " (5246, 'http://dbpedia.org/ontology/almaMater'),\n",
       " (4562, 'http://dbpedia.org/ontology/birthYear'),\n",
       " (3837, 'http://dbpedia.org/ontology/birthDate'),\n",
       " (3093, 'http://www.w3.org/2003/01/geo/wgs84_pos#long'),\n",
       " (3093, 'http://www.w3.org/2003/01/geo/wgs84_pos#lat'),\n",
       " (2727, 'http://dbpedia.org/ontology/influenced'),\n",
       " (2655, 'http://dbpedia.org/property/nationality'),\n",
       " (2301, 'http://www.w3.org/1999/02/22-rdf-syntax-ns#type'),\n",
       " (2280, 'http://dbpedia.org/property/field'),\n",
       " (2038, 'http://dbpedia.org/ontology/institution'),\n",
       " (1897, 'http://dbpedia.org/property/birthDate'),\n",
       " (1869, 'http://dbpedia.org/ontology/field'),\n",
       " (1809, 'http://dbpedia.org/property/occupation'),\n",
       " (1773, 'http://dbpedia.org/ontology/nationality'),\n",
       " (1736, 'http://dbpedia.org/ontology/occupation'),\n",
       " (620, 'http://dbpedia.org/ontology/profession')]"
      ]
     },
     "execution_count": 42,
     "metadata": {},
     "output_type": "execute_result"
    }
   ],
   "source": [
    "# connnexion à la base de données\n",
    "cn = sql.connect(db)\n",
    "c = cn.cursor()\n",
    "\n",
    "### exécuter la requëte sur la base de donées SQLite pour récupérer les valeurs que contient la ligne\n",
    "c.execute('SELECT count(*) AS eff, property FROM property GROUP BY property ORDER BY eff DESC')\n",
    "result_q = c.fetchall()\n",
    "\n",
    "# fermer la connexion\n",
    "cn.close()\n",
    "result_q[:30]"
   ]
  },
  {
   "cell_type": "markdown",
   "id": "serious-intro",
   "metadata": {},
   "source": [
    "### Quelles propriétés utiliser ?\n",
    "\n",
    "Comme indiqué dans le carnet _dbpedia_exploration_ la question se pose de l'articulation entre les propriétés issues de la première méthode d'extraction des données de DBPedia (_http://dbpedia.org/property/..._) et celles de la nouvelle méthode basée sur une ontologie décrite explicititement (_http://dbpedia.org/ontology/..._). Voire les explications fort utiles de cette page:\n",
    "\n",
    "https://wiki.dbpedia.org/services-resources/ontology\n",
    "\n",
    "Il faut explorer les données pour comprendre l'information qu'elles contiennent et évaluer son utilité pour répondre aux questionnements."
   ]
  },
  {
   "cell_type": "code",
   "execution_count": null,
   "id": "photographic-cooperative",
   "metadata": {},
   "outputs": [],
   "source": []
  },
  {
   "cell_type": "code",
   "execution_count": null,
   "id": "obvious-yacht",
   "metadata": {},
   "outputs": [],
   "source": []
  },
  {
   "cell_type": "markdown",
   "id": "decimal-sampling",
   "metadata": {},
   "source": [
    "## Ajout des années de naissance nettoyées\n",
    "\n",
    "* Dans cette partie, une année de naissance est ajoutée à chaque personne en la calculant à partir des informations disponibles.\n",
    "* L'année de naissance est stockée dans une propriété existante tout en indiquant sa source: \n"
   ]
  },
  {
   "cell_type": "code",
   "execution_count": 278,
   "id": "acknowledged-indication",
   "metadata": {},
   "outputs": [],
   "source": [
    "db = 'data/sparql_queries.db'"
   ]
  },
  {
   "cell_type": "code",
   "execution_count": 41,
   "id": "broken-banana",
   "metadata": {
    "scrolled": true,
    "tags": []
   },
   "outputs": [
    {
     "name": "stdout",
     "output_type": "stream",
     "text": [
      "3870\n"
     ]
    },
    {
     "data": {
      "text/plain": [
       "[(',1941-02-21,1941,,1941-02-21',\n",
       "  'http://dbpedia.org/resource/Laurel_Lunt_Prussing',\n",
       "  5),\n",
       " ('1952-05-27,Tokyo Japan,1952,1952-05-27,Tokyo Japan',\n",
       "  'http://dbpedia.org/resource/Makoto_Yano',\n",
       "  5),\n",
       " (',1940-09-03,1940,,1940-09-03',\n",
       "  'http://dbpedia.org/resource/Robert_J._Gordon',\n",
       "  5),\n",
       " ('1899-01-17,1899,1899,1899-01-17',\n",
       "  'http://dbpedia.org/resource/Abram_Lincoln_Harris',\n",
       "  4),\n",
       " ('--06-16,1723-06-05,1723,1723', 'http://dbpedia.org/resource/Adam_Smith', 4)]"
      ]
     },
     "execution_count": 41,
     "metadata": {},
     "output_type": "execute_result"
    }
   ],
   "source": [
    "### Inspecter le résultat d'une requête après insertion, une fois l'insert ci-dessus effectué\n",
    "\n",
    "\n",
    "# noter la logique du regroupement : résultat souhaité = une ligne par personne (URI)\n",
    "\n",
    "query = \"\"\"\n",
    "SELECT GROUP_CONCAT(value), uri_entity, count(*) as eff\n",
    "FROM property p\n",
    "WHERE p.property LIKE '%birthD%' OR p.property LIKE '%birthY%'\n",
    "GROUP BY uri_entity\n",
    "ORDER BY eff DESC ;\n",
    "\n",
    "\"\"\"\n",
    "\n",
    "# connnexion à la base de données\n",
    "cn = sql.connect(db)\n",
    "c = cn.cursor()\n",
    "\n",
    "### exécuter la requëte sur la base de donées SQLite pour récupérer les valeurs que contient la ligne\n",
    "c.execute(query)\n",
    "result_q = []\n",
    "result_q = c.fetchall()\n",
    "\n",
    "# fermer la connexion\n",
    "cn.close()\n",
    "print(len(result_q))\n",
    "result_q[:5]"
   ]
  },
  {
   "cell_type": "code",
   "execution_count": 280,
   "id": "talented-milwaukee",
   "metadata": {
    "scrolled": true,
    "tags": []
   },
   "outputs": [
    {
     "name": "stdout",
     "output_type": "stream",
     "text": [
      "3870\n"
     ]
    },
    {
     "data": {
      "text/plain": [
       "[',--05-07,0007',\n",
       " ',1940-09-03,,1940-09-03',\n",
       " ',1941-02-21,,1941-02-21',\n",
       " ',1949-01-10',\n",
       " ',1955-12-14',\n",
       " ',1960-10-17',\n",
       " ',1962-03-20',\n",
       " ',1965-06-30',\n",
       " '--01-02',\n",
       " '--02-07,--02-07',\n",
       " '--02-14,1766-02-14,--02-14',\n",
       " '--04-21,--04-21',\n",
       " '--06-07,1959-06-07,--06-07',\n",
       " '--06-10',\n",
       " '--06-16,1723-06-05,1723',\n",
       " '--07-18,--07-18',\n",
       " '--08-02',\n",
       " '--09-03,1957-09-03,--09-03',\n",
       " '--10-29',\n",
       " '--11-05,--11-05',\n",
       " '--12-01',\n",
       " '1021-12-08',\n",
       " '1031',\n",
       " '1332-05-27',\n",
       " '1447,1447',\n",
       " '1473-02-19',\n",
       " '15,15',\n",
       " '1560,1560',\n",
       " '1571-06-17,1571-06-17',\n",
       " '1619-08-29',\n",
       " '1621-04-17',\n",
       " '1623-05-26,1623',\n",
       " '1632-08-29,1632',\n",
       " '1635-05-06',\n",
       " '1640,1640,1640',\n",
       " '1646-02-17,1646-02-17',\n",
       " '1648-09-14,1648',\n",
       " '1652-09-04,1652',\n",
       " '1653-07-05',\n",
       " '1657-03-24',\n",
       " '1670-11-15,1670',\n",
       " '1671-04-21,1671-04-21',\n",
       " '1675,1675',\n",
       " '1680.0,1680',\n",
       " '1694-06-04,1694',\n",
       " '1700-02-08',\n",
       " '1703,1703',\n",
       " '1711-11-19',\n",
       " '1712-10-21,1712',\n",
       " '1714-09-30,1714']"
      ]
     },
     "execution_count": 280,
     "metadata": {},
     "output_type": "execute_result"
    }
   ],
   "source": [
    "### inspecter le résultat\n",
    "ldn = [l[0] for l in result_q]\n",
    "print(len(ldn))\n",
    "ldn.sort()\n",
    "ldn[:50]"
   ]
  },
  {
   "cell_type": "code",
   "execution_count": 291,
   "id": "polyphonic-gather",
   "metadata": {},
   "outputs": [
    {
     "name": "stdout",
     "output_type": "stream",
     "text": [
      "3870\n"
     ]
    },
    {
     "data": {
      "text/plain": [
       "[[['1941', '1941'], 'http://dbpedia.org/resource/Laurel_Lunt_Prussing'],\n",
       " [['1952', '1952'], 'http://dbpedia.org/resource/Makoto_Yano'],\n",
       " [['1940', '1940'], 'http://dbpedia.org/resource/Robert_J._Gordon']]"
      ]
     },
     "execution_count": 291,
     "metadata": {},
     "output_type": "execute_result"
    }
   ],
   "source": [
    "## extraire seulement les années\n",
    "listeDateNaiss = []\n",
    "annee = re.compile(r'\\d{4}')\n",
    "\n",
    "for l in result_q:\n",
    "    listeDateNaiss.append([annee.findall(l[0]), l[1]])\n",
    "print(len(listeDateNaiss))\n",
    "listeDateNaiss[:3]"
   ]
  },
  {
   "cell_type": "code",
   "execution_count": 293,
   "id": "present-frame",
   "metadata": {
    "tags": []
   },
   "outputs": [
    {
     "name": "stdout",
     "output_type": "stream",
     "text": [
      "3870\n",
      "3849\n"
     ]
    },
    {
     "data": {
      "text/plain": [
       "[['http://dbpedia.org/resource/A._C._Cuza', 1857],\n",
       " ['http://dbpedia.org/resource/A._D._Roy', 1920],\n",
       " ['http://dbpedia.org/resource/A._K._Shiva_Kumar', 1956],\n",
       " ['http://dbpedia.org/resource/Aaron_Director', 1901],\n",
       " ['http://dbpedia.org/resource/Aaron_Farrugia', 1980]]"
      ]
     },
     "execution_count": 293,
     "metadata": {},
     "output_type": "execute_result"
    }
   ],
   "source": [
    "print(len(listeDateNaiss))\n",
    "\n",
    "#choix de codage: si plusieurs années par personne, retenir la date inférieure\n",
    "anneeNaiss = [[l[1],int(min(l[0]))] for l in listeDateNaiss if l[0]]\n",
    "print(len(anneeNaiss))\n",
    "\n",
    "#trier\n",
    "anneeNaiss.sort()\n",
    "anneeNaiss[:5]"
   ]
  },
  {
   "cell_type": "code",
   "execution_count": 302,
   "id": "typical-invitation",
   "metadata": {
    "scrolled": true,
    "tags": []
   },
   "outputs": [
    {
     "name": "stdout",
     "output_type": "stream",
     "text": [
      "3849\n"
     ]
    },
    {
     "data": {
      "text/plain": [
       "[['http://dbpedia.org/resource/Aaron_Farrugia',\n",
       "  'http://dbpedia.org/ontology/birthYear',\n",
       "  1980,\n",
       "  'Produit avec script dans carnet dbpedia_production, 8 mai 2021',\n",
       "  1,\n",
       "  0],\n",
       " ['http://dbpedia.org/resource/Aat_van_Rhijn',\n",
       "  'http://dbpedia.org/ontology/birthYear',\n",
       "  1892,\n",
       "  'Produit avec script dans carnet dbpedia_production, 8 mai 2021',\n",
       "  1,\n",
       "  0]]"
      ]
     },
     "execution_count": 302,
     "metadata": {},
     "output_type": "execute_result"
    }
   ],
   "source": [
    "### Produit avec le script d'insertion ci-dessus\n",
    "\n",
    "rl = [[l[0], 'http://dbpedia.org/ontology/birthYear', l[1], 'Produit avec script dans carnet dbpedia_production, 8 mai 2021', 1, 0 ] for l in anneeNaiss]\n",
    "\n",
    "\n",
    "# INSERT OR IGNORE INTO property (uri_entity, property, value, source, quality, fk_query_as_source) VALUES (?,?,?,?,?,?)\n",
    "\n",
    "\n",
    "print(len(rl))\n",
    "rl[4:6]"
   ]
  },
  {
   "cell_type": "code",
   "execution_count": null,
   "id": "technological-cooper",
   "metadata": {},
   "outputs": [],
   "source": []
  },
  {
   "cell_type": "code",
   "execution_count": null,
   "id": "attended-lucas",
   "metadata": {},
   "outputs": [],
   "source": []
  },
  {
   "cell_type": "code",
   "execution_count": null,
   "id": "controversial-relative",
   "metadata": {},
   "outputs": [],
   "source": []
  },
  {
   "cell_type": "code",
   "execution_count": null,
   "id": "isolated-infection",
   "metadata": {},
   "outputs": [],
   "source": []
  },
  {
   "cell_type": "code",
   "execution_count": null,
   "id": "subjective-logging",
   "metadata": {},
   "outputs": [],
   "source": []
  },
  {
   "cell_type": "code",
   "execution_count": null,
   "id": "rotary-davis",
   "metadata": {},
   "outputs": [],
   "source": []
  }
 ],
 "metadata": {
  "kernelspec": {
   "display_name": "Py3.10 sparql",
   "language": "python",
   "name": "py310_sparql"
  },
  "language_info": {
   "codemirror_mode": {
    "name": "ipython",
    "version": 3
   },
   "file_extension": ".py",
   "mimetype": "text/x-python",
   "name": "python",
   "nbconvert_exporter": "python",
   "pygments_lexer": "ipython3",
   "version": "3.10.9"
  },
  "toc-showtags": false
 },
 "nbformat": 4,
 "nbformat_minor": 5
}
