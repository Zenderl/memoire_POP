{
 "cells": [
  {
   "cell_type": "markdown",
   "id": "a53748ae-63bf-43d0-a723-0fd199166ec9",
   "metadata": {
    "tags": []
   },
   "source": [
    "# Propriétés d'une population fictive de 130 personnes: analyse univariée qualitative\n",
    "\n",
    "Version du 24 avril 2022\n",
    "\n",
    "130 ou 900 individus, cinq caractères: age, personnes dans le même foyer, fréquence de lecture du journal, orientation politique, revenu mensuel\n",
    "\n",
    "\n"
   ]
  },
  {
   "cell_type": "markdown",
   "id": "hungry-return",
   "metadata": {},
   "source": [
    "## Importer les librairies nécessaires"
   ]
  },
  {
   "cell_type": "code",
   "execution_count": 1,
   "id": "dense-sympathy",
   "metadata": {},
   "outputs": [],
   "source": [
    "import pandas as pd\n",
    "import matplotlib.pyplot as plt\n",
    "import numpy as np\n",
    "import seaborn as sns"
   ]
  },
  {
   "cell_type": "markdown",
   "id": "adapted-cooperation",
   "metadata": {},
   "source": [
    "## Références bibliographiques\n",
    "\n",
    "Référence:\n",
    "\n",
    "* [Statistique descriptive unidimensionnelle](http://wikistat.fr/pdf/st-l-des-uni.pdf) (-> [Site Wikistat](http://wikistat.fr/))\n",
    "\n",
    "\n",
    "Compléments:\n",
    "\n",
    "* Hamon : Hamon Philippe, Hamon Agnès, et Jégou Nicolas, _Statistique descriptive. Cours et exercices corrigés_, Rennes, PUR, 2008.\n",
    "* Saly : Saly Pierre, _Méthodes statistiques descriptives pour les historiens_, Paris, A. Colin, 1991.\n",
    "* [Statology - Tutorials](https://www.statology.org/tutorials/)\n",
    "\n"
   ]
  },
  {
   "cell_type": "code",
   "execution_count": null,
   "id": "historic-cinema",
   "metadata": {},
   "outputs": [],
   "source": []
  },
  {
   "cell_type": "markdown",
   "id": "conventional-praise",
   "metadata": {},
   "source": [
    "## Explorer les observations\n",
    "\n",
    "* Regrouper et inspecter : la distribution\n",
    "* Afficher et analyser : les graphiques"
   ]
  },
  {
   "cell_type": "code",
   "execution_count": 11,
   "id": "420e549f-0310-4896-9f17-7959c4ecf139",
   "metadata": {},
   "outputs": [
    {
     "data": {
      "text/html": [
       "<div>\n",
       "<style scoped>\n",
       "    .dataframe tbody tr th:only-of-type {\n",
       "        vertical-align: middle;\n",
       "    }\n",
       "\n",
       "    .dataframe tbody tr th {\n",
       "        vertical-align: top;\n",
       "    }\n",
       "\n",
       "    .dataframe thead th {\n",
       "        text-align: right;\n",
       "    }\n",
       "</style>\n",
       "<table border=\"1\" class=\"dataframe\">\n",
       "  <thead>\n",
       "    <tr style=\"text-align: right;\">\n",
       "      <th></th>\n",
       "      <th>id</th>\n",
       "      <th>age</th>\n",
       "      <th>gender</th>\n",
       "      <th>revenu_mensuel</th>\n",
       "      <th>lecture_journal</th>\n",
       "      <th>parti</th>\n",
       "    </tr>\n",
       "  </thead>\n",
       "  <tbody>\n",
       "    <tr>\n",
       "      <th>0</th>\n",
       "      <td>1</td>\n",
       "      <td>87</td>\n",
       "      <td>F</td>\n",
       "      <td>7410</td>\n",
       "      <td>trois-quatre fois par semaine</td>\n",
       "      <td>populiste</td>\n",
       "    </tr>\n",
       "    <tr>\n",
       "      <th>1</th>\n",
       "      <td>2</td>\n",
       "      <td>31</td>\n",
       "      <td>H</td>\n",
       "      <td>4466</td>\n",
       "      <td>de temps en temps</td>\n",
       "      <td>gauche</td>\n",
       "    </tr>\n",
       "    <tr>\n",
       "      <th>2</th>\n",
       "      <td>3</td>\n",
       "      <td>79</td>\n",
       "      <td>F</td>\n",
       "      <td>5515</td>\n",
       "      <td>trois-quatre fois par semaine</td>\n",
       "      <td>populiste</td>\n",
       "    </tr>\n",
       "    <tr>\n",
       "      <th>3</th>\n",
       "      <td>4</td>\n",
       "      <td>26</td>\n",
       "      <td>H</td>\n",
       "      <td>1876</td>\n",
       "      <td>le week-end</td>\n",
       "      <td>écologiste</td>\n",
       "    </tr>\n",
       "    <tr>\n",
       "      <th>4</th>\n",
       "      <td>5</td>\n",
       "      <td>75</td>\n",
       "      <td>F</td>\n",
       "      <td>3296</td>\n",
       "      <td>trois-quatre fois par semaine</td>\n",
       "      <td>gauche</td>\n",
       "    </tr>\n",
       "  </tbody>\n",
       "</table>\n",
       "</div>"
      ],
      "text/plain": [
       "   id  age gender  revenu_mensuel                lecture_journal       parti\n",
       "0   1   87      F            7410  trois-quatre fois par semaine   populiste\n",
       "1   2   31      H            4466              de temps en temps      gauche\n",
       "2   3   79      F            5515  trois-quatre fois par semaine   populiste\n",
       "3   4   26      H            1876                    le week-end  écologiste\n",
       "4   5   75      F            3296  trois-quatre fois par semaine      gauche"
      ]
     },
     "execution_count": 11,
     "metadata": {},
     "output_type": "execute_result"
    }
   ],
   "source": [
    "### Lire le fichier qui contient les données à analyser\n",
    "\n",
    "# Alternative: 'data/observations_mod.csv'\n",
    "path = 'data/observations_900.csv'\n",
    "\n",
    "observations = pd.read_csv(path)\n",
    "observations.head()"
   ]
  },
  {
   "cell_type": "code",
   "execution_count": 12,
   "id": "d0f7de99-4fbf-4faa-ad93-8a7927898230",
   "metadata": {},
   "outputs": [
    {
     "data": {
      "text/plain": [
       "RangeIndex(start=0, stop=900, step=1)"
      ]
     },
     "execution_count": 12,
     "metadata": {},
     "output_type": "execute_result"
    }
   ],
   "source": [
    "# La variable 'index' du dataframe qui contient l'index\n",
    "observations.index"
   ]
  },
  {
   "cell_type": "code",
   "execution_count": 13,
   "id": "3e8e5612-d91d-45d4-942e-f47d9e19ac68",
   "metadata": {},
   "outputs": [
    {
     "data": {
      "text/plain": [
       "[0, 1, 2, 3, 4]"
      ]
     },
     "execution_count": 13,
     "metadata": {},
     "output_type": "execute_result"
    }
   ],
   "source": [
    "# La même variable transformée en liste\n",
    "list(observations.index)[0:5]"
   ]
  },
  {
   "cell_type": "code",
   "execution_count": 14,
   "id": "d69f643c-520e-40ca-8b43-259e197010c5",
   "metadata": {},
   "outputs": [
    {
     "data": {
      "text/html": [
       "<div>\n",
       "<style scoped>\n",
       "    .dataframe tbody tr th:only-of-type {\n",
       "        vertical-align: middle;\n",
       "    }\n",
       "\n",
       "    .dataframe tbody tr th {\n",
       "        vertical-align: top;\n",
       "    }\n",
       "\n",
       "    .dataframe thead th {\n",
       "        text-align: right;\n",
       "    }\n",
       "</style>\n",
       "<table border=\"1\" class=\"dataframe\">\n",
       "  <thead>\n",
       "    <tr style=\"text-align: right;\">\n",
       "      <th></th>\n",
       "      <th>age</th>\n",
       "      <th>gender</th>\n",
       "      <th>revenu_mensuel</th>\n",
       "      <th>lecture_journal</th>\n",
       "      <th>parti</th>\n",
       "    </tr>\n",
       "    <tr>\n",
       "      <th>id</th>\n",
       "      <th></th>\n",
       "      <th></th>\n",
       "      <th></th>\n",
       "      <th></th>\n",
       "      <th></th>\n",
       "    </tr>\n",
       "  </thead>\n",
       "  <tbody>\n",
       "    <tr>\n",
       "      <th>893</th>\n",
       "      <td>39</td>\n",
       "      <td>F</td>\n",
       "      <td>4063</td>\n",
       "      <td>le week-end</td>\n",
       "      <td>écologiste</td>\n",
       "    </tr>\n",
       "    <tr>\n",
       "      <th>894</th>\n",
       "      <td>29</td>\n",
       "      <td>H</td>\n",
       "      <td>1693</td>\n",
       "      <td>très rarement</td>\n",
       "      <td>populiste</td>\n",
       "    </tr>\n",
       "    <tr>\n",
       "      <th>895</th>\n",
       "      <td>62</td>\n",
       "      <td>F</td>\n",
       "      <td>8840</td>\n",
       "      <td>tous les jours</td>\n",
       "      <td>centre</td>\n",
       "    </tr>\n",
       "    <tr>\n",
       "      <th>896</th>\n",
       "      <td>19</td>\n",
       "      <td>H</td>\n",
       "      <td>1661</td>\n",
       "      <td>tous les jours</td>\n",
       "      <td>droite</td>\n",
       "    </tr>\n",
       "    <tr>\n",
       "      <th>897</th>\n",
       "      <td>88</td>\n",
       "      <td>F</td>\n",
       "      <td>7952</td>\n",
       "      <td>trois-quatre fois par semaine</td>\n",
       "      <td>gauche</td>\n",
       "    </tr>\n",
       "    <tr>\n",
       "      <th>898</th>\n",
       "      <td>18</td>\n",
       "      <td>H</td>\n",
       "      <td>3552</td>\n",
       "      <td>tous les jours</td>\n",
       "      <td>centre</td>\n",
       "    </tr>\n",
       "    <tr>\n",
       "      <th>899</th>\n",
       "      <td>59</td>\n",
       "      <td>F</td>\n",
       "      <td>9018</td>\n",
       "      <td>le week-end</td>\n",
       "      <td>gauche</td>\n",
       "    </tr>\n",
       "    <tr>\n",
       "      <th>900</th>\n",
       "      <td>83</td>\n",
       "      <td>H</td>\n",
       "      <td>7330</td>\n",
       "      <td>le week-end</td>\n",
       "      <td>populiste</td>\n",
       "    </tr>\n",
       "  </tbody>\n",
       "</table>\n",
       "</div>"
      ],
      "text/plain": [
       "     age gender  revenu_mensuel                lecture_journal       parti\n",
       "id                                                                        \n",
       "893   39      F            4063                    le week-end  écologiste\n",
       "894   29      H            1693                  très rarement   populiste\n",
       "895   62      F            8840                 tous les jours      centre\n",
       "896   19      H            1661                 tous les jours      droite\n",
       "897   88      F            7952  trois-quatre fois par semaine      gauche\n",
       "898   18      H            3552                 tous les jours      centre\n",
       "899   59      F            9018                    le week-end      gauche\n",
       "900   83      H            7330                    le week-end   populiste"
      ]
     },
     "execution_count": 14,
     "metadata": {},
     "output_type": "execute_result"
    }
   ],
   "source": [
    "### changer l'index et mettre la valeur 'id' comme index\n",
    "# et ce afin de garder une cohérence avec les données de départ\n",
    "# Ça pourrait être notamment une primary key d'une table\n",
    "observations.set_index('id', inplace=True)\n",
    "# inspecter les huit dernières lignes du dataframe\n",
    "observations.tail(8)"
   ]
  },
  {
   "cell_type": "code",
   "execution_count": 15,
   "id": "877d0f67-b9fc-4c1e-b942-ce4c060f27c6",
   "metadata": {},
   "outputs": [
    {
     "data": {
      "text/plain": [
       "(900, 5)"
      ]
     },
     "execution_count": 15,
     "metadata": {},
     "output_type": "execute_result"
    }
   ],
   "source": [
    "## Nombre de lignes et de colonnes du tableau\n",
    "observations.shape"
   ]
  },
  {
   "cell_type": "code",
   "execution_count": 9,
   "id": "incredible-incident",
   "metadata": {},
   "outputs": [
    {
     "data": {
      "text/plain": [
       "900"
      ]
     },
     "execution_count": 9,
     "metadata": {},
     "output_type": "execute_result"
    }
   ],
   "source": [
    "### Nombre de lignes du tableau\n",
    "obs = observations\n",
    "len(obs)"
   ]
  },
  {
   "cell_type": "code",
   "execution_count": 16,
   "id": "83a72fff-5341-42d9-95ab-418dec58c6ae",
   "metadata": {},
   "outputs": [
    {
     "name": "stdout",
     "output_type": "stream",
     "text": [
      "<class 'pandas.core.frame.DataFrame'>\n",
      "Int64Index: 900 entries, 1 to 900\n",
      "Data columns (total 5 columns):\n",
      " #   Column           Non-Null Count  Dtype \n",
      "---  ------           --------------  ----- \n",
      " 0   age              900 non-null    int64 \n",
      " 1   gender           900 non-null    object\n",
      " 2   revenu_mensuel   900 non-null    int64 \n",
      " 3   lecture_journal  900 non-null    object\n",
      " 4   parti            900 non-null    object\n",
      "dtypes: int64(2), object(3)\n",
      "memory usage: 42.2+ KB\n"
     ]
    }
   ],
   "source": [
    "## Propriétés du tableau (variables, valeurs manquantes\n",
    "# et types de valeurs)\n",
    "obs.info()"
   ]
  },
  {
   "cell_type": "markdown",
   "id": "22d83066-204e-42f9-8390-ef63c345ee54",
   "metadata": {
    "tags": []
   },
   "source": [
    "## Regrouper et analyser les variables qualitatives"
   ]
  },
  {
   "cell_type": "markdown",
   "id": "cea03928-3372-439c-a7fa-888922203d14",
   "metadata": {},
   "source": [
    "### Genre"
   ]
  },
  {
   "cell_type": "code",
   "execution_count": 17,
   "id": "96cdbda9-6dc5-45ce-9e7d-1cb5bc0ee780",
   "metadata": {},
   "outputs": [
    {
     "data": {
      "text/plain": [
       "gender\n",
       "F    455\n",
       "H    445\n",
       "dtype: int64"
      ]
     },
     "execution_count": 17,
     "metadata": {},
     "output_type": "execute_result"
    }
   ],
   "source": [
    "### Regrouper et compter\n",
    "gb_gender = obs.groupby('gender').size()\n",
    "gb_gender"
   ]
  },
  {
   "cell_type": "code",
   "execution_count": 18,
   "id": "959568b5-1006-4b3f-9f05-a19de7020f22",
   "metadata": {},
   "outputs": [
    {
     "data": {
      "text/plain": [
       "pandas.core.series.Series"
      ]
     },
     "execution_count": 18,
     "metadata": {},
     "output_type": "execute_result"
    }
   ],
   "source": [
    "type(gb_gender)"
   ]
  },
  {
   "cell_type": "code",
   "execution_count": 21,
   "id": "f7d9d925-f0f1-4b40-b7f0-ec535d330453",
   "metadata": {},
   "outputs": [
    {
     "data": {
      "text/plain": [
       "['F', 'H']"
      ]
     },
     "execution_count": 21,
     "metadata": {},
     "output_type": "execute_result"
    }
   ],
   "source": [
    "# l'index de la série sous forme de liste\n",
    "list(gb_gender.index)"
   ]
  },
  {
   "cell_type": "markdown",
   "id": "c2cd534c-21e2-4597-af3e-bf4e4b9c2907",
   "metadata": {
    "tags": []
   },
   "source": [
    "### Parti politique"
   ]
  },
  {
   "cell_type": "code",
   "execution_count": 22,
   "id": "smart-chest",
   "metadata": {},
   "outputs": [
    {
     "data": {
      "text/plain": [
       "parti\n",
       "droite        154\n",
       "centre        162\n",
       "gauche        169\n",
       "populiste     199\n",
       "écologiste    216\n",
       "dtype: int64"
      ]
     },
     "execution_count": 22,
     "metadata": {},
     "output_type": "execute_result"
    }
   ],
   "source": [
    "### Regrouper et compter\n",
    "gb_parti = obs.groupby('parti').size()\n",
    "sgb_parti = gb_parti.sort_values(ascending = True)\n",
    "sgb_parti"
   ]
  },
  {
   "cell_type": "code",
   "execution_count": 23,
   "id": "divine-mention",
   "metadata": {},
   "outputs": [
    {
     "data": {
      "text/html": [
       "<div>\n",
       "<style scoped>\n",
       "    .dataframe tbody tr th:only-of-type {\n",
       "        vertical-align: middle;\n",
       "    }\n",
       "\n",
       "    .dataframe tbody tr th {\n",
       "        vertical-align: top;\n",
       "    }\n",
       "\n",
       "    .dataframe thead th {\n",
       "        text-align: right;\n",
       "    }\n",
       "</style>\n",
       "<table border=\"1\" class=\"dataframe\">\n",
       "  <thead>\n",
       "    <tr style=\"text-align: right;\">\n",
       "      <th></th>\n",
       "      <th>parti</th>\n",
       "      <th>effectif</th>\n",
       "    </tr>\n",
       "  </thead>\n",
       "  <tbody>\n",
       "    <tr>\n",
       "      <th>0</th>\n",
       "      <td>droite</td>\n",
       "      <td>154</td>\n",
       "    </tr>\n",
       "    <tr>\n",
       "      <th>1</th>\n",
       "      <td>centre</td>\n",
       "      <td>162</td>\n",
       "    </tr>\n",
       "    <tr>\n",
       "      <th>2</th>\n",
       "      <td>gauche</td>\n",
       "      <td>169</td>\n",
       "    </tr>\n",
       "    <tr>\n",
       "      <th>3</th>\n",
       "      <td>populiste</td>\n",
       "      <td>199</td>\n",
       "    </tr>\n",
       "    <tr>\n",
       "      <th>4</th>\n",
       "      <td>écologiste</td>\n",
       "      <td>216</td>\n",
       "    </tr>\n",
       "  </tbody>\n",
       "</table>\n",
       "</div>"
      ],
      "text/plain": [
       "        parti  effectif\n",
       "0      droite       154\n",
       "1      centre       162\n",
       "2      gauche       169\n",
       "3   populiste       199\n",
       "4  écologiste       216"
      ]
     },
     "execution_count": 23,
     "metadata": {},
     "output_type": "execute_result"
    }
   ],
   "source": [
    "### Création et modification du dataframe\n",
    "df_partis = pd.DataFrame(sgb_parti, columns=['effectif'])\n",
    "df_partis.reset_index(inplace=True)\n",
    "df_partis"
   ]
  },
  {
   "cell_type": "code",
   "execution_count": 24,
   "id": "b72574b5-40b9-4981-a34e-9550d6595600",
   "metadata": {},
   "outputs": [
    {
     "data": {
      "text/plain": [
       "Index(['parti', 'effectif'], dtype='object')"
      ]
     },
     "execution_count": 24,
     "metadata": {},
     "output_type": "execute_result"
    }
   ],
   "source": [
    "df_partis.columns"
   ]
  },
  {
   "cell_type": "code",
   "execution_count": 25,
   "id": "racial-doctor",
   "metadata": {
    "tags": []
   },
   "outputs": [
    {
     "data": {
      "text/html": [
       "<div>\n",
       "<style scoped>\n",
       "    .dataframe tbody tr th:only-of-type {\n",
       "        vertical-align: middle;\n",
       "    }\n",
       "\n",
       "    .dataframe tbody tr th {\n",
       "        vertical-align: top;\n",
       "    }\n",
       "\n",
       "    .dataframe thead th {\n",
       "        text-align: right;\n",
       "    }\n",
       "</style>\n",
       "<table border=\"1\" class=\"dataframe\">\n",
       "  <thead>\n",
       "    <tr style=\"text-align: right;\">\n",
       "      <th></th>\n",
       "      <th>parti</th>\n",
       "      <th>effectif</th>\n",
       "      <th>code_parti</th>\n",
       "    </tr>\n",
       "  </thead>\n",
       "  <tbody>\n",
       "    <tr>\n",
       "      <th>4</th>\n",
       "      <td>écologiste</td>\n",
       "      <td>216</td>\n",
       "      <td>0</td>\n",
       "    </tr>\n",
       "    <tr>\n",
       "      <th>2</th>\n",
       "      <td>gauche</td>\n",
       "      <td>169</td>\n",
       "      <td>1</td>\n",
       "    </tr>\n",
       "    <tr>\n",
       "      <th>1</th>\n",
       "      <td>centre</td>\n",
       "      <td>162</td>\n",
       "      <td>2</td>\n",
       "    </tr>\n",
       "    <tr>\n",
       "      <th>0</th>\n",
       "      <td>droite</td>\n",
       "      <td>154</td>\n",
       "      <td>3</td>\n",
       "    </tr>\n",
       "    <tr>\n",
       "      <th>3</th>\n",
       "      <td>populiste</td>\n",
       "      <td>199</td>\n",
       "      <td>4</td>\n",
       "    </tr>\n",
       "  </tbody>\n",
       "</table>\n",
       "</div>"
      ],
      "text/plain": [
       "        parti  effectif  code_parti\n",
       "4  écologiste       216           0\n",
       "2      gauche       169           1\n",
       "1      centre       162           2\n",
       "0      droite       154           3\n",
       "3   populiste       199           4"
      ]
     },
     "execution_count": 25,
     "metadata": {},
     "output_type": "execute_result"
    }
   ],
   "source": [
    "### Le code attribué manuellement permet de représenter l'émicycle parlementaire lors du tri\n",
    "# En revanche, noter que la valeur n'a pas de signification quantitative\n",
    "df_partis['code_parti'] = [3,2,1,4,0]\n",
    "df_partis.sort_values(by='code_parti')"
   ]
  },
  {
   "cell_type": "code",
   "execution_count": 26,
   "id": "overall-assistant",
   "metadata": {
    "tags": []
   },
   "outputs": [
    {
     "data": {
      "image/png": "[encoded data removed]",
      "text/plain": [
       "<Figure size 1500x500 with 1 Axes>"
      ]
     },
     "metadata": {},
     "output_type": "display_data"
    }
   ],
   "source": [
    "# Distribution par parti: représentation par diagramme à barres\n",
    "\n",
    "objects = [l for l in df_partis['parti']]\n",
    "eff = [l for l in df_partis['effectif']]\n",
    "\n",
    "objects = [l for l in df_partis.sort_values('code_parti')['parti']]\n",
    "eff = [l for l in df_partis.sort_values('code_parti')['effectif']]\n",
    "\n",
    "\n",
    "p1 = plt.bar(objects, eff, width=0.4)\n",
    "\n",
    "#plt.xticks(l5Years)\n",
    "plt.ylabel('Effectif')\n",
    "plt.title('Effectifs par parti')\n",
    "plt.gcf().set_size_inches(15,5)\n",
    "#plt.gca().axes.get_xaxis().set_visible(False)\n",
    "# supported formats: eps, pdf, pgf, png, ps, raw, rgba, svg, svgz\n",
    "#plt.savefig('exported_pictures/effectifs_naissances_par_annee.png', dpi=100, bbox_inches = \"tight\") #pdf, svg\n",
    "plt.xticks(rotation=45)\n",
    "plt.show()\n"
   ]
  },
  {
   "cell_type": "markdown",
   "id": "05decd70-39f0-408a-b85a-ba8b4a116d72",
   "metadata": {
    "tags": []
   },
   "source": [
    "### Fréquence de lecture d'un journal"
   ]
  },
  {
   "cell_type": "code",
   "execution_count": 27,
   "id": "chemical-cambodia",
   "metadata": {},
   "outputs": [
    {
     "data": {
      "text/plain": [
       "lecture_journal\n",
       "tous les jours                   232\n",
       "le week-end                      209\n",
       "trois-quatre fois par semaine    196\n",
       "de temps en temps                138\n",
       "très rarement                    125\n",
       "dtype: int64"
      ]
     },
     "execution_count": 27,
     "metadata": {},
     "output_type": "execute_result"
    }
   ],
   "source": [
    "### Regrouper et compter par fréquence de lecture du journal (variable qualitative)\n",
    "gb_lecture_journal = obs.groupby('lecture_journal').size()\n",
    "sgb_lecture_journal = gb_lecture_journal.sort_values(ascending = False)\n",
    "sgb_lecture_journal"
   ]
  },
  {
   "cell_type": "code",
   "execution_count": 28,
   "id": "regulated-object",
   "metadata": {},
   "outputs": [
    {
     "data": {
      "text/html": [
       "<div>\n",
       "<style scoped>\n",
       "    .dataframe tbody tr th:only-of-type {\n",
       "        vertical-align: middle;\n",
       "    }\n",
       "\n",
       "    .dataframe tbody tr th {\n",
       "        vertical-align: top;\n",
       "    }\n",
       "\n",
       "    .dataframe thead th {\n",
       "        text-align: right;\n",
       "    }\n",
       "</style>\n",
       "<table border=\"1\" class=\"dataframe\">\n",
       "  <thead>\n",
       "    <tr style=\"text-align: right;\">\n",
       "      <th></th>\n",
       "      <th>lecture</th>\n",
       "      <th>effectif</th>\n",
       "      <th>code_lecture</th>\n",
       "    </tr>\n",
       "  </thead>\n",
       "  <tbody>\n",
       "    <tr>\n",
       "      <th>0</th>\n",
       "      <td>tous les jours</td>\n",
       "      <td>232</td>\n",
       "      <td>5</td>\n",
       "    </tr>\n",
       "    <tr>\n",
       "      <th>1</th>\n",
       "      <td>le week-end</td>\n",
       "      <td>209</td>\n",
       "      <td>3</td>\n",
       "    </tr>\n",
       "    <tr>\n",
       "      <th>2</th>\n",
       "      <td>trois-quatre fois par semaine</td>\n",
       "      <td>196</td>\n",
       "      <td>4</td>\n",
       "    </tr>\n",
       "    <tr>\n",
       "      <th>3</th>\n",
       "      <td>de temps en temps</td>\n",
       "      <td>138</td>\n",
       "      <td>2</td>\n",
       "    </tr>\n",
       "    <tr>\n",
       "      <th>4</th>\n",
       "      <td>très rarement</td>\n",
       "      <td>125</td>\n",
       "      <td>1</td>\n",
       "    </tr>\n",
       "  </tbody>\n",
       "</table>\n",
       "</div>"
      ],
      "text/plain": [
       "                         lecture  effectif  code_lecture\n",
       "0                 tous les jours       232             5\n",
       "1                    le week-end       209             3\n",
       "2  trois-quatre fois par semaine       196             4\n",
       "3              de temps en temps       138             2\n",
       "4                  très rarement       125             1"
      ]
     },
     "execution_count": 28,
     "metadata": {},
     "output_type": "execute_result"
    }
   ],
   "source": [
    "## Le code permet un tri dans l'ordre de la fréquence de cette variable \n",
    "#  qui en fait est une variable qualitative ordonnée\n",
    "df_lecture_journal = pd.DataFrame(sgb_lecture_journal)\n",
    "df_lecture_journal.reset_index(inplace=True)\n",
    "df_lecture_journal.columns = ['lecture','effectif']\n",
    "df_lecture_journal['code_lecture'] = [5,3,4,2,1]\n",
    "df_lecture_journal"
   ]
  },
  {
   "cell_type": "code",
   "execution_count": 29,
   "id": "italian-grave",
   "metadata": {},
   "outputs": [
    {
     "data": {
      "text/plain": [
       "['très rarement',\n",
       " 'de temps en temps',\n",
       " 'le week-end',\n",
       " 'trois-quatre fois par semaine',\n",
       " 'tous les jours']"
      ]
     },
     "execution_count": 29,
     "metadata": {},
     "output_type": "execute_result"
    }
   ],
   "source": [
    "df_lecture_journal.sort_values('code_lecture', inplace=True)\n",
    "list(df_lecture_journal['lecture'])"
   ]
  },
  {
   "cell_type": "code",
   "execution_count": 30,
   "id": "exotic-decimal",
   "metadata": {},
   "outputs": [
    {
     "data": {
      "text/html": [
       "<div>\n",
       "<style scoped>\n",
       "    .dataframe tbody tr th:only-of-type {\n",
       "        vertical-align: middle;\n",
       "    }\n",
       "\n",
       "    .dataframe tbody tr th {\n",
       "        vertical-align: top;\n",
       "    }\n",
       "\n",
       "    .dataframe thead th {\n",
       "        text-align: right;\n",
       "    }\n",
       "</style>\n",
       "<table border=\"1\" class=\"dataframe\">\n",
       "  <thead>\n",
       "    <tr style=\"text-align: right;\">\n",
       "      <th></th>\n",
       "      <th>lecture</th>\n",
       "      <th>effectif</th>\n",
       "      <th>code_lecture</th>\n",
       "      <th>effectif_cumule</th>\n",
       "    </tr>\n",
       "  </thead>\n",
       "  <tbody>\n",
       "    <tr>\n",
       "      <th>4</th>\n",
       "      <td>très rarement</td>\n",
       "      <td>125</td>\n",
       "      <td>1</td>\n",
       "      <td>125</td>\n",
       "    </tr>\n",
       "    <tr>\n",
       "      <th>3</th>\n",
       "      <td>de temps en temps</td>\n",
       "      <td>138</td>\n",
       "      <td>2</td>\n",
       "      <td>263</td>\n",
       "    </tr>\n",
       "    <tr>\n",
       "      <th>1</th>\n",
       "      <td>le week-end</td>\n",
       "      <td>209</td>\n",
       "      <td>3</td>\n",
       "      <td>472</td>\n",
       "    </tr>\n",
       "    <tr>\n",
       "      <th>2</th>\n",
       "      <td>trois-quatre fois par semaine</td>\n",
       "      <td>196</td>\n",
       "      <td>4</td>\n",
       "      <td>668</td>\n",
       "    </tr>\n",
       "    <tr>\n",
       "      <th>0</th>\n",
       "      <td>tous les jours</td>\n",
       "      <td>232</td>\n",
       "      <td>5</td>\n",
       "      <td>900</td>\n",
       "    </tr>\n",
       "  </tbody>\n",
       "</table>\n",
       "</div>"
      ],
      "text/plain": [
       "                         lecture  effectif  code_lecture  effectif_cumule\n",
       "4                  très rarement       125             1              125\n",
       "3              de temps en temps       138             2              263\n",
       "1                    le week-end       209             3              472\n",
       "2  trois-quatre fois par semaine       196             4              668\n",
       "0                 tous les jours       232             5              900"
      ]
     },
     "execution_count": 30,
     "metadata": {},
     "output_type": "execute_result"
    }
   ],
   "source": [
    "df_lecture_journal['effectif_cumule'] = df_lecture_journal['effectif'].cumsum()\n",
    "df_lecture_journal"
   ]
  },
  {
   "cell_type": "code",
   "execution_count": 31,
   "id": "threatened-matter",
   "metadata": {},
   "outputs": [
    {
     "data": {
      "text/html": [
       "<div>\n",
       "<style scoped>\n",
       "    .dataframe tbody tr th:only-of-type {\n",
       "        vertical-align: middle;\n",
       "    }\n",
       "\n",
       "    .dataframe tbody tr th {\n",
       "        vertical-align: top;\n",
       "    }\n",
       "\n",
       "    .dataframe thead th {\n",
       "        text-align: right;\n",
       "    }\n",
       "</style>\n",
       "<table border=\"1\" class=\"dataframe\">\n",
       "  <thead>\n",
       "    <tr style=\"text-align: right;\">\n",
       "      <th></th>\n",
       "      <th>lecture</th>\n",
       "      <th>effectif</th>\n",
       "      <th>code_lecture</th>\n",
       "      <th>effectif_cumule</th>\n",
       "      <th>frequence</th>\n",
       "    </tr>\n",
       "  </thead>\n",
       "  <tbody>\n",
       "    <tr>\n",
       "      <th>4</th>\n",
       "      <td>très rarement</td>\n",
       "      <td>125</td>\n",
       "      <td>1</td>\n",
       "      <td>125</td>\n",
       "      <td>13.89</td>\n",
       "    </tr>\n",
       "    <tr>\n",
       "      <th>3</th>\n",
       "      <td>de temps en temps</td>\n",
       "      <td>138</td>\n",
       "      <td>2</td>\n",
       "      <td>263</td>\n",
       "      <td>15.33</td>\n",
       "    </tr>\n",
       "    <tr>\n",
       "      <th>1</th>\n",
       "      <td>le week-end</td>\n",
       "      <td>209</td>\n",
       "      <td>3</td>\n",
       "      <td>472</td>\n",
       "      <td>23.22</td>\n",
       "    </tr>\n",
       "    <tr>\n",
       "      <th>2</th>\n",
       "      <td>trois-quatre fois par semaine</td>\n",
       "      <td>196</td>\n",
       "      <td>4</td>\n",
       "      <td>668</td>\n",
       "      <td>21.78</td>\n",
       "    </tr>\n",
       "    <tr>\n",
       "      <th>0</th>\n",
       "      <td>tous les jours</td>\n",
       "      <td>232</td>\n",
       "      <td>5</td>\n",
       "      <td>900</td>\n",
       "      <td>25.78</td>\n",
       "    </tr>\n",
       "  </tbody>\n",
       "</table>\n",
       "</div>"
      ],
      "text/plain": [
       "                         lecture  effectif  code_lecture  effectif_cumule  \\\n",
       "4                  très rarement       125             1              125   \n",
       "3              de temps en temps       138             2              263   \n",
       "1                    le week-end       209             3              472   \n",
       "2  trois-quatre fois par semaine       196             4              668   \n",
       "0                 tous les jours       232             5              900   \n",
       "\n",
       "   frequence  \n",
       "4      13.89  \n",
       "3      15.33  \n",
       "1      23.22  \n",
       "2      21.78  \n",
       "0      25.78  "
      ]
     },
     "execution_count": 31,
     "metadata": {},
     "output_type": "execute_result"
    }
   ],
   "source": [
    "df_lecture_journal['frequence'] = (100 * df_lecture_journal['effectif'] \\\n",
    "                                   / df_lecture_journal['effectif'].sum()).round(2)\n",
    "df_lecture_journal"
   ]
  },
  {
   "cell_type": "code",
   "execution_count": 32,
   "id": "liable-candidate",
   "metadata": {},
   "outputs": [
    {
     "data": {
      "text/html": [
       "<div>\n",
       "<style scoped>\n",
       "    .dataframe tbody tr th:only-of-type {\n",
       "        vertical-align: middle;\n",
       "    }\n",
       "\n",
       "    .dataframe tbody tr th {\n",
       "        vertical-align: top;\n",
       "    }\n",
       "\n",
       "    .dataframe thead th {\n",
       "        text-align: right;\n",
       "    }\n",
       "</style>\n",
       "<table border=\"1\" class=\"dataframe\">\n",
       "  <thead>\n",
       "    <tr style=\"text-align: right;\">\n",
       "      <th></th>\n",
       "      <th>lecture</th>\n",
       "      <th>effectif</th>\n",
       "      <th>code_lecture</th>\n",
       "      <th>effectif_cumule</th>\n",
       "      <th>frequence</th>\n",
       "      <th>frequence_cumulee</th>\n",
       "    </tr>\n",
       "  </thead>\n",
       "  <tbody>\n",
       "    <tr>\n",
       "      <th>4</th>\n",
       "      <td>très rarement</td>\n",
       "      <td>125</td>\n",
       "      <td>1</td>\n",
       "      <td>125</td>\n",
       "      <td>13.89</td>\n",
       "      <td>13.89</td>\n",
       "    </tr>\n",
       "    <tr>\n",
       "      <th>3</th>\n",
       "      <td>de temps en temps</td>\n",
       "      <td>138</td>\n",
       "      <td>2</td>\n",
       "      <td>263</td>\n",
       "      <td>15.33</td>\n",
       "      <td>29.22</td>\n",
       "    </tr>\n",
       "    <tr>\n",
       "      <th>1</th>\n",
       "      <td>le week-end</td>\n",
       "      <td>209</td>\n",
       "      <td>3</td>\n",
       "      <td>472</td>\n",
       "      <td>23.22</td>\n",
       "      <td>52.44</td>\n",
       "    </tr>\n",
       "    <tr>\n",
       "      <th>2</th>\n",
       "      <td>trois-quatre fois par semaine</td>\n",
       "      <td>196</td>\n",
       "      <td>4</td>\n",
       "      <td>668</td>\n",
       "      <td>21.78</td>\n",
       "      <td>74.22</td>\n",
       "    </tr>\n",
       "    <tr>\n",
       "      <th>0</th>\n",
       "      <td>tous les jours</td>\n",
       "      <td>232</td>\n",
       "      <td>5</td>\n",
       "      <td>900</td>\n",
       "      <td>25.78</td>\n",
       "      <td>100.00</td>\n",
       "    </tr>\n",
       "  </tbody>\n",
       "</table>\n",
       "</div>"
      ],
      "text/plain": [
       "                         lecture  effectif  code_lecture  effectif_cumule  \\\n",
       "4                  très rarement       125             1              125   \n",
       "3              de temps en temps       138             2              263   \n",
       "1                    le week-end       209             3              472   \n",
       "2  trois-quatre fois par semaine       196             4              668   \n",
       "0                 tous les jours       232             5              900   \n",
       "\n",
       "   frequence  frequence_cumulee  \n",
       "4      13.89              13.89  \n",
       "3      15.33              29.22  \n",
       "1      23.22              52.44  \n",
       "2      21.78              74.22  \n",
       "0      25.78             100.00  "
      ]
     },
     "execution_count": 32,
     "metadata": {},
     "output_type": "execute_result"
    }
   ],
   "source": [
    "### Fréquence cumulée calculée en utilisant les effectifs cumulés\n",
    "\n",
    "df_lecture_journal['frequence_cumulee'] = (100 * df_lecture_journal['effectif_cumule'] \\\n",
    "                                / df_lecture_journal['effectif'].sum()).round(2)\n",
    "df_lecture_journal"
   ]
  },
  {
   "cell_type": "code",
   "execution_count": 33,
   "id": "numeric-metadata",
   "metadata": {},
   "outputs": [
    {
     "data": {
      "text/html": [
       "<div>\n",
       "<style scoped>\n",
       "    .dataframe tbody tr th:only-of-type {\n",
       "        vertical-align: middle;\n",
       "    }\n",
       "\n",
       "    .dataframe tbody tr th {\n",
       "        vertical-align: top;\n",
       "    }\n",
       "\n",
       "    .dataframe thead th {\n",
       "        text-align: right;\n",
       "    }\n",
       "</style>\n",
       "<table border=\"1\" class=\"dataframe\">\n",
       "  <thead>\n",
       "    <tr style=\"text-align: right;\">\n",
       "      <th></th>\n",
       "      <th>lecture</th>\n",
       "      <th>effectif</th>\n",
       "      <th>code_lecture</th>\n",
       "      <th>effectif_cumule</th>\n",
       "      <th>frequence</th>\n",
       "      <th>frequence_cumulee</th>\n",
       "    </tr>\n",
       "  </thead>\n",
       "  <tbody>\n",
       "    <tr>\n",
       "      <th>4</th>\n",
       "      <td>très rarement</td>\n",
       "      <td>125</td>\n",
       "      <td>1</td>\n",
       "      <td>125</td>\n",
       "      <td>13.89</td>\n",
       "      <td>13.89</td>\n",
       "    </tr>\n",
       "    <tr>\n",
       "      <th>3</th>\n",
       "      <td>de temps en temps</td>\n",
       "      <td>138</td>\n",
       "      <td>2</td>\n",
       "      <td>263</td>\n",
       "      <td>15.33</td>\n",
       "      <td>29.22</td>\n",
       "    </tr>\n",
       "    <tr>\n",
       "      <th>1</th>\n",
       "      <td>le week-end</td>\n",
       "      <td>209</td>\n",
       "      <td>3</td>\n",
       "      <td>472</td>\n",
       "      <td>23.22</td>\n",
       "      <td>52.44</td>\n",
       "    </tr>\n",
       "    <tr>\n",
       "      <th>2</th>\n",
       "      <td>trois-quatre fois par semaine</td>\n",
       "      <td>196</td>\n",
       "      <td>4</td>\n",
       "      <td>668</td>\n",
       "      <td>21.78</td>\n",
       "      <td>74.22</td>\n",
       "    </tr>\n",
       "    <tr>\n",
       "      <th>0</th>\n",
       "      <td>tous les jours</td>\n",
       "      <td>232</td>\n",
       "      <td>5</td>\n",
       "      <td>900</td>\n",
       "      <td>25.78</td>\n",
       "      <td>100.00</td>\n",
       "    </tr>\n",
       "  </tbody>\n",
       "</table>\n",
       "</div>"
      ],
      "text/plain": [
       "                         lecture  effectif  code_lecture  effectif_cumule  \\\n",
       "4                  très rarement       125             1              125   \n",
       "3              de temps en temps       138             2              263   \n",
       "1                    le week-end       209             3              472   \n",
       "2  trois-quatre fois par semaine       196             4              668   \n",
       "0                 tous les jours       232             5              900   \n",
       "\n",
       "   frequence  frequence_cumulee  \n",
       "4      13.89              13.89  \n",
       "3      15.33              29.22  \n",
       "1      23.22              52.44  \n",
       "2      21.78              74.22  \n",
       "0      25.78             100.00  "
      ]
     },
     "execution_count": 33,
     "metadata": {},
     "output_type": "execute_result"
    }
   ],
   "source": [
    "### Fréquence cumulée calculée directement\n",
    "\n",
    "# Cf. https://www.geeksforgeeks.org/cumulative-percentage-of-a-column-in-pandas-python/\n",
    "\n",
    "df_lecture_journal['frequence_cumulee'] = (100 * df_lecture_journal['effectif'].cumsum() \\\n",
    "                                / df_lecture_journal['effectif'].sum()).round(2)\n",
    "df_lecture_journal"
   ]
  },
  {
   "cell_type": "code",
   "execution_count": 34,
   "id": "billion-birthday",
   "metadata": {},
   "outputs": [
    {
     "data": {
      "image/png": "[encoded data removed]",
      "text/plain": [
       "<Figure size 900x600 with 1 Axes>"
      ]
     },
     "metadata": {},
     "output_type": "display_data"
    }
   ],
   "source": [
    "# Distribution par lecture journal\n",
    "\n",
    "objects = [l for l in sgb_lecture_journal.index]\n",
    "eff = [l for l in sgb_lecture_journal.values]\n",
    "\n",
    "\n",
    "objects = [l for l in df_lecture_journal.sort_values('code_lecture')['lecture']]\n",
    "eff = [l for l in df_lecture_journal.sort_values('code_lecture')['effectif']]\n",
    "\n",
    "p1 = plt.bar(objects, eff, width=0.3)\n",
    "\n",
    "#plt.xticks(l5Years)\n",
    "plt.ylabel('Effectif')\n",
    "plt.title('Effectif par lecture du journal')\n",
    "plt.gcf().set_size_inches(9,6)\n",
    "#plt.gca().axes.get_xaxis().set_visible(False)\n",
    "# supported formats: eps, pdf, pgf, png, ps, raw, rgba, svg, svgz\n",
    "#plt.savefig('exported_pictures/effectifs_naissances_par_annee.png', dpi=100, bbox_inches = \"tight\") #pdf, svg\n",
    "plt.xticks(rotation=45)\n",
    "plt.show()\n"
   ]
  },
  {
   "cell_type": "code",
   "execution_count": 35,
   "id": "191ddb6d-b5fa-4451-9e90-55a3c8cf0d4f",
   "metadata": {},
   "outputs": [
    {
     "data": {
      "text/html": [
       "<div>\n",
       "<style scoped>\n",
       "    .dataframe tbody tr th:only-of-type {\n",
       "        vertical-align: middle;\n",
       "    }\n",
       "\n",
       "    .dataframe tbody tr th {\n",
       "        vertical-align: top;\n",
       "    }\n",
       "\n",
       "    .dataframe thead th {\n",
       "        text-align: right;\n",
       "    }\n",
       "</style>\n",
       "<table border=\"1\" class=\"dataframe\">\n",
       "  <thead>\n",
       "    <tr style=\"text-align: right;\">\n",
       "      <th></th>\n",
       "      <th>frequence</th>\n",
       "    </tr>\n",
       "    <tr>\n",
       "      <th>lecture</th>\n",
       "      <th></th>\n",
       "    </tr>\n",
       "  </thead>\n",
       "  <tbody>\n",
       "    <tr>\n",
       "      <th>très rarement</th>\n",
       "      <td>13.89</td>\n",
       "    </tr>\n",
       "    <tr>\n",
       "      <th>de temps en temps</th>\n",
       "      <td>15.33</td>\n",
       "    </tr>\n",
       "    <tr>\n",
       "      <th>le week-end</th>\n",
       "      <td>23.22</td>\n",
       "    </tr>\n",
       "    <tr>\n",
       "      <th>trois-quatre fois par semaine</th>\n",
       "      <td>21.78</td>\n",
       "    </tr>\n",
       "    <tr>\n",
       "      <th>tous les jours</th>\n",
       "      <td>25.78</td>\n",
       "    </tr>\n",
       "  </tbody>\n",
       "</table>\n",
       "</div>"
      ],
      "text/plain": [
       "                               frequence\n",
       "lecture                                 \n",
       "très rarement                      13.89\n",
       "de temps en temps                  15.33\n",
       "le week-end                        23.22\n",
       "trois-quatre fois par semaine      21.78\n",
       "tous les jours                     25.78"
      ]
     },
     "execution_count": 35,
     "metadata": {},
     "output_type": "execute_result"
    }
   ],
   "source": [
    "lect_jour = df_lecture_journal[['lecture', 'frequence']]\n",
    "lect_jour.set_index('lecture', inplace=True)\n",
    "lect_jour.head()\n"
   ]
  },
  {
   "cell_type": "code",
   "execution_count": 36,
   "id": "2f903089-4848-48d4-a837-03132858ca6f",
   "metadata": {},
   "outputs": [
    {
     "data": {
      "text/plain": [
       "<Axes: xlabel='lecture'>"
      ]
     },
     "execution_count": 36,
     "metadata": {},
     "output_type": "execute_result"
    },
    {
     "data": {
      "image/png": "[encoded data removed]",
      "text/plain": [
       "<Figure size 1500x500 with 2 Axes>"
      ]
     },
     "metadata": {},
     "output_type": "display_data"
    }
   ],
   "source": [
    "### Colormaps\n",
    "# http://scipy.github.io/old-wiki/pages/Cookbook/Matplotlib/Show_colormaps\n",
    "\n",
    "fig, axs = plt.subplots(1,2)\n",
    "fig.tight_layout()\n",
    "\n",
    "df_lecture_journal.plot(kind='bar', x='lecture', y='effectif',ax=axs[0], \n",
    "                        figsize=(15,5), color='lightblue',rot=4, fontsize=8)\n",
    "df_lecture_journal.plot(kind='bar', x='lecture', y='frequence',ax=axs[1], \n",
    "                        figsize=(15,5), color='lightgrey', rot=4, fontsize=8)\n"
   ]
  },
  {
   "cell_type": "code",
   "execution_count": 37,
   "id": "36dd4e70-68b3-400e-b181-115ffdc24625",
   "metadata": {},
   "outputs": [
    {
     "data": {
      "text/plain": [
       "<Axes: ylabel='frequence'>"
      ]
     },
     "execution_count": 37,
     "metadata": {},
     "output_type": "execute_result"
    },
    {
     "data": {
      "image/png": "[encoded data removed]",
      "text/plain": [
       "<Figure size 1500x500 with 2 Axes>"
      ]
     },
     "metadata": {},
     "output_type": "display_data"
    }
   ],
   "source": [
    "### Colormaps\n",
    "# http://scipy.github.io/old-wiki/pages/Cookbook/Matplotlib/Show_colormaps\n",
    "\n",
    "fig, axs = plt.subplots(1,2)\n",
    "\n",
    "lect_jour.plot(kind='pie', y='frequence',ax=axs[0], figsize=(15,5), legend=False)\n",
    "\n",
    "### A préferer: une seule couleur, car différente intensité du même phénomène\n",
    "lect_jour.plot(kind='pie', y='frequence',ax=axs[1], colormap='Blues', figsize=(15,5), legend=False)\n"
   ]
  },
  {
   "cell_type": "code",
   "execution_count": 38,
   "id": "a48a6ba4-29f5-4643-84a8-6e8ca717f60b",
   "metadata": {},
   "outputs": [
    {
     "data": {
      "text/html": [
       "<div>\n",
       "<style scoped>\n",
       "    .dataframe tbody tr th:only-of-type {\n",
       "        vertical-align: middle;\n",
       "    }\n",
       "\n",
       "    .dataframe tbody tr th {\n",
       "        vertical-align: top;\n",
       "    }\n",
       "\n",
       "    .dataframe thead th {\n",
       "        text-align: right;\n",
       "    }\n",
       "</style>\n",
       "<table border=\"1\" class=\"dataframe\">\n",
       "  <thead>\n",
       "    <tr style=\"text-align: right;\">\n",
       "      <th>lecture</th>\n",
       "      <th>très rarement</th>\n",
       "      <th>de temps en temps</th>\n",
       "      <th>le week-end</th>\n",
       "      <th>trois-quatre fois par semaine</th>\n",
       "      <th>tous les jours</th>\n",
       "    </tr>\n",
       "  </thead>\n",
       "  <tbody>\n",
       "    <tr>\n",
       "      <th>frequence</th>\n",
       "      <td>13.89</td>\n",
       "      <td>15.33</td>\n",
       "      <td>23.22</td>\n",
       "      <td>21.78</td>\n",
       "      <td>25.78</td>\n",
       "    </tr>\n",
       "  </tbody>\n",
       "</table>\n",
       "</div>"
      ],
      "text/plain": [
       "lecture    très rarement  de temps en temps  le week-end  \\\n",
       "frequence          13.89              15.33        23.22   \n",
       "\n",
       "lecture    trois-quatre fois par semaine  tous les jours  \n",
       "frequence                          21.78           25.78  "
      ]
     },
     "execution_count": 38,
     "metadata": {},
     "output_type": "execute_result"
    }
   ],
   "source": [
    "ljt = lect_jour.T\n",
    "ljt"
   ]
  },
  {
   "cell_type": "code",
   "execution_count": 59,
   "id": "ed2ba948-61c9-477b-9763-ed8b8341ad7d",
   "metadata": {},
   "outputs": [
    {
     "data": {
      "image/png": "[encoded data removed]",
      "text/plain": [
       "<Figure size 1500x500 with 1 Axes>"
      ]
     },
     "metadata": {},
     "output_type": "display_data"
    }
   ],
   "source": [
    "### Pandas plot reference\n",
    "# https://pandas.pydata.org/pandas-docs/stable/reference/api/pandas.DataFrame.plot.html\n",
    "## Barplots\n",
    "# https://www.shanelynn.ie/bar-plots-in-python-using-pandas-dataframes/\n",
    "\n",
    "fig = ljt.plot(kind='barh', stacked=True, figsize=(15,5), colormap='Blues', width=0.2, xlim=[0,100])"
   ]
  },
  {
   "cell_type": "code",
   "execution_count": 39,
   "id": "e7b179e8-10fe-481e-888c-14f573f3c1fd",
   "metadata": {
    "tags": []
   },
   "outputs": [
    {
     "data": {
      "image/png": "[encoded data removed]",
      "text/plain": [
       "<Figure size 1200x400 with 1 Axes>"
      ]
     },
     "metadata": {},
     "output_type": "display_data"
    }
   ],
   "source": [
    "# Distribution par lecture journal: fréquence cumulée\n",
    "\n",
    "objects = [l for l in sgb_lecture_journal.index]\n",
    "eff = [l for l in sgb_lecture_journal.values]\n",
    "\n",
    "\n",
    "objects = [l for l in df_lecture_journal['lecture']]\n",
    "eff = [l for l in df_lecture_journal['frequence_cumulee']]\n",
    "\n",
    "p1 = plt.bar(objects, eff, width=0.3)\n",
    "\n",
    "#plt.xticks(l5Years)\n",
    "plt.ylabel('Fréquence cumulée')\n",
    "plt.title('Fréquence cumulée par lecture du journal')\n",
    "plt.gcf().set_size_inches(12,4)\n",
    "#plt.gca().axes.get_xaxis().set_visible(False)\n",
    "# supported formats: eps, pdf, pgf, png, ps, raw, rgba, svg, svgz\n",
    "#plt.savefig('exported_pictures/effectifs_naissances_par_annee.png', dpi=100, bbox_inches = \"tight\") #pdf, svg\n",
    "plt.xticks(rotation=45)\n",
    "plt.show()\n"
   ]
  },
  {
   "cell_type": "code",
   "execution_count": 42,
   "id": "prompt-screening",
   "metadata": {
    "tags": []
   },
   "outputs": [
    {
     "data": {
      "image/png": "[encoded data removed]",
      "text/plain": [
       "<Figure size 400x600 with 1 Axes>"
      ]
     },
     "metadata": {},
     "output_type": "display_data"
    }
   ],
   "source": [
    "### Distribution par lecture journal: fréquence cumulée\n",
    "# Diagramme par paliers plus lisible\n",
    "\n",
    "objects = [l for l in sgb_lecture_journal.index]\n",
    "eff = [l for l in sgb_lecture_journal.values]\n",
    "\n",
    "\n",
    "objects = [l for l in df_lecture_journal['lecture']]\n",
    "eff = [l for l in df_lecture_journal['frequence_cumulee']]\n",
    "\n",
    "p1 = plt.plot(objects, eff, drawstyle='steps-mid') # autre valeur: steps-post, steps\n",
    "\n",
    "plt.ylabel('Fréquence cumulée')\n",
    "plt.title('Fréquence cumulée par lecture du journal')\n",
    "plt.gcf().set_size_inches(4,6)\n",
    "# supported formats: eps, pdf, pgf, png, ps, raw, rgba, svg, svgz\n",
    "#plt.savefig('exported_pictures/effectifs_naissances_par_annee.png', dpi=100, bbox_inches = \"tight\") #pdf, svg\n",
    "plt.xticks(rotation=45)\n",
    "plt.show()\n"
   ]
  },
  {
   "cell_type": "code",
   "execution_count": 43,
   "id": "f8729f45-3f7a-4f35-8a60-dd5e7815e2e0",
   "metadata": {},
   "outputs": [
    {
     "data": {
      "text/html": [
       "<div>\n",
       "<style scoped>\n",
       "    .dataframe tbody tr th:only-of-type {\n",
       "        vertical-align: middle;\n",
       "    }\n",
       "\n",
       "    .dataframe tbody tr th {\n",
       "        vertical-align: top;\n",
       "    }\n",
       "\n",
       "    .dataframe thead th {\n",
       "        text-align: right;\n",
       "    }\n",
       "</style>\n",
       "<table border=\"1\" class=\"dataframe\">\n",
       "  <thead>\n",
       "    <tr style=\"text-align: right;\">\n",
       "      <th></th>\n",
       "      <th>age</th>\n",
       "      <th>gender</th>\n",
       "      <th>revenu_mensuel</th>\n",
       "      <th>lecture_journal</th>\n",
       "      <th>parti</th>\n",
       "      <th>lecture_journal_codes</th>\n",
       "    </tr>\n",
       "    <tr>\n",
       "      <th>id</th>\n",
       "      <th></th>\n",
       "      <th></th>\n",
       "      <th></th>\n",
       "      <th></th>\n",
       "      <th></th>\n",
       "      <th></th>\n",
       "    </tr>\n",
       "  </thead>\n",
       "  <tbody>\n",
       "    <tr>\n",
       "      <th>1</th>\n",
       "      <td>87</td>\n",
       "      <td>F</td>\n",
       "      <td>7410</td>\n",
       "      <td>trois-quatre fois par semaine</td>\n",
       "      <td>populiste</td>\n",
       "      <td>4</td>\n",
       "    </tr>\n",
       "    <tr>\n",
       "      <th>2</th>\n",
       "      <td>31</td>\n",
       "      <td>H</td>\n",
       "      <td>4466</td>\n",
       "      <td>de temps en temps</td>\n",
       "      <td>gauche</td>\n",
       "      <td>2</td>\n",
       "    </tr>\n",
       "    <tr>\n",
       "      <th>3</th>\n",
       "      <td>79</td>\n",
       "      <td>F</td>\n",
       "      <td>5515</td>\n",
       "      <td>trois-quatre fois par semaine</td>\n",
       "      <td>populiste</td>\n",
       "      <td>4</td>\n",
       "    </tr>\n",
       "    <tr>\n",
       "      <th>4</th>\n",
       "      <td>26</td>\n",
       "      <td>H</td>\n",
       "      <td>1876</td>\n",
       "      <td>le week-end</td>\n",
       "      <td>écologiste</td>\n",
       "      <td>3</td>\n",
       "    </tr>\n",
       "    <tr>\n",
       "      <th>5</th>\n",
       "      <td>75</td>\n",
       "      <td>F</td>\n",
       "      <td>3296</td>\n",
       "      <td>trois-quatre fois par semaine</td>\n",
       "      <td>gauche</td>\n",
       "      <td>4</td>\n",
       "    </tr>\n",
       "  </tbody>\n",
       "</table>\n",
       "</div>"
      ],
      "text/plain": [
       "    age gender  revenu_mensuel                lecture_journal       parti  \\\n",
       "id                                                                          \n",
       "1    87      F            7410  trois-quatre fois par semaine   populiste   \n",
       "2    31      H            4466              de temps en temps      gauche   \n",
       "3    79      F            5515  trois-quatre fois par semaine   populiste   \n",
       "4    26      H            1876                    le week-end  écologiste   \n",
       "5    75      F            3296  trois-quatre fois par semaine      gauche   \n",
       "\n",
       "    lecture_journal_codes  \n",
       "id                         \n",
       "1                       4  \n",
       "2                       2  \n",
       "3                       4  \n",
       "4                       3  \n",
       "5                       4  "
      ]
     },
     "execution_count": 43,
     "metadata": {},
     "output_type": "execute_result"
    }
   ],
   "source": [
    "###  https://pandas.pydata.org/pandas-docs/stable/reference/api/pandas.DataFrame.replace.html\n",
    "obs['lecture_journal_codes'] = obs['lecture_journal']\\\n",
    "    .replace(['très rarement','de temps en temps','le week-end',\n",
    "              'trois-quatre fois par semaine','tous les jours'],[1,2,3,4,5])\n",
    "obs.head()"
   ]
  },
  {
   "cell_type": "code",
   "execution_count": 44,
   "id": "65ef7d35-2498-4141-86f1-05d5daec75a5",
   "metadata": {},
   "outputs": [
    {
     "data": {
      "text/plain": [
       "(1.0, 5.0)"
      ]
     },
     "execution_count": 44,
     "metadata": {},
     "output_type": "execute_result"
    },
    {
     "data": {
      "image/png": "[encoded data removed]",
      "text/plain": [
       "<Figure size 2000x600 with 1 Axes>"
      ]
     },
     "metadata": {},
     "output_type": "display_data"
    }
   ],
   "source": [
    "### Ce violin plot n'a pas beaucoup de sens et en doit pas être utilisé ! \n",
    "#  car les densitées des points intermédiaires (qui n'existent pas) sont trompeuses\n",
    "# Adapté pour les variables continues, le violin plot ne l'est pas pour les \n",
    "# variables ordonnées comme dans le cas présent:\n",
    "# les codes (1,2,3,4,5) ne sont pas des valeurs mais l'index d'une position relative \n",
    "\n",
    "sns.set_theme(style=\"whitegrid\")\n",
    "\n",
    "sns.set(rc={\"figure.figsize\":(20, 6)})\n",
    "\n",
    "l = obs[\"lecture_journal_codes\"]\n",
    "\n",
    "ax = sns.violinplot(x=l)\n",
    "ax.set_xlim(left=min(l), right=max(l))\n",
    "\n"
   ]
  },
  {
   "cell_type": "code",
   "execution_count": null,
   "id": "c9bb460b-69d1-4e52-9859-41a2adaa2d6d",
   "metadata": {},
   "outputs": [],
   "source": []
  },
  {
   "cell_type": "code",
   "execution_count": null,
   "id": "04e7b01a-06ec-4d60-875a-8cee1645052f",
   "metadata": {},
   "outputs": [],
   "source": []
  }
 ],
 "metadata": {
  "kernelspec": {
   "display_name": "py311_data_analysis",
   "language": "python",
   "name": "py311_data_analysis"
  },
  "language_info": {
   "codemirror_mode": {
    "name": "ipython",
    "version": 3
   },
   "file_extension": ".py",
   "mimetype": "text/x-python",
   "name": "python",
   "nbconvert_exporter": "python",
   "pygments_lexer": "ipython3",
   "version": "3.11.7"
  }
 },
 "nbformat": 4,
 "nbformat_minor": 5
}
