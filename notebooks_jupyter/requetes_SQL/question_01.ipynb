{
 "cells": [
  {
   "cell_type": "markdown",
   "id": "2892e3e5-7275-4a68-b4dd-bc259d90d144",
   "metadata": {},
   "source": [
    "évolution des adhésions entre 1957-1976 (prendre toutes les adhésions) cette requête permet de voir le nombre d'adhésion par genre sur une période de 15ans. séparé par période de 4ans sur la base des législatures cantonales pour regrouper les individus."
   ]
  },
  {
   "cell_type": "code",
   "execution_count": 2,
   "id": "318af92f-c3a3-4087-8aa5-c68bc36273c4",
   "metadata": {},
   "outputs": [
    {
     "name": "stdout",
     "output_type": "stream",
     "text": [
      "173\n"
     ]
    }
   ],
   "source": [
    "import sqlite3\n",
    "import pandas\n",
    "\n",
    "connection = sqlite3.connect('C:/Users/LZender/Documents/Travail/unine/histoire/mémoire/AEN/grand_conseil/memoire_POP/liste_grand_conseil.db')\n",
    "\n",
    "\n",
    "cursor = connection.cursor()\n",
    "\n",
    "result = cursor.execute(\"\"\"\n",
    "SELECT COUNT(pk_personne)\n",
    "FROM personne\n",
    "WHERE genre = 'F' AND adhesion BETWEEN 1957 AND 1976\n",
    "\"\"\")\n",
    "\n",
    "print(cursor.fetchall()[0][0])"
   ]
  },
  {
   "cell_type": "code",
   "execution_count": 3,
   "id": "b7f7c04b-d895-42cb-8271-aa68b1986586",
   "metadata": {},
   "outputs": [
    {
     "name": "stdout",
     "output_type": "stream",
     "text": [
      "[{'start': 1957, 'end': 1960, 'femmes': 19, 'hommes': 51}, {'start': 1961, 'end': 1964, 'femmes': 55, 'hommes': 117}, {'start': 1965, 'end': 1968, 'femmes': 39, 'hommes': 95}, {'start': 1969, 'end': 1972, 'femmes': 28, 'hommes': 47}, {'start': 1973, 'end': 1976, 'femmes': 32, 'hommes': 16}]\n"
     ]
    }
   ],
   "source": [
    "annees = list(range(1957, 1978, 4))\n",
    "\n",
    "periodes = []\n",
    "\n",
    "for index, annee_item in enumerate(annees):\n",
    "    if index + 1 < len(annees):\n",
    "        periodes.append({\n",
    "            'start': annees[index],\n",
    "            'end': annees[index + 1] - 1\n",
    "        })\n",
    "\n",
    "for periode_item in periodes:\n",
    "    start = periode_item['start']\n",
    "    end = periode_item['end']\n",
    "    cursor.execute(\"\"\"\n",
    "SELECT COUNT(pk_personne)\n",
    "FROM personne\n",
    "WHERE genre = 'F' AND adhesion BETWEEN ? AND ?\n",
    "\"\"\", [start, end])\n",
    "    result_femmes = cursor.fetchall()[0][0]\n",
    "    cursor.execute(\"\"\"\n",
    "SELECT COUNT(pk_personne)\n",
    "FROM personne\n",
    "WHERE genre = 'M' AND adhesion BETWEEN ? AND ?\n",
    "\"\"\", [start, end])\n",
    "    result_hommes = cursor.fetchall()[0][0]\n",
    "    periode_item['femmes'] = result_femmes\n",
    "    periode_item['hommes'] = result_hommes\n",
    "\n",
    "print(periodes)"
   ]
  },
  {
   "cell_type": "code",
   "execution_count": 48,
   "id": "b3c1bafd-5ee2-4767-83f2-e27c9b249763",
   "metadata": {},
   "outputs": [
    {
     "data": {
      "text/html": [
       "<div>\n",
       "<style scoped>\n",
       "    .dataframe tbody tr th:only-of-type {\n",
       "        vertical-align: middle;\n",
       "    }\n",
       "\n",
       "    .dataframe tbody tr th {\n",
       "        vertical-align: top;\n",
       "    }\n",
       "\n",
       "    .dataframe thead th {\n",
       "        text-align: right;\n",
       "    }\n",
       "</style>\n",
       "<table border=\"1\" class=\"dataframe\">\n",
       "  <thead>\n",
       "    <tr style=\"text-align: right;\">\n",
       "      <th></th>\n",
       "      <th>start</th>\n",
       "      <th>end</th>\n",
       "      <th>femmes</th>\n",
       "      <th>hommes</th>\n",
       "      <th>total</th>\n",
       "      <th>pourcentage_femmes</th>\n",
       "      <th>pourcentage_hommes</th>\n",
       "    </tr>\n",
       "  </thead>\n",
       "  <tbody>\n",
       "    <tr>\n",
       "      <th>0</th>\n",
       "      <td>1957</td>\n",
       "      <td>1960</td>\n",
       "      <td>19</td>\n",
       "      <td>51</td>\n",
       "      <td>70</td>\n",
       "      <td>27.142857</td>\n",
       "      <td>72.857143</td>\n",
       "    </tr>\n",
       "    <tr>\n",
       "      <th>1</th>\n",
       "      <td>1961</td>\n",
       "      <td>1964</td>\n",
       "      <td>55</td>\n",
       "      <td>117</td>\n",
       "      <td>172</td>\n",
       "      <td>31.976744</td>\n",
       "      <td>68.023256</td>\n",
       "    </tr>\n",
       "    <tr>\n",
       "      <th>2</th>\n",
       "      <td>1965</td>\n",
       "      <td>1968</td>\n",
       "      <td>39</td>\n",
       "      <td>95</td>\n",
       "      <td>134</td>\n",
       "      <td>29.104478</td>\n",
       "      <td>70.895522</td>\n",
       "    </tr>\n",
       "    <tr>\n",
       "      <th>3</th>\n",
       "      <td>1969</td>\n",
       "      <td>1972</td>\n",
       "      <td>28</td>\n",
       "      <td>47</td>\n",
       "      <td>75</td>\n",
       "      <td>37.333333</td>\n",
       "      <td>62.666667</td>\n",
       "    </tr>\n",
       "    <tr>\n",
       "      <th>4</th>\n",
       "      <td>1973</td>\n",
       "      <td>1976</td>\n",
       "      <td>32</td>\n",
       "      <td>16</td>\n",
       "      <td>48</td>\n",
       "      <td>66.666667</td>\n",
       "      <td>33.333333</td>\n",
       "    </tr>\n",
       "  </tbody>\n",
       "</table>\n",
       "</div>"
      ],
      "text/plain": [
       "   start   end  femmes  hommes  total  pourcentage_femmes  pourcentage_hommes\n",
       "0   1957  1960      19      51     70           27.142857           72.857143\n",
       "1   1961  1964      55     117    172           31.976744           68.023256\n",
       "2   1965  1968      39      95    134           29.104478           70.895522\n",
       "3   1969  1972      28      47     75           37.333333           62.666667\n",
       "4   1973  1976      32      16     48           66.666667           33.333333"
      ]
     },
     "execution_count": 48,
     "metadata": {},
     "output_type": "execute_result"
    }
   ],
   "source": [
    "df = pandas.DataFrame.from_dict(periodes)\n",
    "\n",
    "df['total'] = df['femmes'] + df['hommes']\n",
    "\n",
    "df['pourcentage_femmes'] = df['femmes'] / df['total'] * 100.00\n",
    "df['pourcentage_hommes'] = df['hommes'] / df['total'] * 100.00\n",
    "\n",
    "df.head()"
   ]
  },
  {
   "cell_type": "code",
   "execution_count": 51,
   "id": "3ea769db-3c32-4448-93a3-93535ee4a842",
   "metadata": {},
   "outputs": [
    {
     "data": {
      "text/html": [
       "<div>\n",
       "<style scoped>\n",
       "    .dataframe tbody tr th:only-of-type {\n",
       "        vertical-align: middle;\n",
       "    }\n",
       "\n",
       "    .dataframe tbody tr th {\n",
       "        vertical-align: top;\n",
       "    }\n",
       "\n",
       "    .dataframe thead th {\n",
       "        text-align: right;\n",
       "    }\n",
       "</style>\n",
       "<table border=\"1\" class=\"dataframe\">\n",
       "  <thead>\n",
       "    <tr style=\"text-align: right;\">\n",
       "      <th></th>\n",
       "      <th>start</th>\n",
       "      <th>end</th>\n",
       "      <th>pourcentage_femmes</th>\n",
       "      <th>pourcentage_hommes</th>\n",
       "    </tr>\n",
       "  </thead>\n",
       "  <tbody>\n",
       "    <tr>\n",
       "      <th>0</th>\n",
       "      <td>1957</td>\n",
       "      <td>1960</td>\n",
       "      <td>27.142857</td>\n",
       "      <td>72.857143</td>\n",
       "    </tr>\n",
       "    <tr>\n",
       "      <th>1</th>\n",
       "      <td>1961</td>\n",
       "      <td>1964</td>\n",
       "      <td>31.976744</td>\n",
       "      <td>68.023256</td>\n",
       "    </tr>\n",
       "    <tr>\n",
       "      <th>2</th>\n",
       "      <td>1965</td>\n",
       "      <td>1968</td>\n",
       "      <td>29.104478</td>\n",
       "      <td>70.895522</td>\n",
       "    </tr>\n",
       "    <tr>\n",
       "      <th>3</th>\n",
       "      <td>1969</td>\n",
       "      <td>1972</td>\n",
       "      <td>37.333333</td>\n",
       "      <td>62.666667</td>\n",
       "    </tr>\n",
       "    <tr>\n",
       "      <th>4</th>\n",
       "      <td>1973</td>\n",
       "      <td>1976</td>\n",
       "      <td>66.666667</td>\n",
       "      <td>33.333333</td>\n",
       "    </tr>\n",
       "  </tbody>\n",
       "</table>\n",
       "</div>"
      ],
      "text/plain": [
       "   start   end  pourcentage_femmes  pourcentage_hommes\n",
       "0   1957  1960           27.142857           72.857143\n",
       "1   1961  1964           31.976744           68.023256\n",
       "2   1965  1968           29.104478           70.895522\n",
       "3   1969  1972           37.333333           62.666667\n",
       "4   1973  1976           66.666667           33.333333"
      ]
     },
     "execution_count": 51,
     "metadata": {},
     "output_type": "execute_result"
    }
   ],
   "source": [
    "df_copy = df.drop(columns=['femmes', 'hommes', 'total'])\n",
    "\n",
    "df_copy.head()"
   ]
  },
  {
   "cell_type": "code",
   "execution_count": null,
   "id": "e9cc78a2-20af-4147-892f-6ba23c2f0f7b",
   "metadata": {},
   "outputs": [],
   "source": []
  }
 ],
 "metadata": {
  "kernelspec": {
   "display_name": "py311_data_analysis",
   "language": "python",
   "name": "py311_data_analysis"
  },
  "language_info": {
   "codemirror_mode": {
    "name": "ipython",
    "version": 3
   },
   "file_extension": ".py",
   "mimetype": "text/x-python",
   "name": "python",
   "nbconvert_exporter": "python",
   "pygments_lexer": "ipython3",
   "version": "3.11.7"
  }
 },
 "nbformat": 4,
 "nbformat_minor": 5
}
