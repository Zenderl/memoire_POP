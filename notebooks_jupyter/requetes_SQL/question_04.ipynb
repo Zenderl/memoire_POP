{
 "cells": [
  {
   "cell_type": "markdown",
   "id": "517b67ac-4d2a-421b-a2eb-c0d6199b8977",
   "metadata": {},
   "source": [
    "Q4: évolution des candidatures féminines selon les époques et selon les types d'élection cette requête s'intéresse à toutes les candidatures que les femmes on pu effectuer suivant les périodes et les types d'élections. la temporalité s'étend de 1961-1980, avec des période de 10ans (3 périodes) \n",
    "besoin :\n",
    "table personne\n",
    ">nom/prénom\n",
    "ID\n",
    "genre\n",
    "\n",
    "table participation\n",
    ">fk_personne\n",
    "fk_evenement\n",
    "\n",
    "table événement\n",
    ">événement\n",
    "fk_type_E"
   ]
  },
  {
   "cell_type": "markdown",
   "id": "08717099-a72d-4b7a-a3bd-35cb57d114cc",
   "metadata": {},
   "source": [
    "4.1 en premier lieu, il s'agit de voir de manière globale la participation aux élections législatives"
   ]
  },
  {
   "cell_type": "code",
   "execution_count": 29,
   "id": "e6981726-a43e-4397-9c1e-3496fc27a0d3",
   "metadata": {},
   "outputs": [
    {
     "data": {
      "text/html": [
       "<div>\n",
       "<style scoped>\n",
       "    .dataframe tbody tr th:only-of-type {\n",
       "        vertical-align: middle;\n",
       "    }\n",
       "\n",
       "    .dataframe tbody tr th {\n",
       "        vertical-align: top;\n",
       "    }\n",
       "\n",
       "    .dataframe thead th {\n",
       "        text-align: right;\n",
       "    }\n",
       "</style>\n",
       "<table border=\"1\" class=\"dataframe\">\n",
       "  <thead>\n",
       "    <tr style=\"text-align: right;\">\n",
       "      <th></th>\n",
       "      <th>count_election</th>\n",
       "      <th>election</th>\n",
       "      <th>pourcentage</th>\n",
       "    </tr>\n",
       "  </thead>\n",
       "  <tbody>\n",
       "    <tr>\n",
       "      <th>0</th>\n",
       "      <td>217</td>\n",
       "      <td>election_parlement</td>\n",
       "      <td>94.347826</td>\n",
       "    </tr>\n",
       "    <tr>\n",
       "      <th>1</th>\n",
       "      <td>11</td>\n",
       "      <td>election_conseil_national</td>\n",
       "      <td>4.782609</td>\n",
       "    </tr>\n",
       "    <tr>\n",
       "      <th>2</th>\n",
       "      <td>2</td>\n",
       "      <td>election_conseil_des_etats</td>\n",
       "      <td>0.869565</td>\n",
       "    </tr>\n",
       "  </tbody>\n",
       "</table>\n",
       "</div>"
      ],
      "text/plain": [
       "   count_election                    election  pourcentage\n",
       "0             217          election_parlement    94.347826\n",
       "1              11   election_conseil_national     4.782609\n",
       "2               2  election_conseil_des_etats     0.869565"
      ]
     },
     "execution_count": 29,
     "metadata": {},
     "output_type": "execute_result"
    }
   ],
   "source": [
    "import sqlite3\n",
    "import pandas\n",
    "\n",
    "connection = sqlite3.connect('C:/Users/LZender/Documents/Travail/unine/histoire/mémoire/AEN/grand_conseil/memoire_POP/liste_grand_conseil.db')\n",
    "\n",
    "\n",
    "cursor = connection.cursor()\n",
    "\n",
    "df = pandas.read_sql(\"\"\"\n",
    "SELECT COUNT (pk_evenement) as count_election, e.nom as election FROM personne as pe\n",
    "LEFT JOIN participation as pa ON pa.fk_personne = pe.pk_personne\n",
    "LEFT JOIN evenement as e ON e.pk_evenement = pa.fk_evenement\n",
    "\n",
    "where e.pk_evenement is not null AND e.definition ='legislatif'\n",
    "group by pk_evenement\n",
    "order by count_election DESC\n",
    "\"\"\", connection)\n",
    "\n",
    "total= df['count_election'].sum()\n",
    "\n",
    "df['pourcentage']= df['count_election']/ total * 100.00\n",
    "\n",
    "df.head(1000)"
   ]
  },
  {
   "cell_type": "markdown",
   "id": "7f56d2eb-f2a8-4e1b-a29b-484ec73e6e30",
   "metadata": {},
   "source": [
    "IL MANQUE L'INSERTION DES DONNEES POUR LE CONSEIL GENERAL ET LE CONSEIL DES ETATS"
   ]
  },
  {
   "cell_type": "markdown",
   "id": "9f64e3e2-97c0-4c80-b45a-a0d67f07f17a",
   "metadata": {},
   "source": [
    "4.1 en premier lieu, il s'agit de voir de manière globale la participation aux élections"
   ]
  },
  {
   "cell_type": "markdown",
   "id": "f2f5c6ee-abe8-48b8-8ec2-4cf9dda58302",
   "metadata": {},
   "source": [
    "4.2 ensuite, l'analyse peut s'intéresser à la participation selon le genre"
   ]
  },
  {
   "cell_type": "markdown",
   "id": "04ece6d3-14ef-42a2-90d2-432723d7f068",
   "metadata": {},
   "source": [
    "4.2.1 participation aux élections des militantEs"
   ]
  },
  {
   "cell_type": "code",
   "execution_count": 30,
   "id": "e622e39c-45c9-464c-a0a8-ebe10fa8c6ad",
   "metadata": {},
   "outputs": [
    {
     "data": {
      "text/html": [
       "<div>\n",
       "<style scoped>\n",
       "    .dataframe tbody tr th:only-of-type {\n",
       "        vertical-align: middle;\n",
       "    }\n",
       "\n",
       "    .dataframe tbody tr th {\n",
       "        vertical-align: top;\n",
       "    }\n",
       "\n",
       "    .dataframe thead th {\n",
       "        text-align: right;\n",
       "    }\n",
       "</style>\n",
       "<table border=\"1\" class=\"dataframe\">\n",
       "  <thead>\n",
       "    <tr style=\"text-align: right;\">\n",
       "      <th></th>\n",
       "      <th>count_election</th>\n",
       "      <th>election</th>\n",
       "      <th>pourcentage</th>\n",
       "    </tr>\n",
       "  </thead>\n",
       "  <tbody>\n",
       "    <tr>\n",
       "      <th>0</th>\n",
       "      <td>42</td>\n",
       "      <td>election_parlement</td>\n",
       "      <td>89.361702</td>\n",
       "    </tr>\n",
       "    <tr>\n",
       "      <th>1</th>\n",
       "      <td>3</td>\n",
       "      <td>election_conseil_national</td>\n",
       "      <td>6.382979</td>\n",
       "    </tr>\n",
       "    <tr>\n",
       "      <th>2</th>\n",
       "      <td>2</td>\n",
       "      <td>election_conseil_des_etats</td>\n",
       "      <td>4.255319</td>\n",
       "    </tr>\n",
       "  </tbody>\n",
       "</table>\n",
       "</div>"
      ],
      "text/plain": [
       "   count_election                    election  pourcentage\n",
       "0              42          election_parlement    89.361702\n",
       "1               3   election_conseil_national     6.382979\n",
       "2               2  election_conseil_des_etats     4.255319"
      ]
     },
     "execution_count": 30,
     "metadata": {},
     "output_type": "execute_result"
    }
   ],
   "source": [
    "import sqlite3\n",
    "import pandas\n",
    "\n",
    "connection = sqlite3.connect('C:/Users/LZender/Documents/Travail/unine/histoire/mémoire/AEN/grand_conseil/memoire_POP/liste_grand_conseil.db')\n",
    "\n",
    "\n",
    "cursor = connection.cursor()\n",
    "\n",
    "df_F = pandas.read_sql(\"\"\"\n",
    "SELECT COUNT (pk_evenement) as count_election, e.nom as election FROM personne as pe\n",
    "LEFT JOIN participation as pa ON pa.fk_personne = pe.pk_personne\n",
    "LEFT JOIN evenement as e ON e.pk_evenement = pa.fk_evenement\n",
    "\n",
    "where e.pk_evenement is not null AND pe.genre='F' AND e.definition ='legislatif'\n",
    "group by pk_evenement\n",
    "order by count_election DESC\n",
    "\"\"\", connection)\n",
    "\n",
    "total= df_F['count_election'].sum()\n",
    "\n",
    "df_F['pourcentage']= df_F['count_election']/ total * 100.00\n",
    "\n",
    "df_F.head(1000)"
   ]
  },
  {
   "cell_type": "markdown",
   "id": "2b336594-b042-4225-9669-040ccbfafc6a",
   "metadata": {},
   "source": [
    "IL MANQUE L'INSERTION DES DONNEES POUR LE CONSEIL GENERAL"
   ]
  },
  {
   "cell_type": "markdown",
   "id": "c8ee072d-e138-4365-995f-1081b21eb2e2",
   "metadata": {},
   "source": [
    "4.2.2 participation aux élections des militants"
   ]
  },
  {
   "cell_type": "code",
   "execution_count": 31,
   "id": "67a8a117-e4b2-43aa-8da7-2272e402ef17",
   "metadata": {},
   "outputs": [
    {
     "data": {
      "text/html": [
       "<div>\n",
       "<style scoped>\n",
       "    .dataframe tbody tr th:only-of-type {\n",
       "        vertical-align: middle;\n",
       "    }\n",
       "\n",
       "    .dataframe tbody tr th {\n",
       "        vertical-align: top;\n",
       "    }\n",
       "\n",
       "    .dataframe thead th {\n",
       "        text-align: right;\n",
       "    }\n",
       "</style>\n",
       "<table border=\"1\" class=\"dataframe\">\n",
       "  <thead>\n",
       "    <tr style=\"text-align: right;\">\n",
       "      <th></th>\n",
       "      <th>count_election</th>\n",
       "      <th>election</th>\n",
       "      <th>pourcentage</th>\n",
       "    </tr>\n",
       "  </thead>\n",
       "  <tbody>\n",
       "    <tr>\n",
       "      <th>0</th>\n",
       "      <td>175</td>\n",
       "      <td>election_parlement</td>\n",
       "      <td>95.628415</td>\n",
       "    </tr>\n",
       "    <tr>\n",
       "      <th>1</th>\n",
       "      <td>8</td>\n",
       "      <td>election_conseil_national</td>\n",
       "      <td>4.371585</td>\n",
       "    </tr>\n",
       "  </tbody>\n",
       "</table>\n",
       "</div>"
      ],
      "text/plain": [
       "   count_election                   election  pourcentage\n",
       "0             175         election_parlement    95.628415\n",
       "1               8  election_conseil_national     4.371585"
      ]
     },
     "execution_count": 31,
     "metadata": {},
     "output_type": "execute_result"
    }
   ],
   "source": [
    "import sqlite3\n",
    "import pandas\n",
    "\n",
    "connection = sqlite3.connect('C:/Users/LZender/Documents/Travail/unine/histoire/mémoire/AEN/grand_conseil/memoire_POP/liste_grand_conseil.db')\n",
    "\n",
    "\n",
    "cursor = connection.cursor()\n",
    "\n",
    "df_M = pandas.read_sql(\"\"\"\n",
    "SELECT COUNT (pk_evenement) as count_election, e.nom as election FROM personne as pe\n",
    "LEFT JOIN participation as pa ON pa.fk_personne = pe.pk_personne\n",
    "LEFT JOIN evenement as e ON e.pk_evenement = pa.fk_evenement\n",
    "\n",
    "where e.pk_evenement is not null AND pe.genre='M' AND e.definition ='legislatif'\n",
    "group by pk_evenement\n",
    "order by count_election DESC\n",
    "\"\"\", connection)\n",
    "\n",
    "total= df_M['count_election'].sum()\n",
    "\n",
    "df_M['pourcentage']= df_M['count_election']/ total * 100.00\n",
    "\n",
    "df_M.head(1000)"
   ]
  },
  {
   "cell_type": "markdown",
   "id": "737ce5db-faee-4ce4-996b-2b51eeeebaad",
   "metadata": {},
   "source": [
    "IL MANQUE L'INSERTION DES DONNEES POUR LE CONSEIL GENERAL ET LE CONSEIL DES ETATS"
   ]
  },
  {
   "cell_type": "markdown",
   "id": "4cb57c33-c2b2-456c-8698-8320ef73684f",
   "metadata": {},
   "source": [
    "4.2.3 comparaison des pourcentages entre les genres"
   ]
  },
  {
   "cell_type": "code",
   "execution_count": 32,
   "id": "687a15a4-f1c8-446b-a299-dd5285d3b2df",
   "metadata": {},
   "outputs": [
    {
     "data": {
      "text/html": [
       "<div>\n",
       "<style scoped>\n",
       "    .dataframe tbody tr th:only-of-type {\n",
       "        vertical-align: middle;\n",
       "    }\n",
       "\n",
       "    .dataframe tbody tr th {\n",
       "        vertical-align: top;\n",
       "    }\n",
       "\n",
       "    .dataframe thead th {\n",
       "        text-align: right;\n",
       "    }\n",
       "</style>\n",
       "<table border=\"1\" class=\"dataframe\">\n",
       "  <thead>\n",
       "    <tr style=\"text-align: right;\">\n",
       "      <th></th>\n",
       "      <th>election</th>\n",
       "      <th>genre</th>\n",
       "      <th>count_participation</th>\n",
       "      <th>pourcentage</th>\n",
       "    </tr>\n",
       "  </thead>\n",
       "  <tbody>\n",
       "    <tr>\n",
       "      <th>0</th>\n",
       "      <td>election_conseil_national</td>\n",
       "      <td>M</td>\n",
       "      <td>8</td>\n",
       "      <td>72.727273</td>\n",
       "    </tr>\n",
       "    <tr>\n",
       "      <th>1</th>\n",
       "      <td>election_conseil_national</td>\n",
       "      <td>F</td>\n",
       "      <td>3</td>\n",
       "      <td>27.272727</td>\n",
       "    </tr>\n",
       "    <tr>\n",
       "      <th>2</th>\n",
       "      <td>election_conseil_des_etats</td>\n",
       "      <td>F</td>\n",
       "      <td>2</td>\n",
       "      <td>100.000000</td>\n",
       "    </tr>\n",
       "    <tr>\n",
       "      <th>3</th>\n",
       "      <td>election_parlement</td>\n",
       "      <td>M</td>\n",
       "      <td>175</td>\n",
       "      <td>80.645161</td>\n",
       "    </tr>\n",
       "    <tr>\n",
       "      <th>4</th>\n",
       "      <td>election_parlement</td>\n",
       "      <td>F</td>\n",
       "      <td>42</td>\n",
       "      <td>19.354839</td>\n",
       "    </tr>\n",
       "  </tbody>\n",
       "</table>\n",
       "</div>"
      ],
      "text/plain": [
       "                     election genre  count_participation  pourcentage\n",
       "0   election_conseil_national     M                    8    72.727273\n",
       "1   election_conseil_national     F                    3    27.272727\n",
       "2  election_conseil_des_etats     F                    2   100.000000\n",
       "3          election_parlement     M                  175    80.645161\n",
       "4          election_parlement     F                   42    19.354839"
      ]
     },
     "execution_count": 32,
     "metadata": {},
     "output_type": "execute_result"
    }
   ],
   "source": [
    "import sqlite3\n",
    "import pandas as pd\n",
    "\n",
    "connection = sqlite3.connect('C:/Users/LZender/Documents/Travail/unine/histoire/mémoire/AEN/grand_conseil/memoire_POP/liste_grand_conseil.db')\n",
    "\n",
    "df = pd.read_sql(\"\"\"\n",
    "SELECT \n",
    "    e.nom as election, \n",
    "    pe.genre, \n",
    "    COUNT(pk_evenement) AS count_participation\n",
    "FROM personne AS pe\n",
    "LEFT JOIN participation AS pa ON pa.fk_personne = pe.pk_personne\n",
    "LEFT JOIN evenement AS e ON e.pk_evenement = pa.fk_evenement\n",
    "WHERE e.pk_evenement IS NOT NULL AND e.definition ='legislatif'\n",
    "GROUP BY e.pk_evenement, pe.genre\n",
    "ORDER BY e.pk_evenement, count_participation DESC\n",
    "\"\"\", connection)\n",
    "\n",
    "df['total_election'] = df.groupby('election')['count_participation'].transform('sum')\n",
    "\n",
    "df['pourcentage'] = df['count_participation'] / df['total_election'] * 100.0\n",
    "\n",
    "df[['election', 'genre', 'count_participation', 'pourcentage']]"
   ]
  },
  {
   "cell_type": "markdown",
   "id": "3a1b88b1-d722-4f63-9356-660aec550939",
   "metadata": {},
   "source": [
    "IL MANQUE L'INSERTION DES DONNEES POUR LE CONSEIL GENERAL ET LE CONSEIL DES ETATS"
   ]
  }
 ],
 "metadata": {
  "kernelspec": {
   "display_name": "py311_data_analysis",
   "language": "python",
   "name": "py311_data_analysis"
  },
  "language_info": {
   "codemirror_mode": {
    "name": "ipython",
    "version": 3
   },
   "file_extension": ".py",
   "mimetype": "text/x-python",
   "name": "python",
   "nbconvert_exporter": "python",
   "pygments_lexer": "ipython3",
   "version": "3.11.7"
  }
 },
 "nbformat": 4,
 "nbformat_minor": 5
}
