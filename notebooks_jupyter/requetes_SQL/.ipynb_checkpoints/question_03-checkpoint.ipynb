{
 "cells": [
  {
   "cell_type": "markdown",
   "id": "03ebd2eb-f0b4-4ce7-b76d-c5d2f14b136c",
   "metadata": {},
   "source": [
    "Q3 PAS AU POINT\n",
    "\n",
    "relations familiales et conjugales cette requête permet de voir les liens familiaux entre les individus et définir si les femmes intègrent le parti avec/à cause de leur conjoint. cette requête peut au besoin intégrer une dimension temporelle en délimitant des périodes de 10ans (de 1944-1984, 4 périodes)\n",
    "\n",
    "table personne : \n",
    "> nom/prénom\n",
    "> ID\n",
    "> année d'adhésion\n",
    "> genre\n",
    "\n",
    "table relation\n",
    "> fk_personne1\n",
    "> fk_personne2\n",
    "> fk_type_R\n",
    "> \n",
    "type relation\n",
    ">type relation"
   ]
  },
  {
   "cell_type": "code",
   "execution_count": 17,
   "id": "eaed0868-305f-4bad-ac0b-c26c4adda5ec",
   "metadata": {},
   "outputs": [
    {
     "name": "stdout",
     "output_type": "stream",
     "text": [
      "   count_type_relation    definition  pourcentage\n",
      "0                  110  présenté_par    33.333333\n",
      "1                  108         marié    32.727273\n",
      "2                   46        enfant    13.939394\n",
      "3                   46        parent    13.939394\n",
      "4                   20      fraterie     6.060606\n"
     ]
    }
   ],
   "source": [
    "import sqlite3\n",
    "import pandas\n",
    "\n",
    "connection = sqlite3.connect('C:/Users/LZender/Documents/Travail/unine/histoire/mémoire/AEN/grand_conseil/memoire_POP/liste_grand_conseil.db')\n",
    "\n",
    "\n",
    "cursor = connection.cursor()\n",
    "\n",
    "df = pandas.read_sql(\"\"\"\n",
    "SELECT COUNT (pk_type_r) as count_type_relation, tr.definition  FROM personne as p\n",
    "LEFT JOIN relation as r ON  r.fk_personne1 = p.pk_personne or r.fk_personne2=p.pk_personne\n",
    "LEFT JOIN type_R  as tr ON tr.pk_type_r = r.fk_type_r\n",
    "\n",
    "where tr.pk_type_r is not null\n",
    "group by tr.pk_type_r\n",
    "order by count_type_relation DESC\n",
    "\"\"\", connection)\n",
    "\n",
    "total= df['count_type_relation'].sum()\n",
    "\n",
    "df['pourcentage']= df['count_type_relation']/ total * 100.00\n",
    "\n",
    "print(df.head(1000))"
   ]
  },
  {
   "cell_type": "code",
   "execution_count": null,
   "id": "9aec84fa-698e-493e-b600-6fbdd0e5f8fc",
   "metadata": {},
   "outputs": [],
   "source": []
  }
 ],
 "metadata": {
  "kernelspec": {
   "display_name": "py311_data_analysis",
   "language": "python",
   "name": "py311_data_analysis"
  },
  "language_info": {
   "codemirror_mode": {
    "name": "ipython",
    "version": 3
   },
   "file_extension": ".py",
   "mimetype": "text/x-python",
   "name": "python",
   "nbconvert_exporter": "python",
   "pygments_lexer": "ipython3",
   "version": "3.11.7"
  }
 },
 "nbformat": 4,
 "nbformat_minor": 5
}
