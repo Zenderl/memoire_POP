{
 "cells": [
  {
   "cell_type": "markdown",
   "id": "d4da4a87-493d-4e97-97af-fa977fdbf0b5",
   "metadata": {},
   "source": [
    "répartition socio-professionnelle des militant.e.s cette requête permet de s'intéresser aux environnements socio-professionnelle des militant.e.s. pour voir d'une part les professions des militantes selon les types définis. et ensuite voir les types suivant les genres "
   ]
  },
  {
   "cell_type": "code",
   "execution_count": 12,
   "id": "0bd959ff-cc68-498a-9cea-9d5d76df25d3",
   "metadata": {},
   "outputs": [
    {
     "name": "stdout",
     "output_type": "stream",
     "text": [
      "    count_type_metier genre               definition  pourcentage\n",
      "0                   9     F             santé_social     1.530612\n",
      "1                   1     F            droit_finance     0.170068\n",
      "2                  43     F           usine_batiment     7.312925\n",
      "3                  62     F               domestique    10.544218\n",
      "4                  30     F                education     5.102041\n",
      "5                   2     F          etude_formation     0.340136\n",
      "6                   4     F  restauration_hotellerie     0.680272\n",
      "7                  27     F         service_publique     4.591837\n",
      "8                  10     F           employe_bureau     1.700680\n",
      "9                  12     F          artisanat_vente     2.040816\n",
      "10                  4     F                   AVS-AI     0.680272\n",
      "11                  2     F               artistique     0.340136\n",
      "12                  1     F   impression_journalisme     0.170068\n",
      "13                  9     M             santé_social     1.530612\n",
      "14                  3     M            droit_finance     0.510204\n",
      "15                208     M           usine_batiment    35.374150\n",
      "16                  7     M               domestique     1.190476\n",
      "17                 47     M                education     7.993197\n",
      "18                  1     M          etude_formation     0.170068\n",
      "19                  6     M  restauration_hotellerie     1.020408\n",
      "20                  5     M              agriculture     0.850340\n",
      "21                 30     M         service_publique     5.102041\n",
      "22                  2     M           employe_bureau     0.340136\n",
      "23                 35     M          artisanat_vente     5.952381\n",
      "24                  6     M                   AVS-AI     1.020408\n",
      "25                  5     M               artistique     0.850340\n",
      "26                 12     M   impression_journalisme     2.040816\n",
      "27                  5     M                   autres     0.850340\n"
     ]
    }
   ],
   "source": [
    "import sqlite3\n",
    "import pandas\n",
    "\n",
    "connection = sqlite3.connect('C:/Users/LZender/Documents/Travail/unine/histoire/mémoire/AEN/grand_conseil/memoire_POP/liste_grand_conseil.db')\n",
    "\n",
    "\n",
    "cursor = connection.cursor()\n",
    "\n",
    "df = pandas.read_sql(\"\"\"\n",
    "SELECT COUNT (pk_type_M) as count_type_metier,  p.genre, tm.definition  FROM personne as p\n",
    "LEFT JOIN travaille as t ON t.fk_personne = p.pk_personne\n",
    "LEFT JOIN metier as m ON m.pk_metier = t.fk_metier\n",
    "LEFT JOIN type_M  as tm on tm.pk_type_M = m.fk_type_M\n",
    "\n",
    "where tm.pk_type_M is not null\n",
    "group by genre, pk_type_M\n",
    "\"\"\", connection)\n",
    "\n",
    "total= df['count_type_metier'].sum()\n",
    "\n",
    "df['pourcentage']= df['count_type_metier']/ total * 100.00\n",
    "\n",
    "print(df.head(1000))"
   ]
  },
  {
   "cell_type": "code",
   "execution_count": null,
   "id": "2a79bf2c-199a-4bfe-9431-15f417126965",
   "metadata": {},
   "outputs": [],
   "source": []
  }
 ],
 "metadata": {
  "kernelspec": {
   "display_name": "py311_data_analysis",
   "language": "python",
   "name": "py311_data_analysis"
  },
  "language_info": {
   "codemirror_mode": {
    "name": "ipython",
    "version": 3
   },
   "file_extension": ".py",
   "mimetype": "text/x-python",
   "name": "python",
   "nbconvert_exporter": "python",
   "pygments_lexer": "ipython3",
   "version": "3.11.7"
  }
 },
 "nbformat": 4,
 "nbformat_minor": 5
}
