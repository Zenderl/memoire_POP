{
 "cells": [
  {
   "cell_type": "markdown",
   "id": "d4da4a87-493d-4e97-97af-fa977fdbf0b5",
   "metadata": {},
   "source": [
    "Q2 : répartition socio-professionnelle des militant.e.s cette requête permet de s'intéresser aux environnements socio-professionnelle des militant.e.s. pour voir d'une part les professions des militantes selon les types définis. et ensuite voir les types suivant les genres "
   ]
  },
  {
   "cell_type": "markdown",
   "id": "aa343ee2-afcc-4741-9924-edaeffd910ed",
   "metadata": {},
   "source": [
    "2.1 en premier lieu, il s'agit de voir la répartition socio-professionnelle de manière globale"
   ]
  },
  {
   "cell_type": "code",
   "execution_count": 16,
   "id": "68844467-37f4-4430-a0c8-51ba07abf879",
   "metadata": {},
   "outputs": [
    {
     "name": "stdout",
     "output_type": "stream",
     "text": [
      "    count_type_metier               definition  pourcentage\n",
      "0                 251           usine_batiment    42.687075\n",
      "1                  77                education    13.095238\n",
      "2                  69               domestique    11.734694\n",
      "3                  57         service_publique     9.693878\n",
      "4                  47          artisanat_vente     7.993197\n",
      "5                  18             santé_social     3.061224\n",
      "6                  13   impression_journalisme     2.210884\n",
      "7                  12           employe_bureau     2.040816\n",
      "8                  10                   AVS-AI     1.700680\n",
      "9                  10  restauration_hotellerie     1.700680\n",
      "10                  7               artistique     1.190476\n",
      "11                  5                   autres     0.850340\n",
      "12                  5              agriculture     0.850340\n",
      "13                  4            droit_finance     0.680272\n",
      "14                  3          etude_formation     0.510204\n"
     ]
    }
   ],
   "source": [
    "import sqlite3\n",
    "import pandas\n",
    "\n",
    "connection = sqlite3.connect('C:/Users/LZender/Documents/Travail/unine/histoire/mémoire/AEN/grand_conseil/memoire_POP/liste_grand_conseil.db')\n",
    "\n",
    "\n",
    "cursor = connection.cursor()\n",
    "\n",
    "df = pandas.read_sql(\"\"\"\n",
    "SELECT COUNT (pk_type_M) as count_type_metier, tm.definition  FROM personne as p\n",
    "LEFT JOIN travaille as t ON t.fk_personne = p.pk_personne\n",
    "LEFT JOIN metier as m ON m.pk_metier = t.fk_metier\n",
    "LEFT JOIN type_M  as tm on tm.pk_type_M = m.fk_type_M\n",
    "\n",
    "where tm.pk_type_M is not null\n",
    "group by pk_type_M\n",
    "order by count_type_metier DESC\n",
    "\"\"\", connection)\n",
    "\n",
    "total= df['count_type_metier'].sum()\n",
    "\n",
    "df['pourcentage']= df['count_type_metier']/ total * 100.00\n",
    "\n",
    "print(df.head(1000))"
   ]
  },
  {
   "cell_type": "markdown",
   "id": "92b4542f-1462-4298-b3c5-73176f4bdbce",
   "metadata": {},
   "source": [
    "2.2.1 Répartition socio-professionnel des militantEs"
   ]
  },
  {
   "cell_type": "code",
   "execution_count": 15,
   "id": "0bd959ff-cc68-498a-9cea-9d5d76df25d3",
   "metadata": {},
   "outputs": [
    {
     "name": "stdout",
     "output_type": "stream",
     "text": [
      "    count_type_metier               definition  pourcentage\n",
      "0                  62               domestique    29.951691\n",
      "1                  43           usine_batiment    20.772947\n",
      "2                  30                education    14.492754\n",
      "3                  27         service_publique    13.043478\n",
      "4                  12          artisanat_vente     5.797101\n",
      "5                  10           employe_bureau     4.830918\n",
      "6                   9             santé_social     4.347826\n",
      "7                   4  restauration_hotellerie     1.932367\n",
      "8                   4                   AVS-AI     1.932367\n",
      "9                   2          etude_formation     0.966184\n",
      "10                  2               artistique     0.966184\n",
      "11                  1            droit_finance     0.483092\n",
      "12                  1   impression_journalisme     0.483092\n"
     ]
    }
   ],
   "source": [
    "import sqlite3\n",
    "import pandas\n",
    "\n",
    "connection = sqlite3.connect('C:/Users/LZender/Documents/Travail/unine/histoire/mémoire/AEN/grand_conseil/memoire_POP/liste_grand_conseil.db')\n",
    "\n",
    "\n",
    "cursor = connection.cursor()\n",
    "\n",
    "df = pandas.read_sql(\"\"\"\n",
    "SELECT COUNT (pk_type_M) as count_type_metier, tm.definition  FROM personne as p\n",
    "LEFT JOIN travaille as t ON t.fk_personne = p.pk_personne\n",
    "LEFT JOIN metier as m ON m.pk_metier = t.fk_metier\n",
    "LEFT JOIN type_M  as tm on tm.pk_type_M = m.fk_type_M\n",
    "\n",
    "where tm.pk_type_M is not null and genre ='F'\n",
    "group by genre, pk_type_M\n",
    "order by count_type_metier DESC\n",
    "\"\"\", connection)\n",
    "\n",
    "total= df['count_type_metier'].sum()\n",
    "\n",
    "df['pourcentage']= df['count_type_metier']/ total * 100.00\n",
    "\n",
    "print(df.head(1000))"
   ]
  },
  {
   "cell_type": "markdown",
   "id": "121242e2-b617-4588-9ff6-ec6f21b0b4c2",
   "metadata": {},
   "source": [
    "2.2.2 répartition socio-professionnelle des militants"
   ]
  },
  {
   "cell_type": "code",
   "execution_count": 13,
   "id": "83472dcf-d69e-46c8-bd5f-a901817c5d92",
   "metadata": {},
   "outputs": [
    {
     "name": "stdout",
     "output_type": "stream",
     "text": [
      "    count_type_metier               definition  pourcentage\n",
      "0                 208           usine_batiment    54.593176\n",
      "1                  47                education    12.335958\n",
      "2                  35          artisanat_vente     9.186352\n",
      "3                  30         service_publique     7.874016\n",
      "4                  12   impression_journalisme     3.149606\n",
      "5                   9             santé_social     2.362205\n",
      "6                   7               domestique     1.837270\n",
      "7                   6  restauration_hotellerie     1.574803\n",
      "8                   6                   AVS-AI     1.574803\n",
      "9                   5              agriculture     1.312336\n",
      "10                  5               artistique     1.312336\n",
      "11                  5                   autres     1.312336\n",
      "12                  3            droit_finance     0.787402\n",
      "13                  2           employe_bureau     0.524934\n",
      "14                  1          etude_formation     0.262467\n"
     ]
    }
   ],
   "source": [
    "import sqlite3\n",
    "import pandas\n",
    "\n",
    "connection = sqlite3.connect('C:/Users/LZender/Documents/Travail/unine/histoire/mémoire/AEN/grand_conseil/memoire_POP/liste_grand_conseil.db')\n",
    "\n",
    "\n",
    "cursor = connection.cursor()\n",
    "\n",
    "df = pandas.read_sql(\"\"\"\n",
    "SELECT COUNT (pk_type_M) as count_type_metier, tm.definition  FROM personne as p\n",
    "LEFT JOIN travaille as t ON t.fk_personne = p.pk_personne\n",
    "LEFT JOIN metier as m ON m.pk_metier = t.fk_metier\n",
    "LEFT JOIN type_M  as tm on tm.pk_type_M = m.fk_type_M\n",
    "\n",
    "where tm.pk_type_M is not null and genre ='M'\n",
    "group by genre, pk_type_M\n",
    "order by count_type_metier DESC\n",
    "\"\"\", connection)\n",
    "\n",
    "total= df['count_type_metier'].sum()\n",
    "\n",
    "df['pourcentage']= df['count_type_metier']/ total * 100.00\n",
    "\n",
    "print(df.head(1000))"
   ]
  },
  {
   "cell_type": "code",
   "execution_count": null,
   "id": "b1d76c01-e2bc-4c22-8703-1865eb68ec3d",
   "metadata": {},
   "outputs": [],
   "source": []
  }
 ],
 "metadata": {
  "kernelspec": {
   "display_name": "py311_data_analysis",
   "language": "python",
   "name": "py311_data_analysis"
  },
  "language_info": {
   "codemirror_mode": {
    "name": "ipython",
    "version": 3
   },
   "file_extension": ".py",
   "mimetype": "text/x-python",
   "name": "python",
   "nbconvert_exporter": "python",
   "pygments_lexer": "ipython3",
   "version": "3.11.7"
  }
 },
 "nbformat": 4,
 "nbformat_minor": 5
}
