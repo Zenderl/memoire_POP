{
 "cells": [
  {
   "cell_type": "markdown",
   "id": "03ebd2eb-f0b4-4ce7-b76d-c5d2f14b136c",
   "metadata": {},
   "source": [
    "Q3 relations familiales et conjugales cette requête permet de voir les liens familiaux entre les individus et définir si les femmes intègrent le parti avec/à cause de leur conjoint. cette requête peut au besoin intégrer une dimension temporelle en délimitant des périodes de 10ans (de 1944-1984, 4 périodes)\n",
    "\n",
    "table personne : \n",
    "> nom/prénom\n",
    "> ID\n",
    "> année d'adhésion\n",
    "> genre\n",
    "\n",
    "table relation\n",
    "> fk_personne1\n",
    "> fk_personne2\n",
    "> fk_type_R\n",
    "> \n",
    "type relation\n",
    ">type relation"
   ]
  },
  {
   "cell_type": "code",
   "execution_count": 14,
   "id": "0257ae4c-0189-4c00-abc3-dc7370bb63f2",
   "metadata": {},
   "outputs": [
    {
     "name": "stdout",
     "output_type": "stream",
     "text": [
      "Empty DataFrame\n",
      "Columns: [pk_personne, nom, prenom, genre, adhesion, date_de_mort, source, pk_relation, date, sources, fk_personne1, fk_type_r, fk_personne2, pk_type_r, definition, sources]\n",
      "Index: []\n"
     ]
    }
   ],
   "source": [
    "import sqlite3\n",
    "import pandas\n",
    "\n",
    "connection = sqlite3.connect('C:/Users/LZender/Documents/Travail/unine/histoire/mémoire/AEN/grand_conseil/memoire_POP/liste_grand_conseil.db')\n",
    "\n",
    "\n",
    "cursor = connection.cursor()\n",
    "\n",
    "df = pandas.read_sql(\"\"\"\n",
    "SELECT *  FROM personne as p\n",
    "LEFT JOIN relation as r ON  r.fk_personne1 = p.pk_personne and r.fk_personne2=p.pk_personne\n",
    "LEFT JOIN type_R  as tr ON tr.pk_type_r = r.fk_type_r\n",
    "\n",
    "where tr.pk_type_r is not null\n",
    "group by tr.pk_type_r\n",
    "\"\"\", connection)\n",
    "\n",
    "\n",
    "print(df.head(1000))"
   ]
  },
  {
   "cell_type": "code",
   "execution_count": 11,
   "id": "eaed0868-305f-4bad-ac0b-c26c4adda5ec",
   "metadata": {},
   "outputs": [
    {
     "name": "stdout",
     "output_type": "stream",
     "text": [
      "Empty DataFrame\n",
      "Columns: [count_type_relation, definition, pourcentage]\n",
      "Index: []\n"
     ]
    }
   ],
   "source": [
    "import sqlite3\n",
    "import pandas\n",
    "\n",
    "connection = sqlite3.connect('C:/Users/LZender/Documents/Travail/unine/histoire/mémoire/AEN/grand_conseil/memoire_POP/liste_grand_conseil.db')\n",
    "\n",
    "\n",
    "cursor = connection.cursor()\n",
    "\n",
    "df = pandas.read_sql(\"\"\"\n",
    "SELECT COUNT (pk_type_r) as count_type_relation, tr.definition  FROM personne as p\n",
    "LEFT JOIN relation as r ON  r.fk_personne1 = p.pk_personne and r.fk_personne2=p.pk_personne\n",
    "LEFT JOIN type_R  as tr ON tr.pk_type_r = r.fk_type_r\n",
    "\n",
    "where tr.pk_type_r is not null\n",
    "group by tr.pk_type_r\n",
    "order by count_type_relation DESC\n",
    "\"\"\", connection)\n",
    "\n",
    "total= df['count_type_relation'].sum()\n",
    "\n",
    "df['pourcentage']= df['count_type_relation']/ total * 100.00\n",
    "\n",
    "print(df.head(1000))"
   ]
  },
  {
   "cell_type": "code",
   "execution_count": null,
   "id": "1c1b9567-e9cf-4d1e-88c4-33bdbb930381",
   "metadata": {},
   "outputs": [],
   "source": []
  }
 ],
 "metadata": {
  "kernelspec": {
   "display_name": "py311_data_analysis",
   "language": "python",
   "name": "py311_data_analysis"
  },
  "language_info": {
   "codemirror_mode": {
    "name": "ipython",
    "version": 3
   },
   "file_extension": ".py",
   "mimetype": "text/x-python",
   "name": "python",
   "nbconvert_exporter": "python",
   "pygments_lexer": "ipython3",
   "version": "3.11.7"
  }
 },
 "nbformat": 4,
 "nbformat_minor": 5
}
