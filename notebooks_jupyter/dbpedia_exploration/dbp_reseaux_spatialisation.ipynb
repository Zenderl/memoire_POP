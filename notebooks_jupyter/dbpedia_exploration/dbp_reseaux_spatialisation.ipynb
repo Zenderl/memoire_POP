{
 "cells": [
  {
   "cell_type": "markdown",
   "id": "968f0e36-1667-48db-8fc5-cd38657c388d",
   "metadata": {},
   "source": [
    "# Relations avec les institutions et spatialisation"
   ]
  },
  {
   "cell_type": "code",
   "execution_count": null,
   "id": "262111d8-0efe-4698-9478-996484410989",
   "metadata": {},
   "outputs": [],
   "source": [
    "### Noter qu'il faudra avoir installé toutes les librairies nécessaires\n",
    "# dans l'environnement conda utilisé pour exécuter ce carnet\n",
    "import pandas as pd\n",
    "import geopandas as gpd\n",
    "from shapely.geometry import LineString\n",
    "from geopandas.tools import sjoin\n",
    "from geodatasets import get_path\n",
    "import networkx as nx\n",
    "import matplotlib.pyplot as plt\n",
    "import plotly.express as px\n",
    "from itables import init_notebook_mode, show\n",
    "import numpy as np\n",
    "import seaborn as sns\n",
    "import json\n",
    "import IPython"
   ]
  },
  {
   "cell_type": "markdown",
   "id": "1bd1f3ba-fc34-43de-9da8-c051edfa394b",
   "metadata": {},
   "source": [
    "## Production des données\n",
    "\n",
    "* Requête exécutée sur le serveur https://dbpedia.org/sparql \n",
    "* Période élargie jusqu'aux comtemporains-nes\n",
    "* Propriétés prises en compte après inspection des propriétés de la population:\n",
    "  * http://dbpedia.org/ontology/almaMater \n",
    "  * http://dbpedia.org/ontology/institution\n",
    "* On ajoute les coordonnées géographiques\n",
    "* Noter que la structure de la requête (sans clause OPTIONAL) exclut toutes les personnes pour lequelles une variable manque\n",
    "\n",
    "```SPARQL\n",
    "PREFIX dbr: <http://dbpedia.org/resource/>\n",
    "PREFIX dbp: <http://dbpedia.org/property/>\n",
    "PREFIX dbo: <http://dbpedia.org/ontology/>\n",
    "PREFIX rdfs:<http://www.w3.org/2000/01/rdf-schema#>\n",
    "SELECT DISTINCT (?o1 AS ?subject_uri) ?subjectBirthDate ?birthPlace ?birthPoint ?r_property ?organisation ?orgPoint\n",
    "# (COUNT(*) AS ?effectif) \n",
    "WHERE {\n",
    "  SELECT DISTINCT ?o1 ?subjectBirthDate  ?birthPlace ?birthPoint ?r_property ?organisation ?orgPoint\n",
    "  WHERE { \n",
    "    {\n",
    "          {dbr:List_of_astronomers ?p ?o1.}\n",
    "      UNION\n",
    "          {dbr:List_of_astrologers ?p ?o1.}\n",
    "      UNION\n",
    "          {?o1 ?p dbr:Astrologer.}\n",
    "      UNION\n",
    "          {?o1 ?p dbr:Astronomer.}\n",
    "      UNION\n",
    "          {?o1 ?p dbr:Mathematician.}\n",
    "    }\n",
    "    ?o1 a dbo:Person;\n",
    "      dbp:birthDate | dbo:birthDate ?subjectBirthDate;\n",
    "      dbo:birthPlace ?birthPlace.\n",
    "?birthPlace georss:point ?birthPoint;\n",
    "     a  dbo:Settlement.\n",
    "{\n",
    "        {?o1 dbo:almaMater ?organisation.\n",
    "     BIND('almaMater' AS ?r_property) }\n",
    "UNION  {?o1 dbo:institution ?organisation.\n",
    "     BIND('institution' AS ?r_property) }\n",
    "}\n",
    "?organisation  georss:point ?orgPoint.\n",
    "\n",
    "    BIND(xsd:integer(SUBSTR(STR(?subjectBirthDate), 1, 4)) AS ?birthYear)\n",
    "    FILTER ( (?birthYear >= 1451   ) )\n",
    " \n",
    "          }\n",
    "  ORDER BY ?birthYear\n",
    "  }\n",
    "\n",
    "```"
   ]
  },
  {
   "cell_type": "markdown",
   "id": "ae1b5c07-3f42-4dba-8bd5-fc0ef37c8c48",
   "metadata": {},
   "source": [
    "## Inspecter les données"
   ]
  },
  {
   "cell_type": "code",
   "execution_count": null,
   "id": "6a13caf5-10cf-42f1-adda-7832c7f60387",
   "metadata": {},
   "outputs": [],
   "source": [
    "### Ouvrir le fichier et créer un DataFrame\n",
    "fd = 'data/dbpedia_sparql_reseaux_spatialisation.csv'\n",
    "df = pd.read_csv(fd)\n",
    "len(df), df.head(2)"
   ]
  },
  {
   "cell_type": "code",
   "execution_count": null,
   "id": "4003f48b-13b6-4aaf-aadd-01af1bdcabac",
   "metadata": {},
   "outputs": [],
   "source": [
    "### Raccourcir l'URI, extraire l'année de naissance\n",
    "df['subject_uri'] = df['subject_uri'].apply(lambda x : x.replace('http://dbpedia.org/resource/', ''))\n",
    "df['organisation'] = df['organisation'].apply(lambda x : x.replace('http://dbpedia.org/resource/', ''))\n",
    "df['birthPlace'] = df['birthPlace'].apply(lambda x : x.replace('http://dbpedia.org/resource/', ''))\n",
    "df['BirthYear'] = df['subjectBirthDate'].apply(lambda x : int(x[:4]))"
   ]
  },
  {
   "cell_type": "code",
   "execution_count": null,
   "id": "88fbe2d6-bde6-4d45-9bc0-70a591667deb",
   "metadata": {},
   "outputs": [],
   "source": [
    "### Séparer longitude et latitude, arrondir\n",
    "df['latitudeBirth'] = df['birthPoint'].apply(lambda x : round(float((x.split(' ')[0])), 4))\n",
    "df['longitudeBirth'] = df['birthPoint'].apply(lambda x : round(float((x.split(' ')[1])), 4))\n",
    "df['latitudeOrg'] = df['orgPoint'].apply(lambda x : round(float((x.split(' ')[0])), 4))\n",
    "df['longitudeOrg'] = df['orgPoint'].apply(lambda x : round(float((x.split(' ')[1])), 4))\n",
    "df.head(2)"
   ]
  },
  {
   "cell_type": "code",
   "execution_count": null,
   "id": "b90dbdaa-e2aa-4dc5-9515-95b3b6cefb83",
   "metadata": {},
   "outputs": [],
   "source": [
    "### Inspecter le DataFrame\n",
    "df.info()"
   ]
  },
  {
   "cell_type": "code",
   "execution_count": null,
   "id": "7e6f8371-d4e2-425e-a376-e67424f3a3a8",
   "metadata": {},
   "outputs": [],
   "source": [
    "### Supprimer les colonnes inutiles\n",
    "df = df.drop(['subjectBirthDate','birthPoint', 'orgPoint'], axis=1)"
   ]
  },
  {
   "cell_type": "code",
   "execution_count": null,
   "id": "6608afdb-3547-4b9d-b79e-e0f97853be66",
   "metadata": {},
   "outputs": [],
   "source": [
    "### Inspecter les données\n",
    "df.describe()"
   ]
  },
  {
   "cell_type": "code",
   "execution_count": null,
   "id": "c81f13ad-ba31-43dc-bae6-7c416d18ce48",
   "metadata": {},
   "outputs": [],
   "source": [
    "### Inspecter les effectifs des propriétés\n",
    "df.groupby(by='r_property').size()"
   ]
  },
  {
   "cell_type": "code",
   "execution_count": null,
   "id": "48f6a51b-b640-4869-870c-bc42989cae08",
   "metadata": {},
   "outputs": [],
   "source": [
    "df.columns"
   ]
  },
  {
   "cell_type": "markdown",
   "id": "73efbca4-e746-4972-ac9c-81b6c7f73351",
   "metadata": {},
   "source": [
    "## Un premier affichage exploratoire\n",
    "\n",
    "On utilise la librairie GeoPandas qui apporte de nombreuses fonctionnalités SIG"
   ]
  },
  {
   "cell_type": "code",
   "execution_count": null,
   "id": "bc3edc56-1c7a-4ae4-98f3-81875ccc99a7",
   "metadata": {},
   "outputs": [],
   "source": [
    "### Créer un dataframe geopandas avec une colonne contenant une géométrie \n",
    "# https://geopandas.org/en/stable/gallery/create_geopandas_from_pandas.html\n",
    "birth_gdf = gpd.GeoDataFrame(\n",
    "    df[['subject_uri', 'BirthYear', 'birthPlace','latitudeBirth', 'longitudeBirth']],\\\n",
    "    geometry=gpd.points_from_xy(df.longitudeBirth, df.latitudeBirth), crs=\"EPSG:4326\"\n",
    ")\n",
    "\n",
    "birth_gdf.head(3)\n",
    "\n"
   ]
  },
  {
   "cell_type": "code",
   "execution_count": null,
   "id": "b6ffe84f-9010-4db4-8f0d-e1ce642f0775",
   "metadata": {},
   "outputs": [],
   "source": [
    "### Datasets Geopandas pour la couche de base\n",
    "gpd.datasets.available"
   ]
  },
  {
   "cell_type": "markdown",
   "id": "3a9f7685-fdd4-4f75-a8ff-9ee276fc7360",
   "metadata": {},
   "source": [
    "FutureWarning:\n",
    "\n",
    "The geopandas.dataset module is deprecated and will be removed in GeoPandas 1.0. You can get the original 'naturalearth_lowres' data from https://www.naturalearthdata.com/downloads/110m-cultural-vectors/."
   ]
  },
  {
   "cell_type": "code",
   "execution_count": null,
   "id": "ee464461-3c3f-408e-bf27-691f15559f13",
   "metadata": {},
   "outputs": [],
   "source": [
    "#world = gpd.read_file(get_path(\"naturalearth.land\"))\n",
    "world_filepath = gpd.datasets.get_path('naturalearth_lowres')\n",
    "world = gpd.read_file(world_filepath)\n",
    "world.head()"
   ]
  },
  {
   "cell_type": "code",
   "execution_count": null,
   "id": "d2114186-d256-4d78-a85d-5693dfd86afd",
   "metadata": {},
   "outputs": [],
   "source": [
    "### Projection de la géographie\n",
    "world.crs"
   ]
  },
  {
   "cell_type": "code",
   "execution_count": null,
   "id": "7b01ad01-8120-4324-b691-426b2642787e",
   "metadata": {},
   "outputs": [],
   "source": [
    "### Cartographier de toutes les naissances de personnes\n",
    "\n",
    "\n",
    "# If we want to restrict to South America.\n",
    "# world.clip([-90, -55, -25, 15])\n",
    "\n",
    "ax = world.plot(color=\"white\", edgecolor=\"black\", figsize=(40,30))\n",
    "\n",
    "# We can now plot our ``GeoDataFrame``.\n",
    "birth_gdf.plot(ax=ax, color=\"red\")\n",
    "\n",
    "plt.show()"
   ]
  },
  {
   "cell_type": "markdown",
   "id": "13cfa928-1857-42e4-ac08-0231b1750398",
   "metadata": {},
   "source": [
    "## Préparer et nettoyer les données\n"
   ]
  },
  {
   "cell_type": "markdown",
   "id": "7034c006-4aa8-4313-a1ff-91bef72ec620",
   "metadata": {},
   "source": [
    "### Les lieux de naissance"
   ]
  },
  {
   "cell_type": "code",
   "execution_count": null,
   "id": "acd5e712-9665-4fff-94e1-ef29ca17d33e",
   "metadata": {},
   "outputs": [],
   "source": [
    "df[['birthPlace', 'latitudeBirth', 'longitudeBirth']].head(2)"
   ]
  },
  {
   "cell_type": "code",
   "execution_count": null,
   "id": "a44ed8cd-b045-4a2c-81d2-edb322b23cc9",
   "metadata": {},
   "outputs": [],
   "source": [
    "### Regrouper par lieu de naissance\n",
    "df_lieux = pd.DataFrame(df.groupby(by=['birthPlace', 'latitudeBirth', 'longitudeBirth']).size())\n",
    "df_lieux.reset_index(inplace = True)\n",
    "df_lieux.columns=('birthPlace', 'latitude', 'longitude', 'effectif')\n",
    "df_lieux.sort_values(by='effectif', ascending=False).head()"
   ]
  },
  {
   "cell_type": "markdown",
   "id": "7c68ee4e-ddd0-42d6-a418-168b7ff6e37e",
   "metadata": {},
   "source": [
    "### Les géolocalisations des organisations"
   ]
  },
  {
   "cell_type": "code",
   "execution_count": null,
   "id": "af092d1b-095f-452c-a73e-3031661392c0",
   "metadata": {},
   "outputs": [],
   "source": [
    "df[['organisation','latitudeOrg', 'longitudeOrg']].head(2)"
   ]
  },
  {
   "cell_type": "code",
   "execution_count": null,
   "id": "24cfc162-9c54-4cb6-a0de-9f29bff9a148",
   "metadata": {},
   "outputs": [],
   "source": [
    "### Regrouper par siège d'organisation\n",
    "df_org = pd.DataFrame(df.groupby(by=['organisation','latitudeOrg', 'longitudeOrg']).size())\n",
    "df_org.reset_index(inplace = True)\n",
    "df_org.columns=('organisation', 'latitude', 'longitude', 'effectif')\n",
    "df_org.sort_values(by='effectif', ascending=False).head()"
   ]
  },
  {
   "cell_type": "markdown",
   "id": "9f8e59ff-4e14-4e4f-9494-0eb036cae8d5",
   "metadata": {},
   "source": [
    "### Traiter les doublons de personnes"
   ]
  },
  {
   "cell_type": "code",
   "execution_count": null,
   "id": "45ef2802-77da-4f28-9fbf-301be8527fa2",
   "metadata": {},
   "outputs": [],
   "source": [
    "### Regrouper et compter par personne, lieu de naissance, organisation\n",
    "\n",
    "person = pd.DataFrame(df.groupby(by=['subject_uri', 'BirthYear', 'birthPlace', 'r_property', 'organisation']).size())\n",
    "person.reset_index(inplace=True)\n",
    "person.columns = (\"subject_uri\",\"BirthYear\",\"birthPlace\", \"r_property\",\"organisation\", \"effectif\")\n",
    "#person.head()\n",
    "show(person.sort_values(by=\"effectif\",ascending=False))"
   ]
  },
  {
   "cell_type": "code",
   "execution_count": null,
   "id": "b05eed89-a00e-4bf9-8f7a-74be905691ab",
   "metadata": {},
   "outputs": [],
   "source": [
    "person.groupby(by=[\"subject_uri\"]).size().sort_values(ascending=False).head(8)"
   ]
  },
  {
   "cell_type": "code",
   "execution_count": null,
   "id": "f45f6502-2d48-43d3-9599-7031ee3e1fcc",
   "metadata": {
    "tags": []
   },
   "outputs": [],
   "source": [
    "df.loc[df.subject_uri==\"Franklin_E._Roach\"]"
   ]
  },
  {
   "cell_type": "code",
   "execution_count": null,
   "id": "ed140c67-4ccf-4e30-9439-54e75e5456bf",
   "metadata": {
    "scrolled": true,
    "tags": []
   },
   "outputs": [],
   "source": [
    "pp = pd.DataFrame(df.groupby(by=['subject_uri', 'BirthYear','r_property', 'organisation']).apply(lambda x : max(x.birthPlace)))\n",
    "pp.reset_index(inplace=True)\n",
    "pp.columns = (\"subject_uri\",\"birthYear\",\"r_property\", \"organisation\",\"birthPlace\")\n",
    "\n",
    "pp.head()"
   ]
  },
  {
   "cell_type": "code",
   "execution_count": null,
   "id": "b699d96f-e12e-48c8-b7af-e9c6e0927e69",
   "metadata": {},
   "outputs": [],
   "source": [
    "pp.groupby(by=[\"subject_uri\",\"birthPlace\"]).size().sort_values(ascending=False).head(8)"
   ]
  },
  {
   "cell_type": "code",
   "execution_count": null,
   "id": "84955a55-0a8a-49ad-a3c0-8634324bf866",
   "metadata": {},
   "outputs": [],
   "source": [
    "pp.loc[pp.subject_uri==\"Paul_Erdős\"]"
   ]
  },
  {
   "cell_type": "code",
   "execution_count": null,
   "id": "4412132b-d567-4c13-93a0-8ac6c551eb1a",
   "metadata": {},
   "outputs": [],
   "source": [
    "### On remarque qu'il n'y a plus de doublons à cause des lieux de naissance\n",
    "# que des valeur uniques pour ces trois éléments\n",
    "# La table pp contient donc les données nettoyées\n",
    "pp.groupby(by=[\"subject_uri\",\"birthYear\",\"r_property\", \"organisation\"]).size().sort_values(ascending=False).head(8)"
   ]
  },
  {
   "cell_type": "markdown",
   "id": "aaac3b97-0c59-4786-ba9a-b14c6c89eb96",
   "metadata": {
    "tags": []
   },
   "source": [
    "### Ajouter les périodes"
   ]
  },
  {
   "cell_type": "code",
   "execution_count": null,
   "id": "b8682976-0aab-4f02-b4cc-2d325b0d605f",
   "metadata": {},
   "outputs": [],
   "source": [
    "min(pp.birthYear), max(pp.birthYear)"
   ]
  },
  {
   "cell_type": "code",
   "execution_count": null,
   "id": "97f0bf5e-68d6-4d1e-9f43-0fcf0bbf2912",
   "metadata": {},
   "outputs": [],
   "source": [
    "### Violinplot : densité des naissances dans le temps\n",
    "#  https://mode.com/blog/violin-plot-examples/\n",
    "#  https://seaborn.pydata.org/generated/seaborn.violinplot.html#seaborn.violinplot\n",
    "\n",
    "sns.set_theme(style=\"whitegrid\")\n",
    "\n",
    "sns.set(rc={\"figure.figsize\":(14, 7)})\n",
    "\n",
    "a = pp.birthYear\n",
    "lim_left=min(a)\n",
    "lim_right=max(a)\n",
    "\n",
    "ax = sns.violinplot(x=a)\n",
    "\n",
    "### Noter que au delà des limites les valeurs sont coupées car postulées\n",
    "ax.set_xlim(left=lim_left, right=lim_right)"
   ]
  },
  {
   "cell_type": "code",
   "execution_count": null,
   "id": "a6e626ff-bf63-41ae-a0d1-88981d65a9e6",
   "metadata": {},
   "outputs": [],
   "source": [
    "### Choisir des points dans le temps\n",
    "# en fonction de la problématique ou heuristique\n",
    "cuts = [1451, 1801, 1851, 1901, 1951, 2001]"
   ]
  },
  {
   "cell_type": "code",
   "execution_count": null,
   "id": "a9914f24-2aef-46b3-af5b-a5c4bdef9336",
   "metadata": {},
   "outputs": [],
   "source": [
    "pp['cut'] = pd.cut(pp['birthYear'], bins=cuts, right=False )#, labels=cuts[:-1])\n",
    "pp.head(2)"
   ]
  },
  {
   "cell_type": "code",
   "execution_count": null,
   "id": "3ca2656b-f5f1-41c7-a22a-35864b5b321c",
   "metadata": {},
   "outputs": [],
   "source": [
    "pp['cut'] = pp['cut'].apply(lambda x : str(int(x.left))+'-'+ str(int(x.right)-1))\n",
    "pp['cut'][:2]"
   ]
  },
  {
   "cell_type": "code",
   "execution_count": null,
   "id": "d56aa486-4090-42ea-9287-7eee72849629",
   "metadata": {},
   "outputs": [],
   "source": [
    "### Distribution des naissances par période\n",
    "pd.DataFrame(pp.groupby(by=['cut']).size().reset_index(name='effectif'))"
   ]
  },
  {
   "cell_type": "markdown",
   "id": "06ba693b-b20d-46cf-8474-7f6f09c455d6",
   "metadata": {},
   "source": [
    "## Cartographier les naissances par périodes"
   ]
  },
  {
   "cell_type": "code",
   "execution_count": null,
   "id": "2f1d2b21-5897-4a52-b2a2-1cc14f81d3cb",
   "metadata": {},
   "outputs": [],
   "source": [
    "birth_period = pd.DataFrame(pp.groupby(by=['birthPlace', 'cut']).size().reset_index(name='effectif'))\n",
    "birth_period.columns=['birthPlace', 'year_begin', 'effectif']\n",
    "birth_period.head()"
   ]
  },
  {
   "cell_type": "code",
   "execution_count": null,
   "id": "6f3af439-6bcb-4324-aa68-72d8a3605c05",
   "metadata": {},
   "outputs": [],
   "source": [
    "### Ajouter les coordonnées des lieux de naissance \n",
    "bp_loc = pd.merge(birth_period, df_lieux, how='inner', left_on='birthPlace', \n",
    "                                     right_on='birthPlace', suffixes=('_periode', '_total')\n",
    "              )\n",
    "bp_loc.head()"
   ]
  },
  {
   "cell_type": "code",
   "execution_count": null,
   "id": "adbefbf2-57b1-40f6-96f3-4118a7e78433",
   "metadata": {
    "tags": []
   },
   "outputs": [],
   "source": [
    "# now just plot it on a map with evolution by time\n",
    "# https://plotly.com/python/animations/\n",
    "# https://plotly.com/python/scatter-plots-on-maps/\n",
    "\n",
    "# np.log(s) * 1000\n",
    "size = [s if s != 0 else 0 for s in bp_loc.effectif_periode]\n",
    "\n",
    "fig = px.scatter_geo(\n",
    "    bp_loc,\n",
    "    lat=\"latitude\",\n",
    "    lon=\"longitude\",\n",
    "    size=size,\n",
    "    hover_name = \"birthPlace\",\n",
    "    animation_frame=\"year_begin\",\n",
    "    width=1400, height=600,\n",
    "    color_discrete_sequence=['red'],\n",
    "    title=\"Evolution des lieux de naissance\"\n",
    ").update_layout(\n",
    "    #mapbox_style='stamen-watercolor',\n",
    "    #mapbox={\"style\": \"carto-positron\", \"zoom\":10},\n",
    "    margin={\"l\": 0, \"r\": 20, \"t\": 30, \"b\": 0}\n",
    "\n",
    ")\n",
    "\n",
    "### Enregistrer l'image, puis l'ouvrir dans un autre onglet du navigateur\n",
    "f_address = \"pictures/birth_places.html\"\n",
    "fig.write_html(f_address)\n",
    "fig.show()"
   ]
  },
  {
   "cell_type": "markdown",
   "id": "4cb2d978-587e-4a57-9900-6650fa0006f0",
   "metadata": {},
   "source": [
    "### Grouper et compter les naissances par État contemporain"
   ]
  },
  {
   "cell_type": "code",
   "execution_count": null,
   "id": "08131ab9-18b5-4221-b630-9087549e28e5",
   "metadata": {},
   "outputs": [],
   "source": [
    "### Polygones des États contemporains\n",
    "world.head()"
   ]
  },
  {
   "cell_type": "code",
   "execution_count": null,
   "id": "e52aa837-065c-4ce1-bb5c-a981121bcf33",
   "metadata": {},
   "outputs": [],
   "source": [
    "## Projection des polygones\n",
    "world.crs"
   ]
  },
  {
   "cell_type": "code",
   "execution_count": null,
   "id": "a7fbcc22-17a3-4a13-80f0-e7cfc004a6b2",
   "metadata": {},
   "outputs": [],
   "source": [
    "bp_loc.head()"
   ]
  },
  {
   "cell_type": "code",
   "execution_count": null,
   "id": "ae14d36c-fe98-420a-a366-0e655da008f8",
   "metadata": {},
   "outputs": [],
   "source": [
    "### Transformer les coordonnées géogr. en points\n",
    "bp_loc_gdf = gpd.GeoDataFrame(\n",
    "    bp_loc[['birthPlace', 'effectif_periode', 'year_begin']],\\\n",
    "    geometry=gpd.points_from_xy(bp_loc.longitude, bp_loc.latitude), crs=\"EPSG:4326\"\n",
    ")\n",
    "\n",
    "bp_loc_gdf.head(3)\n"
   ]
  },
  {
   "cell_type": "code",
   "execution_count": null,
   "id": "b0db7ca4-d1aa-4c8d-a028-788e84829141",
   "metadata": {},
   "outputs": [],
   "source": [
    "### Vérification\n",
    "bp_loc_gdf.loc[bp_loc_gdf['birthPlace']=='Fresno,_California']"
   ]
  },
  {
   "cell_type": "code",
   "execution_count": null,
   "id": "af61bc7d-2a33-4783-afd1-19b26a99a1c6",
   "metadata": {},
   "outputs": [],
   "source": [
    "### Projection des points :\n",
    "# doit être la même que celle des polygones \n",
    "bp_loc_gdf.crs"
   ]
  },
  {
   "cell_type": "code",
   "execution_count": null,
   "id": "35916a09-4814-4413-a02a-28d3c1bb9c4c",
   "metadata": {},
   "outputs": [],
   "source": [
    "### Jointure spatiale, par défault inner join\n",
    "# vérifie si un point se trouve dans un polygone \n",
    "# et ajoute le pays du polygone\n",
    "bp_loc_join = bp_loc_gdf.sjoin(world)"
   ]
  },
  {
   "cell_type": "code",
   "execution_count": null,
   "id": "3a4a5d18-41b4-464d-b756-a208224d77c5",
   "metadata": {},
   "outputs": [],
   "source": [
    "show(bp_loc_join.sort_values(by='year_begin'), classes=\"display\", scrollY=\"200px\", \n",
    "     scrollCollapse=True, paging=False, column_filters=\"footer\", dom=\"lrtip\")"
   ]
  },
  {
   "cell_type": "code",
   "execution_count": null,
   "id": "25d51c00-c8bc-49f5-b1bd-ed73a1be0631",
   "metadata": {},
   "outputs": [],
   "source": [
    "### Vérification\n",
    "bp_loc_join.loc[bp_loc_join['birthPlace']=='Fresno,_California']"
   ]
  },
  {
   "cell_type": "code",
   "execution_count": null,
   "id": "5e2c9d14-9ad0-4a45-84b4-54041880f743",
   "metadata": {},
   "outputs": [],
   "source": [
    "### Regrouper par pays et époque, additionner les effectifs\n",
    "birth_country = pd.DataFrame(bp_loc_join[['name', 'year_begin', 'effectif_periode', 'iso_a3']].groupby(by=['name','year_begin']).sum('effectif_periode').reset_index())\n",
    "birth_country.columns=['name', 'year_begin', 'somme_effectif']\n",
    "birth_country.head(10)"
   ]
  },
  {
   "cell_type": "code",
   "execution_count": null,
   "id": "aeb52962-d88c-4719-886f-7b2ae1302a67",
   "metadata": {},
   "outputs": [],
   "source": [
    "### Transformer en json\n",
    "countries_polygons = world[['name', 'geometry']]\n",
    "countries_polygons.index = countries_polygons['name']\n",
    "countries_polygons = countries_polygons.drop(['name'], axis=1)\n",
    "countries_polygons_json = json.loads(countries_polygons.to_json())\n",
    "countries_polygons.head()"
   ]
  },
  {
   "cell_type": "code",
   "execution_count": null,
   "id": "d1cc0428-7a25-4d28-abb0-26c7108e55f0",
   "metadata": {},
   "outputs": [],
   "source": [
    "### Le pays avec le plus de naissances par période\n",
    "birth_country[birth_country.somme_effectif==max(birth_country.somme_effectif)]"
   ]
  },
  {
   "cell_type": "code",
   "execution_count": null,
   "id": "d028b4fa-f86d-4ebb-9839-1d4642bfe4a7",
   "metadata": {},
   "outputs": [],
   "source": [
    "### Distribution des effectifs des naissances\n",
    "birth_country.somme_effectif.describe()"
   ]
  },
  {
   "cell_type": "code",
   "execution_count": null,
   "id": "94cf50c4-5f87-4107-8c6e-683ae2a6c0d2",
   "metadata": {},
   "outputs": [],
   "source": [
    "### Distribution dans le dernier quartile\n",
    "birth_country[birth_country.somme_effectif>6].somme_effectif.describe()"
   ]
  },
  {
   "cell_type": "code",
   "execution_count": null,
   "id": "228494dc-3566-4e35-88d2-8940cb585ded",
   "metadata": {
    "tags": []
   },
   "outputs": [],
   "source": [
    "# Représenter la densité de naissances de mathématiciens par pays\n",
    "# https://plotly.com/python/animations/\n",
    "# https://plotly.com/python-api-reference/generated/plotly.express.choropleth_mapbox.html\n",
    "# https://medium.com/@lucas_bromerchenkel/choropleth-maps-with-time-sliders-using-plotly-df6e19e5f90c\n",
    "\n",
    "# np.log(s) * 1000\n",
    "size = [s if s != 0 else 0 for s in bp_loc.effectif_periode]\n",
    "\n",
    "fig = px.choropleth_mapbox(\n",
    "    birth_country,\n",
    "    geojson=countries_polygons_json,\n",
    "    locations=\"name\",\n",
    "    color=\"somme_effectif\",\n",
    "    mapbox_style='white-bg',\n",
    "    zoom=1,\n",
    "    color_continuous_scale='blues',\n",
    "    ### valeur 20 définie en fonction de la distribution par pays\n",
    "    # expérimenter en changeant la valeur\n",
    "    range_color=(1, 20),\n",
    "    animation_frame=\"year_begin\",\n",
    "    width=1000, height=600,\n",
    "    title=\"Evolution des lieux de naissance\"\n",
    ").update_layout(\n",
    "    #mapbox={\"style\": \"carto-positron\", \"zoom\":10},\n",
    "    margin={\"l\": 0, \"r\": 0, \"t\": 30, \"b\": 0}\n",
    "\n",
    ")\n",
    "### Enregistrer l'image, puis l'ouvrir dans un autre onglet du navigateur\n",
    "f_address = \"pictures/birth_places_choropleth.html\"\n",
    "fig.write_html(f_address)\n",
    "\n",
    "fig.show()"
   ]
  },
  {
   "cell_type": "code",
   "execution_count": null,
   "id": "1959cd24-eb71-4d3d-af46-5492e21a7fb3",
   "metadata": {},
   "outputs": [],
   "source": []
  },
  {
   "cell_type": "code",
   "execution_count": null,
   "id": "cd360bb5-182b-4a22-9248-58355b287e17",
   "metadata": {},
   "outputs": [],
   "source": []
  },
  {
   "cell_type": "markdown",
   "id": "c598e205-7256-41ca-912f-8fb372e45154",
   "metadata": {
    "tags": []
   },
   "source": [
    "## Cartographier les organisations par périodes"
   ]
  },
  {
   "cell_type": "code",
   "execution_count": null,
   "id": "ff30ec4b-9240-403d-b300-852e49c06f54",
   "metadata": {},
   "outputs": [],
   "source": [
    "org_period = pd.DataFrame(pp.groupby(by=['organisation', 'cut']).size().reset_index(name='effectif'))\n",
    "org_period.columns=['organisation', 'year_begin', 'effectif']\n",
    "org_period.head()"
   ]
  },
  {
   "cell_type": "code",
   "execution_count": null,
   "id": "cf46d72b-5ddd-4a68-80f3-57db13751613",
   "metadata": {},
   "outputs": [],
   "source": [
    "### Ajouter les coordonnées des lieux de naissance \n",
    "org_loc = pd.merge(org_period, df_org, how='inner', left_on='organisation', \n",
    "                                     right_on='organisation', suffixes=('_periode', '_total')\n",
    "              )\n",
    "org_loc.head()"
   ]
  },
  {
   "cell_type": "code",
   "execution_count": null,
   "id": "73182de4-90c4-4b17-9935-bb9a837b59f9",
   "metadata": {
    "tags": []
   },
   "outputs": [],
   "source": [
    "# now just plot it on a map with evolution by time\n",
    "# https://plotly.com/python/animations/\n",
    "\n",
    "\n",
    "size = [s if s != 0 else 0 for s in org_loc.effectif_periode]\n",
    "\n",
    "px.scatter_geo(\n",
    "    org_loc,\n",
    "    lat=\"latitude\",\n",
    "    lon=\"longitude\",\n",
    "    size=size,\n",
    "    hover_name = \"organisation\",\n",
    "    animation_frame=\"year_begin\",\n",
    "    width=1200, height=600,\n",
    "    color_discrete_sequence=['red'], \n",
    "    title=\"Evolution des emplacements des organisations\" \n",
    ").update_layout(\n",
    "     mapbox={\"style\": \"carto-positron\", \"zoom\":11},\n",
    "    margin={\"l\": 0, \"r\": 20, \"t\": 30, \"b\": 0}\n",
    "\n",
    ")\n"
   ]
  },
  {
   "cell_type": "code",
   "execution_count": null,
   "id": "6e935d72-dcad-4c42-919c-b4ef6c9a4045",
   "metadata": {},
   "outputs": [],
   "source": []
  },
  {
   "cell_type": "code",
   "execution_count": null,
   "id": "76e43cb2-804b-42ff-b5c4-2f206c015d43",
   "metadata": {},
   "outputs": [],
   "source": []
  },
  {
   "cell_type": "markdown",
   "id": "96caf584-1b90-42ab-b037-f3b52b5fb2db",
   "metadata": {},
   "source": [
    "### Grouper et compter les appartenance aux organisations par État contemporain"
   ]
  },
  {
   "cell_type": "code",
   "execution_count": null,
   "id": "bbdf4398-81c0-47f2-a528-4863559b950f",
   "metadata": {},
   "outputs": [],
   "source": [
    "org_loc.head()"
   ]
  },
  {
   "cell_type": "code",
   "execution_count": null,
   "id": "a058aaff-8179-42e8-8027-7653463fb5c0",
   "metadata": {},
   "outputs": [],
   "source": [
    "### Transformer les coordonnées géogr. en points\n",
    "org_loc_gdf = gpd.GeoDataFrame(\n",
    "    org_loc[['organisation', 'effectif_periode', 'year_begin']],\\\n",
    "    geometry=gpd.points_from_xy(org_loc.longitude, org_loc.latitude), crs=\"EPSG:4326\"\n",
    ")\n",
    "\n",
    "org_loc_gdf.head(5)\n"
   ]
  },
  {
   "cell_type": "code",
   "execution_count": null,
   "id": "e7bc6d5b-0747-4882-a1dd-57e1b97d8c9b",
   "metadata": {},
   "outputs": [],
   "source": [
    "### Projection des points :\n",
    "# doit être la même que celle des polygones \n",
    "org_loc_gdf.crs"
   ]
  },
  {
   "cell_type": "code",
   "execution_count": null,
   "id": "1868e97f-d6b4-4b58-abd0-8053a0d99964",
   "metadata": {},
   "outputs": [],
   "source": [
    "### Jointure spatiale, par défault inner join\n",
    "# vérifie si un point se trouve dans un polygone \n",
    "# et ajoute le pays du polygone\n",
    "org_loc_join = org_loc_gdf.sjoin(world)"
   ]
  },
  {
   "cell_type": "code",
   "execution_count": null,
   "id": "cb740af7-65e7-41a4-a1f0-49fcbde7d987",
   "metadata": {},
   "outputs": [],
   "source": [
    "show(org_loc_join.sort_values(by='year_begin'), classes=\"display\", scrollY=\"200px\", \n",
    "     scrollCollapse=True, paging=False, column_filters=\"footer\", dom=\"lrtip\")"
   ]
  },
  {
   "cell_type": "code",
   "execution_count": null,
   "id": "cd8916f8-b8e5-49d9-8ab2-69740f26b1f6",
   "metadata": {},
   "outputs": [],
   "source": [
    "### Vérification\n",
    "org_loc_join.loc[org_loc_join['organisation']=='Indiana_University']"
   ]
  },
  {
   "cell_type": "code",
   "execution_count": null,
   "id": "9ed5496e-841e-4ad3-8a8f-e5cba5d16c34",
   "metadata": {},
   "outputs": [],
   "source": [
    "### Regrouper par pays et époque, additionner les effectifs\n",
    "org_country = pd.DataFrame(org_loc_join[['name', 'year_begin', 'effectif_periode', 'iso_a3']].groupby(by=['name', 'year_begin']).sum('effectif_periode').reset_index())\n",
    "org_country.columns=['name', 'year_begin', 'somme_effectif']\n",
    "org_country.head(10)"
   ]
  },
  {
   "cell_type": "code",
   "execution_count": null,
   "id": "0b46b71b-bad0-46fa-822a-7f4256a83ae3",
   "metadata": {},
   "outputs": [],
   "source": [
    "### Transformer en json\n",
    "\n",
    "# countries_polygons_json créé ci-dessus"
   ]
  },
  {
   "cell_type": "code",
   "execution_count": null,
   "id": "3c4998a4-27d6-4896-a87b-999cdfe9ec9f",
   "metadata": {},
   "outputs": [],
   "source": [
    "### Le pays avec le plus d'organisations par période\n",
    "org_country[org_country.somme_effectif==max(org_country.somme_effectif)]"
   ]
  },
  {
   "cell_type": "code",
   "execution_count": null,
   "id": "49dbbb29-55fd-4ed5-862e-7eff4e29b991",
   "metadata": {},
   "outputs": [],
   "source": [
    "### Distribution des effectifs des appartenances aux organisations\n",
    "org_country.somme_effectif.describe()"
   ]
  },
  {
   "cell_type": "code",
   "execution_count": null,
   "id": "87001309-c9e0-4cce-960c-a727d7ae2d94",
   "metadata": {},
   "outputs": [],
   "source": [
    "### Distribution dans le dernier quartile\n",
    "org_country[org_country.somme_effectif>6].somme_effectif.describe()"
   ]
  },
  {
   "cell_type": "code",
   "execution_count": null,
   "id": "b9d3d4a5-bd97-49ff-b251-d1b78889df9a",
   "metadata": {
    "tags": []
   },
   "outputs": [],
   "source": [
    "# Représenter la densité de naissances de mathématiciens par pays\n",
    "# https://plotly.com/python/animations/\n",
    "# https://plotly.com/python-api-reference/generated/plotly.express.choropleth_mapbox.html\n",
    "# https://medium.com/@lucas_bromerchenkel/choropleth-maps-with-time-sliders-using-plotly-df6e19e5f90c\n",
    "\n",
    "# np.log(s) * 1000\n",
    "size = [s if s != 0 else 0 for s in org_loc.effectif_periode]\n",
    "\n",
    "px.choropleth_mapbox(\n",
    "    org_country,\n",
    "    geojson=countries_polygons_json,\n",
    "    locations=\"name\",\n",
    "    color=\"somme_effectif\",\n",
    "\n",
    "    mapbox_style='white-bg',\n",
    "    zoom=1,\n",
    "    color_continuous_scale='reds',\n",
    "    ### valeur 20 définie en fonction de la distribution par pays\n",
    "    # expérimenter en changeant la valeur\n",
    "    range_color=(1, 35),\n",
    "    animation_frame=\"year_begin\",\n",
    "    width=1000, height=600,\n",
    "    title=\"Evolution des lieux de naissance\"\n",
    ").update_layout(\n",
    "    #mapbox={\"style\": \"carto-positron\", \"zoom\":10},\n",
    "    margin={\"l\": 0, \"r\": 0, \"t\": 30, \"b\": 0}\n",
    "\n",
    ")\n"
   ]
  },
  {
   "cell_type": "code",
   "execution_count": null,
   "id": "6ae9ee8f-782a-4ab3-99ed-6b6545f028dc",
   "metadata": {},
   "outputs": [],
   "source": []
  },
  {
   "cell_type": "code",
   "execution_count": null,
   "id": "bd589cbe-b804-47c8-8160-9b40ef8f9d41",
   "metadata": {},
   "outputs": [],
   "source": []
  },
  {
   "cell_type": "markdown",
   "id": "53e9b4e3-5713-4437-8c02-8c18fd342808",
   "metadata": {
    "tags": []
   },
   "source": [
    "## Créer les pairs d'organisations"
   ]
  },
  {
   "cell_type": "code",
   "execution_count": null,
   "id": "030537fc-a05e-46c9-aacb-60c6ab9e6c14",
   "metadata": {},
   "outputs": [],
   "source": [
    "### Reprendre la liste nettoyée des personnes\n",
    "pp.head()"
   ]
  },
  {
   "cell_type": "code",
   "execution_count": null,
   "id": "b7223aba-e2ea-4b1e-8256-6eb5bd02e48c",
   "metadata": {},
   "outputs": [],
   "source": [
    "### Reprendre la liste des organisations spatialisées\n",
    "org_loc_join.head()"
   ]
  },
  {
   "cell_type": "code",
   "execution_count": null,
   "id": "0df75909-db45-436f-80a9-ae19a062f469",
   "metadata": {},
   "outputs": [],
   "source": [
    "org_country = pd.DataFrame(org_loc_join.groupby(by=[\"organisation\", \"name\"]).sum(\"effectif_periode\"))\n",
    "org_country = org_country.reset_index()\n",
    "org_country = org_country.drop(columns=[\"index_right\", \"pop_est\", \"gdp_md_est\"])\n",
    "org_country.columns=[\"organisation\", \"name\", \"effectif_total\"]\n",
    "org_country.sort_values(by=\"effectif_total\", ascending=False ).head()"
   ]
  },
  {
   "cell_type": "code",
   "execution_count": null,
   "id": "a2e730bd-6f88-4229-a093-55573782b84e",
   "metadata": {},
   "outputs": [],
   "source": [
    "ppm = pd.merge(pp, org_country, left_on=\"organisation\", right_on=\"organisation\", suffixes=('_p', '_y'))\n",
    "ppm.head()"
   ]
  },
  {
   "cell_type": "code",
   "execution_count": null,
   "id": "971ea94b-e3bd-4dd6-998b-266b27f427c4",
   "metadata": {},
   "outputs": [],
   "source": []
  },
  {
   "cell_type": "code",
   "execution_count": null,
   "id": "1f672774-6891-4fb5-ac52-b38a3ec7e962",
   "metadata": {},
   "outputs": [],
   "source": [
    "[p for p in ppm.values][:2]"
   ]
  },
  {
   "cell_type": "code",
   "execution_count": null,
   "id": "8799cde4-85c0-4c47-b1e9-25e5441d0c06",
   "metadata": {},
   "outputs": [],
   "source": [
    "## Pairs d'organisations\n",
    "pairs_o = []\n",
    "\n",
    "for s1 in ppm.sort_values(by='organisation').values:\n",
    "    for s2 in ppm.sort_values(by='organisation').values:\n",
    "        if s1[3] < s2[3] \\\n",
    "            and s1[0] == s2[0]:\n",
    "                pairs_o.append([s1[3],s2[3], s1[5], s1[6], s2[6]])\n",
    "        else:\n",
    "            pass"
   ]
  },
  {
   "cell_type": "code",
   "execution_count": null,
   "id": "639f60b3-1006-4916-96b0-e8d7351473a0",
   "metadata": {},
   "outputs": [],
   "source": [
    "len(pairs_o), pairs_o[:2]"
   ]
  },
  {
   "cell_type": "code",
   "execution_count": null,
   "id": "a72e2fb9-3a6b-4480-9181-09fcd9a2be75",
   "metadata": {
    "tags": []
   },
   "outputs": [],
   "source": [
    "### Créér dataframe et compter\n",
    "liens_org = pd.DataFrame(pairs_o)\n",
    "liens_org.columns=('org_1', 'org_2', 'periode', 'etat_1', 'etat_2')\n",
    "liens_org.head()"
   ]
  },
  {
   "cell_type": "code",
   "execution_count": null,
   "id": "4dd7c27b-194c-4aa7-ac9a-4ee5140c4b05",
   "metadata": {},
   "outputs": [],
   "source": [
    "liens_org_grp = pd.DataFrame(liens_org.groupby(by=['org_1', 'org_2', 'periode']).size())\n",
    "liens_org_grp=liens_org_grp.reset_index()\n",
    "liens_org_grp.columns=['org_1', 'org_2', 'periode', 'effectif']\n",
    "liens_org_grp.sort_values(by='effectif', ascending=False).head()"
   ]
  },
  {
   "cell_type": "code",
   "execution_count": null,
   "id": "f4dfbf08-8dd7-4090-9c83-4350eacc769e",
   "metadata": {},
   "outputs": [],
   "source": []
  },
  {
   "cell_type": "code",
   "execution_count": null,
   "id": "1883ad4d-2f8d-4c29-b801-df76452e184c",
   "metadata": {},
   "outputs": [],
   "source": [
    "### Ajouter les coordonnées des lieux de naissance \n",
    "org_1_loc = pd.merge(liens_org_grp, df_org, how='inner', left_on='org_1', \n",
    "                                     right_on='organisation', suffixes=('_p', '_y')\n",
    "              )\n",
    "org_1_loc=org_1_loc.drop(columns=['organisation','effectif_y'])\n",
    "org_1_loc.head()"
   ]
  },
  {
   "cell_type": "code",
   "execution_count": null,
   "id": "61a7ce17-fc04-4af0-a1b3-4642efe7b480",
   "metadata": {},
   "outputs": [],
   "source": [
    "### Ajouter les coordonnées des lieux de naissance \n",
    "orgs_loc = pd.merge(org_1_loc, df_org, how='inner', left_on='org_2', \n",
    "                                     right_on='organisation', suffixes=('_1', '_2')\n",
    "              )\n",
    "orgs_loc=orgs_loc.drop(columns=['organisation','effectif'])\n",
    "orgs_loc.head()"
   ]
  },
  {
   "cell_type": "code",
   "execution_count": null,
   "id": "53415ddc-d3dd-4ca4-a251-e345b8e04e91",
   "metadata": {},
   "outputs": [],
   "source": [
    "orgs_loc['geometry'] = orgs_loc.apply(lambda x: LineString([(x['longitude_1'], x['latitude_1']) , (x['longitude_2'], x['latitude_2'])]), axis = 1)\n",
    "orgs_loc.head()"
   ]
  },
  {
   "cell_type": "code",
   "execution_count": null,
   "id": "d3032491-33ba-45a9-a0e2-fd42bf9d6e75",
   "metadata": {},
   "outputs": [],
   "source": [
    "orgs_loc.columns"
   ]
  },
  {
   "cell_type": "code",
   "execution_count": null,
   "id": "95e14816-5098-4b15-995b-7081bda3d058",
   "metadata": {},
   "outputs": [],
   "source": [
    "orgs_gdf = gpd.GeoDataFrame(\n",
    "    orgs_loc[['org_1', 'org_2','periode','effectif_p', 'geometry']]\n",
    ")\n",
    "\n",
    "orgs_gdf.head(3)"
   ]
  },
  {
   "cell_type": "code",
   "execution_count": null,
   "id": "2843698f-6e17-4791-b02a-cde1e602bee9",
   "metadata": {},
   "outputs": [],
   "source": [
    "orgs_gdf = orgs_gdf.set_geometry('geometry')\n",
    "orgs_gdf = orgs_gdf.set_crs('EPSG:4326')\n",
    "orgs_gdf.crs"
   ]
  },
  {
   "cell_type": "code",
   "execution_count": null,
   "id": "f9791a21-0efc-4bce-b570-be1471926dcd",
   "metadata": {},
   "outputs": [],
   "source": [
    "### Cartographier\n",
    "\n",
    "\n",
    "# If we want to restrict to South America.\n",
    "# world.clip([-90, -55, -25, 15])\n",
    "\n",
    "ax = world.plot(color=\"white\", edgecolor=\"black\", figsize=(40,30))\n",
    "\n",
    "# We can now plot our ``GeoDataFrame``.\n",
    "orgs_gdf.plot(ax=ax, color=\"red\")\n",
    "\n",
    "plt.show()"
   ]
  },
  {
   "cell_type": "code",
   "execution_count": null,
   "id": "bfd9634e-54bb-4a08-af43-b39e5afbfffb",
   "metadata": {},
   "outputs": [],
   "source": [
    "orgs_loc.head()"
   ]
  },
  {
   "cell_type": "code",
   "execution_count": null,
   "id": "5e49014c-a48e-443e-a631-a015bd3b77b0",
   "metadata": {},
   "outputs": [],
   "source": [
    "orgs_loc.columns"
   ]
  },
  {
   "cell_type": "code",
   "execution_count": null,
   "id": "4418103a-29f0-49f5-932b-3da5e052897e",
   "metadata": {},
   "outputs": [],
   "source": [
    "orgs_loc = orgs_loc.sort_values(by='periode')"
   ]
  },
  {
   "cell_type": "code",
   "execution_count": null,
   "id": "5ad9200d-b81c-4308-8ac9-dfb3275e5277",
   "metadata": {},
   "outputs": [],
   "source": [
    "#\n",
    "lats = []\n",
    "for s in orgs_loc.values:\n",
    "    lats.append(np.array(np.float64(s[4]), np.float64(s[6])))\n",
    "lats[:3]"
   ]
  },
  {
   "cell_type": "code",
   "execution_count": null,
   "id": "ef6c6f2d-d291-4e53-91bb-420c3a6a05c3",
   "metadata": {},
   "outputs": [],
   "source": [
    "#\n",
    "longs = []\n",
    "for s in orgs_loc.values:\n",
    "    longs.append(np.array(np.float64(s[5]), np.float64(s[7])))\n",
    "longs[:3]"
   ]
  },
  {
   "cell_type": "code",
   "execution_count": null,
   "id": "855c179f-c6f8-464b-bcb8-3f5f97824005",
   "metadata": {},
   "outputs": [],
   "source": [
    "#\n",
    "names = []\n",
    "for s in orgs_loc.values:\n",
    "    names.append(s[0]+ '_' + s[1])\n",
    "names[:3]"
   ]
  },
  {
   "cell_type": "code",
   "execution_count": null,
   "id": "a036f1bd-c110-4e0f-bd29-59506ae5f592",
   "metadata": {},
   "outputs": [],
   "source": [
    "#\n",
    "size = []\n",
    "for s in orgs_loc.values:\n",
    "    size.append(s[3])\n",
    "size[:3]"
   ]
  },
  {
   "cell_type": "code",
   "execution_count": null,
   "id": "a7d47c1e-5df7-46ad-a402-312e84b84391",
   "metadata": {},
   "outputs": [],
   "source": [
    "#\n",
    "periodes = []\n",
    "for s in orgs_loc.values:\n",
    "    periodes.append(s[2])\n",
    "periodes[:3]"
   ]
  },
  {
   "cell_type": "code",
   "execution_count": null,
   "id": "4b22787e-0f05-48d6-9c51-07f5a57e4b9c",
   "metadata": {
    "tags": []
   },
   "outputs": [],
   "source": [
    "# now just plot it on a map with evolution by time\n",
    "# https://plotly.com/python/animations/\n",
    "\n",
    "\n",
    "size = [s if s != 0 else 0 for s in org_loc.effectif_periode]\n",
    "\n",
    "size = [s if s != 0 else 0 for s in org_loc.effectif_periode]\n",
    "\n",
    "\"\"\"px.scatter_geo(\n",
    "    org_loc,\n",
    "    lat=\"latitude\",\n",
    "    lon=\"longitude\",\n",
    "    size=size,\n",
    "    hover_name = \"organisation\",\n",
    "    animation_frame=\"year_begin\",\n",
    "    width=1200, height=600,\n",
    "    color_discrete_sequence=['red'], \n",
    "    title=\"Evolution des emplacements des organisations\" \n",
    ")\"\"\"\n",
    "\n",
    "fig = px.line_geo(#data_frame=orgs_loc,\n",
    "            lat=lats, lon=longs, \n",
    "       # hover_name=names,\n",
    "    #size=size,\n",
    "    animation_frame=periodes,\n",
    "    width=1200, height=600,\n",
    "    color_discrete_sequence=['red'], \n",
    "    title=\"Evolution des emplacements des organisations\" \n",
    ").update_layout(\n",
    "     mapbox={\"style\": \"carto-positron\", \"zoom\":11},\n",
    "    margin={\"l\": 0, \"r\": 20, \"t\": 30, \"b\": 0}\n",
    "\n",
    ")\n",
    "\n",
    "### Enregistrer l'image, puis l'ouvrir dans un autre onglet du navigateur\n",
    "f_address = \"pictures/org_relationships.html\"\n",
    "fig.write_html(f_address)\n",
    "\n",
    "fig.show()"
   ]
  },
  {
   "cell_type": "markdown",
   "id": "b7676bb5-f6bf-4dd1-8a34-1efaece5dd81",
   "metadata": {},
   "source": [
    "### Observer plus finemenent"
   ]
  },
  {
   "cell_type": "code",
   "execution_count": null,
   "id": "5df2c454-378b-4cab-94db-ac6cb8681cf0",
   "metadata": {},
   "outputs": [],
   "source": [
    "liens_etat_grp = pd.DataFrame(liens_org.groupby(by=['etat_1', 'etat_2', 'periode']).size())\n",
    "liens_etat_grp=liens_etat_grp.reset_index()\n",
    "liens_etat_grp.columns=['etat_1', 'etat_2', 'periode', 'effectif']\n",
    "liens_etat_grp.sort_values(by='effectif', ascending=False).head()"
   ]
  },
  {
   "cell_type": "code",
   "execution_count": null,
   "id": "4ebac280-045f-4367-9991-2bb7d5ee7e55",
   "metadata": {},
   "outputs": [],
   "source": [
    "liens_etat_grp['relation'] = liens_etat_grp.apply(lambda x : x.etat_1 + \"-\" + x.etat_2, axis=1)\n",
    "liens_etat_grp.head()"
   ]
  },
  {
   "cell_type": "code",
   "execution_count": null,
   "id": "25503743-9544-45dc-83de-40c2a7f94141",
   "metadata": {},
   "outputs": [],
   "source": [
    "liste_relations = pd.DataFrame(liens_etat_grp.groupby(by='relation').sum('effectif'))\n",
    "liste_relations = liste_relations.reset_index()\n",
    "liste_relations.sort_values(by='effectif',ascending=False).head(10)"
   ]
  },
  {
   "cell_type": "code",
   "execution_count": null,
   "id": "e153d9fb-bd4f-4a49-afcc-35d3c0521276",
   "metadata": {},
   "outputs": [],
   "source": [
    "l_rel = list(liste_relations.relation)\n",
    "l_rel[:3]"
   ]
  },
  {
   "cell_type": "code",
   "execution_count": null,
   "id": "b2e77f20-24d6-40e6-b5e2-ed53ef8179f5",
   "metadata": {},
   "outputs": [],
   "source": [
    "### Distribution des naissances par période\n",
    "df_cut = pd.DataFrame(pp.groupby(by=['cut']).size().reset_index(name='effectif'))\n",
    "df_cut"
   ]
  },
  {
   "cell_type": "code",
   "execution_count": null,
   "id": "81dccf88-4d6c-4646-83de-afc650d6fb0f",
   "metadata": {},
   "outputs": [],
   "source": [
    "v_cut = list(df_cut.cut)\n",
    "v_cut"
   ]
  },
  {
   "cell_type": "code",
   "execution_count": null,
   "id": "53f963d5-f848-4df3-bba5-30f49b634afc",
   "metadata": {},
   "outputs": [],
   "source": [
    "toute_relation = []\n",
    "for r in l_rel:\n",
    "    for c in v_cut:\n",
    "        toute_relation.append([r,c])\n",
    "df_toute_rel = pd.DataFrame(toute_relation)\n",
    "df_toute_rel.columns = ('relation', 'periode')\n",
    "df_toute_rel.head(10)"
   ]
  },
  {
   "cell_type": "code",
   "execution_count": null,
   "id": "0222d2e1-9b9d-496b-9ec0-b3fc2b9db8ba",
   "metadata": {},
   "outputs": [],
   "source": [
    "merge_relations = pd.merge(df_toute_rel, liens_etat_grp[['periode', 'effectif', 'relation']], how='left',  left_on=['relation', 'periode'], right_on=['relation', 'periode'])\n",
    "merge_relations.head(10)"
   ]
  },
  {
   "cell_type": "code",
   "execution_count": null,
   "id": "2f88fd58-afda-4333-9467-d3d60aa6f926",
   "metadata": {},
   "outputs": [],
   "source": [
    "merge_relations.effectif = merge_relations.effectif.fillna(0)\n",
    "merge_relations.effectif= merge_relations.effectif.apply(lambda x : int(x))\n",
    "merge_relations.head(10)"
   ]
  },
  {
   "cell_type": "code",
   "execution_count": null,
   "id": "ff037bb8-1e96-48e2-a89d-09e813b0e6a0",
   "metadata": {},
   "outputs": [],
   "source": [
    "file_addr = 'data/merge_relations.csv'\n",
    "merge_relations.to_csv(file_addr)"
   ]
  },
  {
   "cell_type": "code",
   "execution_count": null,
   "id": "9dcbe2fd-3378-497d-86e1-e2c1a4dd2677",
   "metadata": {},
   "outputs": [],
   "source": [
    "show(merge_relations)"
   ]
  },
  {
   "cell_type": "code",
   "execution_count": null,
   "id": "50d5d5a7-50ec-4e66-93c1-8a23b97d0069",
   "metadata": {},
   "outputs": [],
   "source": [
    "list(merge_relations.sort_values(by='periode').periode.unique())"
   ]
  },
  {
   "cell_type": "code",
   "execution_count": null,
   "id": "b37f6740-63b4-4954-aa3f-0e44327db444",
   "metadata": {},
   "outputs": [],
   "source": [
    "### Explorer par des filtres Pandas\n",
    "liens_etat_grp[liens_etat_grp.periode==\"1451-1800\"].sort_values(by=[\"effectif\"],ascending=False).head(10)"
   ]
  },
  {
   "cell_type": "markdown",
   "id": "12c4a553-9c3d-4066-b92d-89db1e961651",
   "metadata": {},
   "source": [
    "### Création et utilisation d'une fonction d'affichage"
   ]
  },
  {
   "cell_type": "code",
   "execution_count": null,
   "id": "d2fc54fc-4483-4ff0-892b-d5109836d74a",
   "metadata": {},
   "outputs": [],
   "source": [
    "# generate the plot\n",
    "\n",
    "def generate_fig(df, country=None, load_image = False):\n",
    "    \n",
    "    if country:\n",
    "        dataframe = df[df.relation.str.contains(country)]\n",
    "    else:\n",
    "        dataframe = df\n",
    "    \n",
    "    fig = px.bar(\n",
    "        dataframe,\n",
    "        x=\"effectif\",\n",
    "        y=\"relation\",\n",
    "        base=\"relation\",\n",
    "        #color=\"effectif\",\n",
    "        #orientation=\"h\",\n",
    "        height= len(dataframe)*5,\n",
    "        width=1000,\n",
    "        animation_frame=\"periode\"\n",
    "\n",
    "    )\n",
    "\n",
    "    fig.update_layout(\n",
    "        margin=dict(l=2, r=100, t=0, b=5),\n",
    "        paper_bgcolor=\"LightSteelBlue\",\n",
    "        xaxis={\"range\":[0,list(merge_relations.effectif.quantile([0.99]))[0]]}\n",
    "#                        dataframe.effectif.max()]}\n",
    "    )\n",
    "    \n",
    "    ### enregistrer au format HTML et ouvrir comme page web\n",
    "    if country:\n",
    "        f_address = \"pictures/countries_relations_\" + country + \".html\"\n",
    "    else:\n",
    "        f_address = \"pictures/countries_relations.html\"\n",
    "    fig.write_html(f_address)\n",
    "\n",
    "    ### On n'affiche pas l'image directement mais on la sauvegarde dans un fichier,\n",
    "    # puis on affiche le fichier dans le carnet Jupyter avec l'instruction display.HMTL,\n",
    "    # cf. ci-dessous. On peut aussi ouvrir le fichier dans une autre fenêtre\n",
    "    \n",
    "    if load_image == False:\n",
    "        fig.show()\n",
    "    else:\n",
    "        i = IPython.display.HTML(filename=f_address)\n",
    "        return i\n",
    "\n"
   ]
  },
  {
   "cell_type": "code",
   "execution_count": null,
   "id": "a1244dc7-ec6a-4139-b7b1-98adf15f3f8b",
   "metadata": {},
   "outputs": [],
   "source": [
    "### inspecter le dataframe complet\n",
    "df = merge_relations\n",
    "generate_fig(df)"
   ]
  },
  {
   "cell_type": "code",
   "execution_count": null,
   "id": "2bd2fd70-c71b-48cb-adfa-cbce8e956848",
   "metadata": {},
   "outputs": [],
   "source": [
    "### Filtrer sur le nom d'un pays\n",
    "generate_fig(df, 'Italy', load_image=True)"
   ]
  }
 ],
 "metadata": {
  "kernelspec": {
   "display_name": "py310_data_analysis",
   "language": "python",
   "name": "py310_data_analysis"
  },
  "language_info": {
   "codemirror_mode": {
    "name": "ipython",
    "version": 3
   },
   "file_extension": ".py",
   "mimetype": "text/x-python",
   "name": "python",
   "nbconvert_exporter": "python",
   "pygments_lexer": "ipython3",
   "version": "3.10.9"
  }
 },
 "nbformat": 4,
 "nbformat_minor": 5
}
